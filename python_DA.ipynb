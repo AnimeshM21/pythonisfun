{
 "cells": [
  {
   "cell_type": "code",
   "execution_count": 7,
   "id": "fba477a7-504e-4240-b2a2-2c6e88d86c65",
   "metadata": {},
   "outputs": [],
   "source": [
    "#PYTHON FOR DATA ANALYSIS"
   ]
  },
  {
   "cell_type": "code",
   "execution_count": null,
   "id": "906e094b-074b-4edf-bf87-623b989f0f52",
   "metadata": {},
   "outputs": [],
   "source": []
  },
  {
   "cell_type": "code",
   "execution_count": null,
   "id": "4a74d517-968f-43fb-bd5b-326adb5cdf07",
   "metadata": {},
   "outputs": [],
   "source": []
  },
  {
   "cell_type": "code",
   "execution_count": 11,
   "id": "0c9425e7-d2f2-42ee-ad5d-0e49cc3b48aa",
   "metadata": {},
   "outputs": [],
   "source": [
    "import numpy as np"
   ]
  },
  {
   "cell_type": "code",
   "execution_count": 13,
   "id": "e7cbfe13-a7bf-45af-9333-655e74302499",
   "metadata": {},
   "outputs": [],
   "source": [
    "mylist = [1,2,3,4]"
   ]
  },
  {
   "cell_type": "code",
   "execution_count": 15,
   "id": "9466133c-62dc-4951-b5a5-99a07ecfb3b1",
   "metadata": {},
   "outputs": [],
   "source": [
    "myarray = np.array(mylist)"
   ]
  },
  {
   "cell_type": "code",
   "execution_count": 17,
   "id": "ccbd7be5-da70-4f5b-bc22-8303485a1dcb",
   "metadata": {},
   "outputs": [
    {
     "data": {
      "text/plain": [
       "array([1, 2, 3, 4])"
      ]
     },
     "execution_count": 17,
     "metadata": {},
     "output_type": "execute_result"
    }
   ],
   "source": [
    "myarray"
   ]
  },
  {
   "cell_type": "code",
   "execution_count": 19,
   "id": "057b5e67-9702-4cf6-80a0-308567952286",
   "metadata": {},
   "outputs": [],
   "source": [
    "mylist2 = [5,6,7,8]"
   ]
  },
  {
   "cell_type": "code",
   "execution_count": 21,
   "id": "4e8dc902-8b88-43ca-9e8c-eedec3c30e4c",
   "metadata": {},
   "outputs": [],
   "source": [
    "mylists = [mylist,mylist2]"
   ]
  },
  {
   "cell_type": "code",
   "execution_count": 23,
   "id": "a64f8b91-fa66-4963-9fb0-1398e7df90ce",
   "metadata": {},
   "outputs": [
    {
     "data": {
      "text/plain": [
       "[[1, 2, 3, 4], [5, 6, 7, 8]]"
      ]
     },
     "execution_count": 23,
     "metadata": {},
     "output_type": "execute_result"
    }
   ],
   "source": [
    "mylists"
   ]
  },
  {
   "cell_type": "code",
   "execution_count": 25,
   "id": "344e9f53-8e3f-4011-bcea-e8260e466bba",
   "metadata": {},
   "outputs": [],
   "source": [
    "myarray2 = np.array(mylists)"
   ]
  },
  {
   "cell_type": "code",
   "execution_count": 27,
   "id": "f4fe54b3-fbab-4976-aea5-a4d6e88e97ee",
   "metadata": {},
   "outputs": [
    {
     "data": {
      "text/plain": [
       "array([[1, 2, 3, 4],\n",
       "       [5, 6, 7, 8]])"
      ]
     },
     "execution_count": 27,
     "metadata": {},
     "output_type": "execute_result"
    }
   ],
   "source": [
    "myarray2"
   ]
  },
  {
   "cell_type": "code",
   "execution_count": 29,
   "id": "1e8f59fe-1971-4197-9583-00b38dac456e",
   "metadata": {},
   "outputs": [
    {
     "data": {
      "text/plain": [
       "(2, 4)"
      ]
     },
     "execution_count": 29,
     "metadata": {},
     "output_type": "execute_result"
    }
   ],
   "source": [
    "myarray2.shape"
   ]
  },
  {
   "cell_type": "code",
   "execution_count": 31,
   "id": "5fc11d4b-b640-4eb7-b69d-0707c0f118ea",
   "metadata": {},
   "outputs": [
    {
     "data": {
      "text/plain": [
       "dtype('int64')"
      ]
     },
     "execution_count": 31,
     "metadata": {},
     "output_type": "execute_result"
    }
   ],
   "source": [
    "myarray.dtype"
   ]
  },
  {
   "cell_type": "code",
   "execution_count": 33,
   "id": "4b7375b8-0d48-4f40-aeed-98ba673d4412",
   "metadata": {},
   "outputs": [],
   "source": [
    "myzeros = np.zeros(5)"
   ]
  },
  {
   "cell_type": "code",
   "execution_count": 35,
   "id": "b20a8b94-3bc4-46ae-aa05-f03a2ccef8f1",
   "metadata": {},
   "outputs": [
    {
     "data": {
      "text/plain": [
       "dtype('float64')"
      ]
     },
     "execution_count": 35,
     "metadata": {},
     "output_type": "execute_result"
    }
   ],
   "source": [
    "myzeros.dtype"
   ]
  },
  {
   "cell_type": "code",
   "execution_count": 37,
   "id": "4851399e-da93-46b8-9667-5ecab1461a18",
   "metadata": {},
   "outputs": [
    {
     "data": {
      "text/plain": [
       "array([0. , 0.5, 1. , 1.5, 2. ])"
      ]
     },
     "execution_count": 37,
     "metadata": {},
     "output_type": "execute_result"
    }
   ],
   "source": [
    "np.empty(5)"
   ]
  },
  {
   "cell_type": "code",
   "execution_count": 39,
   "id": "6aec42ca-ae3a-4415-b11d-a9e5640fa1b5",
   "metadata": {},
   "outputs": [
    {
     "data": {
      "text/plain": [
       "array([[1., 0., 0., 0., 0.],\n",
       "       [0., 1., 0., 0., 0.],\n",
       "       [0., 0., 1., 0., 0.],\n",
       "       [0., 0., 0., 1., 0.],\n",
       "       [0., 0., 0., 0., 1.]])"
      ]
     },
     "execution_count": 39,
     "metadata": {},
     "output_type": "execute_result"
    }
   ],
   "source": [
    "np.eye(5)"
   ]
  },
  {
   "cell_type": "code",
   "execution_count": 41,
   "id": "c7da1f70-e4cc-4be2-aacf-cf7f0ac7cbed",
   "metadata": {},
   "outputs": [
    {
     "data": {
      "text/plain": [
       "array([0, 1, 2, 3, 4])"
      ]
     },
     "execution_count": 41,
     "metadata": {},
     "output_type": "execute_result"
    }
   ],
   "source": [
    "np.arange(5)"
   ]
  },
  {
   "cell_type": "code",
   "execution_count": 43,
   "id": "de18c9ce-fb2b-4773-809c-1320d63c7c5d",
   "metadata": {},
   "outputs": [
    {
     "data": {
      "text/plain": [
       "array([ 5,  7,  9, 11, 13, 15, 17, 19, 21, 23, 25, 27, 29, 31, 33, 35, 37,\n",
       "       39, 41, 43, 45, 47, 49])"
      ]
     },
     "execution_count": 43,
     "metadata": {},
     "output_type": "execute_result"
    }
   ],
   "source": [
    "np.arange(5,50,2)"
   ]
  },
  {
   "cell_type": "code",
   "execution_count": 45,
   "id": "0d88e282-ff61-47fd-8e37-bf4cbdace820",
   "metadata": {},
   "outputs": [
    {
     "data": {
      "text/plain": [
       "2.5"
      ]
     },
     "execution_count": 45,
     "metadata": {},
     "output_type": "execute_result"
    }
   ],
   "source": [
    "5/2"
   ]
  },
  {
   "cell_type": "code",
   "execution_count": 47,
   "id": "8f9888f2-b320-4af7-8db6-1d999b27269c",
   "metadata": {},
   "outputs": [],
   "source": [
    "array = np.array([[1,2,3,4],[8,9,10,11]])"
   ]
  },
  {
   "cell_type": "code",
   "execution_count": 49,
   "id": "93031af3-402b-4f77-8f1b-0c9789b4fa30",
   "metadata": {},
   "outputs": [
    {
     "data": {
      "text/plain": [
       "array([[ 1,  2,  3,  4],\n",
       "       [ 8,  9, 10, 11]])"
      ]
     },
     "execution_count": 49,
     "metadata": {},
     "output_type": "execute_result"
    }
   ],
   "source": [
    "array"
   ]
  },
  {
   "cell_type": "code",
   "execution_count": 51,
   "id": "18b7e52a-c355-410e-8450-2ff370d4c405",
   "metadata": {},
   "outputs": [
    {
     "data": {
      "text/plain": [
       "array([[  1,   4,   9,  16],\n",
       "       [ 64,  81, 100, 121]])"
      ]
     },
     "execution_count": 51,
     "metadata": {},
     "output_type": "execute_result"
    }
   ],
   "source": [
    "array * array"
   ]
  },
  {
   "cell_type": "code",
   "execution_count": 53,
   "id": "5c00bc42-774d-4ba1-be15-2b39018fed1c",
   "metadata": {},
   "outputs": [
    {
     "data": {
      "text/plain": [
       "array([[0, 0, 0, 0],\n",
       "       [0, 0, 0, 0]])"
      ]
     },
     "execution_count": 53,
     "metadata": {},
     "output_type": "execute_result"
    }
   ],
   "source": [
    "array - array"
   ]
  },
  {
   "cell_type": "code",
   "execution_count": 55,
   "id": "cf177468-e0bf-4829-b6f4-361175849199",
   "metadata": {},
   "outputs": [
    {
     "data": {
      "text/plain": [
       "array([[1.        , 0.5       , 0.33333333, 0.25      ],\n",
       "       [0.125     , 0.11111111, 0.1       , 0.09090909]])"
      ]
     },
     "execution_count": 55,
     "metadata": {},
     "output_type": "execute_result"
    }
   ],
   "source": [
    "1 / array"
   ]
  },
  {
   "cell_type": "code",
   "execution_count": 57,
   "id": "54902b29-94c2-418e-9d42-c5ff8e31ada4",
   "metadata": {},
   "outputs": [
    {
     "data": {
      "text/plain": [
       "array([[   1,    8,   27,   64],\n",
       "       [ 512,  729, 1000, 1331]])"
      ]
     },
     "execution_count": 57,
     "metadata": {},
     "output_type": "execute_result"
    }
   ],
   "source": [
    "array ** 3"
   ]
  },
  {
   "cell_type": "code",
   "execution_count": 59,
   "id": "3c8f8d8e-1556-4223-af16-c2de10cea7d8",
   "metadata": {},
   "outputs": [],
   "source": [
    "#indexing arrays"
   ]
  },
  {
   "cell_type": "code",
   "execution_count": 61,
   "id": "e0945d04-17ef-4eee-9e23-09ceb6549a37",
   "metadata": {},
   "outputs": [],
   "source": [
    "import numpy as np"
   ]
  },
  {
   "cell_type": "code",
   "execution_count": 65,
   "id": "7d829411-a004-456d-ae91-905b681cce2f",
   "metadata": {},
   "outputs": [],
   "source": [
    "arr = np.arange(0,11)"
   ]
  },
  {
   "cell_type": "code",
   "execution_count": 81,
   "id": "de8831e9-f19a-4794-9894-0a171ce077e3",
   "metadata": {},
   "outputs": [
    {
     "data": {
      "text/plain": [
       "array([ 0,  1,  2,  3,  4,  5,  6,  7,  8,  9, 10])"
      ]
     },
     "execution_count": 81,
     "metadata": {},
     "output_type": "execute_result"
    }
   ],
   "source": [
    "arr"
   ]
  },
  {
   "cell_type": "code",
   "execution_count": 85,
   "id": "2feb8ba9-d290-48ee-b2e6-a25008b6eb48",
   "metadata": {},
   "outputs": [
    {
     "data": {
      "text/plain": [
       "array([0, 1, 2, 3, 4])"
      ]
     },
     "execution_count": 85,
     "metadata": {},
     "output_type": "execute_result"
    }
   ],
   "source": [
    "arr[0:5]"
   ]
  },
  {
   "cell_type": "code",
   "execution_count": 87,
   "id": "2d44bea5-14bb-403e-9eab-76fe29082555",
   "metadata": {},
   "outputs": [],
   "source": [
    "arr[0:5] = 100"
   ]
  },
  {
   "cell_type": "raw",
   "id": "59cd41e8-98e5-48be-86a3-5b18f4e12020",
   "metadata": {},
   "source": []
  },
  {
   "cell_type": "code",
   "execution_count": 89,
   "id": "d0d1257c-b20c-44d2-ab2f-778e666aaacb",
   "metadata": {},
   "outputs": [
    {
     "data": {
      "text/plain": [
       "array([100, 100, 100, 100, 100,   5,   6,   7,   8,   9,  10])"
      ]
     },
     "execution_count": 89,
     "metadata": {},
     "output_type": "execute_result"
    }
   ],
   "source": [
    "arr"
   ]
  },
  {
   "cell_type": "code",
   "execution_count": 93,
   "id": "875f1664-42a1-4c9f-bf0f-12488aca8b19",
   "metadata": {},
   "outputs": [],
   "source": [
    "slicearr = arr[0:6]"
   ]
  },
  {
   "cell_type": "code",
   "execution_count": 95,
   "id": "7fc1af8e-5250-491e-bde5-3636896f6645",
   "metadata": {},
   "outputs": [
    {
     "data": {
      "text/plain": [
       "array([100, 100, 100, 100, 100,   5])"
      ]
     },
     "execution_count": 95,
     "metadata": {},
     "output_type": "execute_result"
    }
   ],
   "source": [
    "slicearr"
   ]
  },
  {
   "cell_type": "code",
   "execution_count": 97,
   "id": "8d4a9fac-fa5c-47d8-b087-a81d0eb30ccc",
   "metadata": {},
   "outputs": [],
   "source": [
    "slicearr[0:5] = 99"
   ]
  },
  {
   "cell_type": "code",
   "execution_count": 99,
   "id": "eba9fad5-f9d0-4165-a5a6-e260238b6e99",
   "metadata": {},
   "outputs": [
    {
     "data": {
      "text/plain": [
       "array([99, 99, 99, 99, 99,  5,  6,  7,  8,  9, 10])"
      ]
     },
     "execution_count": 99,
     "metadata": {},
     "output_type": "execute_result"
    }
   ],
   "source": [
    "arr"
   ]
  },
  {
   "cell_type": "code",
   "execution_count": 103,
   "id": "985da3ce-89b4-439e-8e9f-17564c44bdc1",
   "metadata": {},
   "outputs": [],
   "source": [
    "# In Numpy there is only one-copy of the array and changing a slice of the array will also effect the orignal array"
   ]
  },
  {
   "cell_type": "code",
   "execution_count": 105,
   "id": "e79c5d8e-629f-4b34-9c66-b918f28a8460",
   "metadata": {},
   "outputs": [],
   "source": [
    "# To avoid this we have to exclusively create a copy of the array and make changes to it"
   ]
  },
  {
   "cell_type": "code",
   "execution_count": 107,
   "id": "a1600ccb-ecf1-4f9d-beaf-2040c4363b90",
   "metadata": {},
   "outputs": [],
   "source": [
    "arr_copy = arr.copy()"
   ]
  },
  {
   "cell_type": "code",
   "execution_count": 120,
   "id": "aea792ff-1328-48ad-83ff-a2d20b4852ab",
   "metadata": {},
   "outputs": [],
   "source": [
    "arr_copy = slicearr"
   ]
  },
  {
   "cell_type": "code",
   "execution_count": 124,
   "id": "791927a3-f881-449b-be4b-9de3639fc0a2",
   "metadata": {},
   "outputs": [],
   "source": [
    "arr_copy[0:6]=  98"
   ]
  },
  {
   "cell_type": "code",
   "execution_count": 126,
   "id": "5d1c89c9-559f-41e6-8ce3-414185ce940f",
   "metadata": {},
   "outputs": [
    {
     "data": {
      "text/plain": [
       "array([98, 98, 98, 98, 98, 98,  6,  7,  8,  9, 10])"
      ]
     },
     "execution_count": 126,
     "metadata": {},
     "output_type": "execute_result"
    }
   ],
   "source": [
    "arr"
   ]
  },
  {
   "cell_type": "code",
   "execution_count": 128,
   "id": "4948bfda-688a-477f-aba2-bd8e327fdaf7",
   "metadata": {},
   "outputs": [
    {
     "data": {
      "text/plain": [
       "array([98, 98, 98, 98, 98, 98])"
      ]
     },
     "execution_count": 128,
     "metadata": {},
     "output_type": "execute_result"
    }
   ],
   "source": [
    "slicearr"
   ]
  },
  {
   "cell_type": "code",
   "execution_count": 130,
   "id": "2ea2c1ee-1588-4089-acbf-c33ccda97835",
   "metadata": {},
   "outputs": [
    {
     "data": {
      "text/plain": [
       "array([98, 98, 98, 98, 98, 98])"
      ]
     },
     "execution_count": 130,
     "metadata": {},
     "output_type": "execute_result"
    }
   ],
   "source": [
    "arr_copy\n"
   ]
  },
  {
   "cell_type": "code",
   "execution_count": 134,
   "id": "91511f0f-c990-466c-a8f5-857e70ad1661",
   "metadata": {},
   "outputs": [
    {
     "data": {
      "text/plain": [
       "array([[ 1,  2,  3],\n",
       "       [ 5,  6,  7],\n",
       "       [ 8,  9, 10]])"
      ]
     },
     "execution_count": 134,
     "metadata": {},
     "output_type": "execute_result"
    }
   ],
   "source": [
    "arr2d = np.array(([1,2,3],[5,6,7],[8,9,10]))\n",
    "\n",
    "arr2d"
   ]
  },
  {
   "cell_type": "code",
   "execution_count": 140,
   "id": "64119cf1-ca94-4456-89bb-e4a3f3534351",
   "metadata": {},
   "outputs": [
    {
     "data": {
      "text/plain": [
       "5"
      ]
     },
     "execution_count": 140,
     "metadata": {},
     "output_type": "execute_result"
    }
   ],
   "source": [
    "arr_2d[1][0] \n",
    "# array[row][col]"
   ]
  },
  {
   "cell_type": "code",
   "execution_count": null,
   "id": "336d53cb-92b7-4728-94b9-722376fa7ebc",
   "metadata": {},
   "outputs": [],
   "source": [
    "arr2d["
   ]
  },
  {
   "cell_type": "code",
   "execution_count": null,
   "id": "f80f0c90-681d-48b2-ac92-96a9ca82b544",
   "metadata": {},
   "outputs": [],
   "source": []
  },
  {
   "cell_type": "code",
   "execution_count": null,
   "id": "82818dd3-c42e-4651-b0a4-c910833c5699",
   "metadata": {},
   "outputs": [],
   "source": []
  },
  {
   "cell_type": "code",
   "execution_count": null,
   "id": "9ecf6527-9896-4f74-abd4-72ac4be4a7e5",
   "metadata": {},
   "outputs": [],
   "source": []
  },
  {
   "cell_type": "code",
   "execution_count": null,
   "id": "cdc1345b-770f-4f19-80dc-9df8f056fd45",
   "metadata": {},
   "outputs": [],
   "source": []
  },
  {
   "cell_type": "code",
   "execution_count": null,
   "id": "bb1779a0-96fb-402d-a27d-2abfc5ef76f0",
   "metadata": {},
   "outputs": [],
   "source": []
  }
 ],
 "metadata": {
  "kernelspec": {
   "display_name": "Python 3 (ipykernel)",
   "language": "python",
   "name": "python3"
  },
  "language_info": {
   "codemirror_mode": {
    "name": "ipython",
    "version": 3
   },
   "file_extension": ".py",
   "mimetype": "text/x-python",
   "name": "python",
   "nbconvert_exporter": "python",
   "pygments_lexer": "ipython3",
   "version": "3.11.8"
  }
 },
 "nbformat": 4,
 "nbformat_minor": 5
}
