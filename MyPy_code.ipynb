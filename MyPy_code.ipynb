{
 "cells": [
  {
   "cell_type": "code",
   "execution_count": null,
   "id": "d3d0a590-4077-48d5-8d6b-03560dd28ccd",
   "metadata": {},
   "outputs": [],
   "source": [
    "    def user_choice():\n",
    "    choice = \"WRONG\"\n",
    "    acceptable_values = range(0,10)\n",
    "    within_range = False\n",
    "    \n",
    "    \n",
    "    while choice.isdigit() == False or within_range == False:\n",
    "         \n",
    "        choice = input(\"Please enter a number between 1 and 10\")\n",
    "        \n",
    "        if choice.isdigit() == False:\n",
    "            print(\"Sorry this is not a digit!!\")\n",
    "            \n",
    "        if choice.isdigit() == True:\n",
    "            if int(choice) in acceptable_values:\n",
    "                within_range = True\n",
    "            else:\n",
    "                print(\"Sorry you are out of the acceptable range\")\n",
    "                within_range = False\n",
    "    return int(choice)"
   ]
  },
  {
   "cell_type": "markdown",
   "id": "b690a7b1-ffed-43e3-9f0a-f0258ae2432a",
   "metadata": {},
   "source": [
    "## user_choice()\n"
   ]
  },
  {
   "cell_type": "code",
   "execution_count": null,
   "id": "e8b994aa-203c-405c-bc22-d0b317fa5b74",
   "metadata": {},
   "outputs": [],
   "source": [
    "user_choice()\n"
   ]
  },
  {
   "cell_type": "code",
   "execution_count": null,
   "id": "826d2583-90ec-45f9-9672-af26bced70a6",
   "metadata": {},
   "outputs": [],
   "source": [
    "row1 = [' ',' ',' ']\n",
    "row2 = [' ',' ',' ']\n",
    "row3 = [' ',' ',' ']"
   ]
  },
  {
   "cell_type": "code",
   "execution_count": null,
   "id": "b626aea6-5041-48e2-9fcc-4ed037172690",
   "metadata": {},
   "outputs": [],
   "source": [
    "\n",
    "def display(x,y,z):\n",
    "    print(x)\n",
    "    print(y)\n",
    "    print(z)"
   ]
  },
  {
   "cell_type": "code",
   "execution_count": null,
   "id": "07b6e38c-b4f9-4c94-b8c8-23874c3dde1c",
   "metadata": {},
   "outputs": [],
   "source": [
    "display(row1,row2,row3)\n"
   ]
  },
  {
   "cell_type": "code",
   "execution_count": null,
   "id": "0c27f575-5afe-4b82-b036-4dc106cc82b7",
   "metadata": {},
   "outputs": [],
   "source": [
    "row2[1] = 'X'"
   ]
  },
  {
   "cell_type": "code",
   "execution_count": null,
   "id": "601d733e-ffcd-4386-bb14-4bd121d6a878",
   "metadata": {},
   "outputs": [],
   "source": [
    "input(\"Please enter a value\")\n"
   ]
  },
  {
   "cell_type": "code",
   "execution_count": null,
   "id": "a0d2a0fa-cca9-4acb-9cd0-05ca6c382d5c",
   "metadata": {},
   "outputs": [],
   "source": [
    "row1[0] = int(input(\"Please enter a value at pos-7\"))"
   ]
  },
  {
   "cell_type": "code",
   "execution_count": null,
   "id": "da39fab5-51ce-4062-8195-cc3af8f58c27",
   "metadata": {},
   "outputs": [],
   "source": [
    "row1[1] = int(input(\"Please enter a value at pos-8\"))"
   ]
  },
  {
   "cell_type": "code",
   "execution_count": null,
   "id": "d7d92dd7-63a5-4752-81b1-eec0a455bd92",
   "metadata": {},
   "outputs": [],
   "source": [
    "row1[2] = int(input(\"Please enter a value at pos-9\"))"
   ]
  },
  {
   "cell_type": "code",
   "execution_count": null,
   "id": "1b783992-a14f-4268-8a11-570026599785",
   "metadata": {},
   "outputs": [],
   "source": [
    "display(row1,row2,row3)"
   ]
  },
  {
   "cell_type": "code",
   "execution_count": null,
   "id": "49530967-f619-4ef0-8711-5761dace75e7",
   "metadata": {},
   "outputs": [],
   "source": [
    "row2[0] = int(input(\"Please enter a value at pos-4\"))\n",
    "row2[1] = int(input(\"Please enter a value at pos-5\"))\n",
    "row2[2] = int(input(\"Please enter a value at pos-6\"))"
   ]
  },
  {
   "cell_type": "code",
   "execution_count": null,
   "id": "090908d0-ef4d-4027-8a0d-c873906fdb3a",
   "metadata": {},
   "outputs": [],
   "source": [
    "display(row1,row2,row3)\n"
   ]
  },
  {
   "cell_type": "code",
   "execution_count": null,
   "id": "7e747389-3db6-4958-9e0c-85cab3dc9a12",
   "metadata": {},
   "outputs": [],
   "source": [
    "row3[0] = int(input(\"Please enter a value at pos-1\"))\n",
    "row3[1] = int(input(\"Please enter a value at pos-2\"))\n",
    "row3[2] = int(input(\"Please enter a value at pos-3\"))"
   ]
  },
  {
   "cell_type": "code",
   "execution_count": null,
   "id": "c4000a14-c530-492a-ab89-f962c3510760",
   "metadata": {},
   "outputs": [],
   "source": [
    "display(row1,row2,row3)"
   ]
  },
  {
   "cell_type": "code",
   "execution_count": null,
   "id": "d405fc50-4814-4686-a8a6-f46cca5d6263",
   "metadata": {},
   "outputs": [],
   "source": [
    "my_list = [1,2,3,4,5]\n",
    "\n",
    "def user_choice():\n",
    "    choice = \"WRONG\"\n",
    "    acceptable_values = range(0,10)\n",
    "    within_range = False\n",
    "    \n",
    "     \n",
    "    while choice.isdigit() == False or within_range == False :\n",
    "        pos = input(\"Enter index position at which you want this number\")\n",
    "        choice = input(\"Please enter a number between 1 and 10\")\n",
    "        \n",
    "        if choice.isdigit() == False :\n",
    "            print(\"Sorry this is not a digit!!\")\n",
    "            \n",
    "        if choice.isdigit() == True :\n",
    "            if int(choice) in acceptable_values:\n",
    "                within_range = True\n",
    "            else:\n",
    "                print(\"Sorry you are out of the acceptable range\")\n",
    "                within_range = False\n",
    "    ls_pos = int(pos)\n",
    "    user_choice = int(choice)\n",
    "    my_list[ls_pos] = user_choice\n",
    "    playcont()\n",
    "    return my_list\n",
    "    \n",
    "\n"
   ]
  },
  {
   "cell_type": "code",
   "execution_count": null,
   "id": "f5009d30-0bc6-4dce-87fa-56d3bd625e67",
   "metadata": {},
   "outputs": [],
   "source": [
    "def playcont():\n",
    "    option = 'wrong'\n",
    "  \n",
    "    while option not in ['Y' , 'N']:\n",
    "\n",
    "        option = input(\"Enter Y to continue playing and N to end the game\")\n",
    "\n",
    "        if option not in ['Y' , 'N']:\n",
    "            clear_output()\n",
    "\n",
    "            print(\"Enter either Y or N\")\n",
    "\n",
    "    if option == 'Y':\n",
    "        print(my_list)\n",
    "        user_choice()\n",
    "        \n",
    "    else:\n",
    "        return my_list\n",
    "\n",
    "    "
   ]
  },
  {
   "cell_type": "code",
   "execution_count": null,
   "id": "2030191f-8467-4345-8f0a-481ed0149fab",
   "metadata": {},
   "outputs": [],
   "source": [
    "user_choice()\n"
   ]
  },
  {
   "cell_type": "code",
   "execution_count": null,
   "id": "c5107ee5-2ad0-4295-85b8-71a6ba72bd83",
   "metadata": {},
   "outputs": [],
   "source": [
    "# Object Oriented programming"
   ]
  },
  {
   "cell_type": "code",
   "execution_count": null,
   "id": "784f6492-95db-49c8-8847-37db7ea55b03",
   "metadata": {},
   "outputs": [],
   "source": [
    "class Dog():\n",
    "    #Class Object Attribute which is same for any instance of the class\n",
    "    \n",
    "    species = 'mammal'\n",
    "    def __init__(self,breed,age):\n",
    "        self.breed = breed\n",
    "        self.age = age\n",
    "\n",
    "    def bark(self):\n",
    "        print('Woof. I am {} years old'.format(self.age))"
   ]
  },
  {
   "cell_type": "code",
   "execution_count": null,
   "id": "7c119d28-ebc4-4ffc-81cd-ff1f6fb00ef4",
   "metadata": {},
   "outputs": [],
   "source": [
    "my_dog = Dog(breed = 'lab', age = 20)"
   ]
  },
  {
   "cell_type": "code",
   "execution_count": null,
   "id": "800c8c4a-1a55-47d6-951c-fa3bff401599",
   "metadata": {},
   "outputs": [],
   "source": [
    "my_dog.breed\n",
    "\n"
   ]
  },
  {
   "cell_type": "code",
   "execution_count": null,
   "id": "efd23893-f145-48f2-a434-d5e59b3029ad",
   "metadata": {},
   "outputs": [],
   "source": [
    "my_dog.species"
   ]
  },
  {
   "cell_type": "code",
   "execution_count": null,
   "id": "08fd998c-710b-4801-8c14-5580a212054f",
   "metadata": {},
   "outputs": [],
   "source": [
    "my_dog.bark()\n"
   ]
  },
  {
   "cell_type": "code",
   "execution_count": null,
   "id": "bee6b55a-7737-45e7-b713-3086ee688c7b",
   "metadata": {},
   "outputs": [],
   "source": [
    "\n",
    "class Circle():\n",
    "    pi = 3.141\n",
    "    def __init__(self,radius=1):\n",
    "        self.radius = radius\n",
    "        self.area = radius * radius * self.pi\n",
    "    #Method\n",
    "    def circumference(self):\n",
    "        return self.radius * self.pi * 2\n",
    "        "
   ]
  },
  {
   "cell_type": "code",
   "execution_count": null,
   "id": "361feeb7-3192-48b7-b54e-31707b8a5fff",
   "metadata": {},
   "outputs": [],
   "source": [
    "my_circle = Circle(9)"
   ]
  },
  {
   "cell_type": "code",
   "execution_count": null,
   "id": "91174f8b-123a-4408-83bf-60cfdcf4b713",
   "metadata": {},
   "outputs": [],
   "source": [
    "my_circle.pi"
   ]
  },
  {
   "cell_type": "code",
   "execution_count": null,
   "id": "bb6ed97e-64aa-4de6-b457-bbd73d4007a0",
   "metadata": {},
   "outputs": [],
   "source": [
    "my_circle.radius"
   ]
  },
  {
   "cell_type": "code",
   "execution_count": null,
   "id": "a4cdda1a-f5ae-4e46-bcfe-a84513acd7b1",
   "metadata": {},
   "outputs": [],
   "source": [
    "my_circle.circumference()"
   ]
  },
  {
   "cell_type": "code",
   "execution_count": null,
   "id": "a3491008-fb67-41f5-9496-af9b67664dd5",
   "metadata": {},
   "outputs": [],
   "source": [
    "my_circle.area"
   ]
  },
  {
   "cell_type": "code",
   "execution_count": null,
   "id": "652a6696",
   "metadata": {},
   "outputs": [],
   "source": [
    "class Animal():\n",
    "    def __init__(self):\n",
    "        print(\"Animal Created\")\n",
    "        \n",
    "    def who_am_i(self):\n",
    "        print(\"I am an animal\")\n",
    "        \n",
    "    def eat(self):\n",
    "        print(\"I am eating\")"
   ]
  },
  {
   "cell_type": "code",
   "execution_count": null,
   "id": "785fb77d",
   "metadata": {},
   "outputs": [],
   "source": [
    "myanimal = Animal()"
   ]
  },
  {
   "cell_type": "code",
   "execution_count": null,
   "id": "c11552d6",
   "metadata": {},
   "outputs": [],
   "source": [
    "class Dog(Animal):\n",
    "    def __init__(self):\n",
    "        Animal.__init__(self)\n",
    "        print(\"Dog Created\")\n",
    "        \n",
    "    def who_am_i(self):\n",
    "        print(\"I am a dog\")\n"
   ]
  },
  {
   "cell_type": "code",
   "execution_count": null,
   "id": "90cce1a7",
   "metadata": {},
   "outputs": [],
   "source": [
    "mydog = Dog()"
   ]
  },
  {
   "cell_type": "code",
   "execution_count": null,
   "id": "1010ce16",
   "metadata": {},
   "outputs": [],
   "source": [
    "mydog.eat()"
   ]
  },
  {
   "cell_type": "code",
   "execution_count": null,
   "id": "19b92312",
   "metadata": {},
   "outputs": [],
   "source": [
    "mydog.who_am_i()"
   ]
  },
  {
   "cell_type": "code",
   "execution_count": null,
   "id": "ef19db7b",
   "metadata": {},
   "outputs": [],
   "source": [
    "class Dog():\n",
    "    def __init__(self,name):\n",
    "        self.name = name\n",
    "        \n",
    "    def speak(self):\n",
    "        return self.name + \" says woof\""
   ]
  },
  {
   "cell_type": "code",
   "execution_count": null,
   "id": "69bd187e",
   "metadata": {},
   "outputs": [],
   "source": [
    "class Cat():\n",
    "    def __init__(self,name):\n",
    "        self.name = name\n",
    "        \n",
    "    def speak(self):\n",
    "        return self.name + \" says meow\""
   ]
  },
  {
   "cell_type": "code",
   "execution_count": null,
   "id": "e6db21e0",
   "metadata": {},
   "outputs": [],
   "source": [
    "doggo = Dog(\"Doggo\")\n",
    "kitty = Cat(\"Kitty\")"
   ]
  },
  {
   "cell_type": "code",
   "execution_count": null,
   "id": "9eb3dd60",
   "metadata": {},
   "outputs": [],
   "source": [
    "print(doggo.speak())\n",
    "print(kitty.speak())"
   ]
  },
  {
   "cell_type": "code",
   "execution_count": null,
   "id": "0225ba3e",
   "metadata": {},
   "outputs": [],
   "source": [
    "for pet in [doggo,kitty]:\n",
    "    print(type(pet))\n",
    "    print(pet.speak())"
   ]
  },
  {
   "cell_type": "code",
   "execution_count": null,
   "id": "568eb5a9",
   "metadata": {},
   "outputs": [],
   "source": [
    "def pet_speak(pet):\n",
    "    print(pet.speak())"
   ]
  },
  {
   "cell_type": "code",
   "execution_count": null,
   "id": "499620b3",
   "metadata": {},
   "outputs": [],
   "source": [
    "pet_speak(doggo)\n"
   ]
  },
  {
   "cell_type": "code",
   "execution_count": null,
   "id": "4a354ef9",
   "metadata": {},
   "outputs": [],
   "source": [
    "pet_speak(kitty)\n"
   ]
  },
  {
   "cell_type": "code",
   "execution_count": null,
   "id": "29aaedd7",
   "metadata": {},
   "outputs": [],
   "source": [
    "class Cat():\n",
    "    def __init__(self,name,color):\n",
    "        self.name = name\n",
    "        \n",
    "    def speak(self):\n",
    "        return self.name + \" says meow\"\n",
    "\n",
    "    def shade(self):\n",
    "              return self.color + \"is my fur colour\""
   ]
  },
  {
   "cell_type": "code",
   "execution_count": null,
   "id": "0861d82c-4861-4e49-8e19-ffb9204a7965",
   "metadata": {},
   "outputs": [],
   "source": [
    "mycat = Cat('kitty','red')\n"
   ]
  },
  {
   "cell_type": "code",
   "execution_count": null,
   "id": "d3a33cae-7d40-4677-bbcf-08b3457e22ea",
   "metadata": {},
   "outputs": [],
   "source": [
    "mycat.shade()\n"
   ]
  },
  {
   "cell_type": "code",
   "execution_count": null,
   "id": "7a00a193-c8c3-44aa-a10c-2991e25a046b",
   "metadata": {},
   "outputs": [],
   "source": [
    "#Modules are just .py files which are called and used in other .py files"
   ]
  },
  {
   "cell_type": "code",
   "execution_count": null,
   "id": "cb9d1286-8982-4e96-8a4e-e25d0662133e",
   "metadata": {},
   "outputs": [],
   "source": [
    "pip install openpyxl\n"
   ]
  },
  {
   "cell_type": "code",
   "execution_count": null,
   "id": "76b5aa98-4aae-4471-a565-2d3d0a0bc927",
   "metadata": {},
   "outputs": [],
   "source": [
    "import openpyxl\n",
    "\n"
   ]
  },
  {
   "cell_type": "code",
   "execution_count": null,
   "id": "157a8715-9e64-4ac7-9c58-9c8a30301e97",
   "metadata": {},
   "outputs": [],
   "source": [
    "#Functions and Methods Homework"
   ]
  },
  {
   "cell_type": "code",
   "execution_count": null,
   "id": "97839eea-5b19-4808-afaa-51cb4efa1f49",
   "metadata": {},
   "outputs": [],
   "source": [
    "def strcheck(s):\n",
    "    ucount = 0\n",
    "    lcount = 0\n",
    "    for i in range(len(s)):\n",
    "        if s[i].isupper():\n",
    "            ucount+=1\n",
    "        else:\n",
    "            lcount+=1\n",
    "        \n",
    "    print(\"Lowercase character count:\",lcount)\n",
    "    print(\"Uppercase character count:\",ucount)"
   ]
  },
  {
   "cell_type": "code",
   "execution_count": null,
   "id": "dacb61db-9ab0-4c86-a21c-f9a2bc396414",
   "metadata": {},
   "outputs": [],
   "source": [
    "strcheck('AnimeshM')\n",
    "         "
   ]
  },
  {
   "cell_type": "code",
   "execution_count": null,
   "id": "0a3b30e2-644c-4de5-a4f9-577210cfe751",
   "metadata": {},
   "outputs": [],
   "source": [
    "def unique(mylist):\n",
    "    \n",
    "    uniquelist = set(mylist)\n",
    "    print(uniquelist)\n",
    "    "
   ]
  },
  {
   "cell_type": "code",
   "execution_count": null,
   "id": "67f38c57-2417-456c-84dc-1f3029d86ccb",
   "metadata": {},
   "outputs": [],
   "source": [
    "unique([1,1,1,1,3,4,636,7,786,5,6])\n"
   ]
  },
  {
   "cell_type": "code",
   "execution_count": null,
   "id": "99c72dd3-352a-4560-9282-d4845d61b588",
   "metadata": {},
   "outputs": [],
   "source": [
    "def multiply(mylist):\n",
    "    i=0\n",
    "    product =1\n",
    "    for i in range(len(mylist)):\n",
    "        product = product*mylist[i]\n",
    "        \n",
    "    print(product)"
   ]
  },
  {
   "cell_type": "markdown",
   "id": "fbb90d87-242e-4082-aba6-7dac28a65ca3",
   "metadata": {},
   "source": [
    "multiply([1,2,3,4])\n"
   ]
  },
  {
   "cell_type": "code",
   "execution_count": null,
   "id": "598730d2-a462-4446-80e2-156d8fc63544",
   "metadata": {},
   "outputs": [],
   "source": [
    "multiply([1,2,3,4,5])"
   ]
  },
  {
   "cell_type": "markdown",
   "id": "34f32281-751c-4598-bb0e-1793423dd931",
   "metadata": {},
   "source": []
  },
  {
   "cell_type": "code",
   "execution_count": null,
   "id": "7981f154-00c3-487b-80bd-a957639b253a",
   "metadata": {},
   "outputs": [],
   "source": [
    "def palindrome(s):\n",
    "    if s == s[::-1]:\n",
    "        return True\n",
    "    else:\n",
    "        return False\n",
    "            \n",
    "        "
   ]
  },
  {
   "cell_type": "code",
   "execution_count": null,
   "id": "b02c5b9b-1137-45db-baa9-9f6550c6e524",
   "metadata": {},
   "outputs": [],
   "source": [
    "palindrome('AniinA')\n",
    "\n"
   ]
  },
  {
   "cell_type": "code",
   "execution_count": null,
   "id": "4b07474a-5229-4338-b2e7-d8ae0bfa235c",
   "metadata": {},
   "outputs": [],
   "source": [
    "\n",
    "def isPalindrome(x):\n",
    "    \n",
    "    if x == x[::-1]:\n",
    "        return True\n",
    "    else:\n",
    "        return False\n",
    "        "
   ]
  },
  {
   "cell_type": "code",
   "execution_count": null,
   "id": "2d963ea0-179f-4e12-8bdc-afc70aac1400",
   "metadata": {},
   "outputs": [],
   "source": [
    "isPalindrome(121)\n"
   ]
  },
  {
   "cell_type": "code",
   "execution_count": null,
   "id": "0a622010-d64f-47ec-8cf3-b198f97582e0",
   "metadata": {},
   "outputs": [],
   "source": [
    "def removeDuplicates( nums):\n",
    "\n",
    "        unique_nums = set(nums)\n",
    "        print(len(unique_nums))\n",
    "        return unique_nums\n",
    "        "
   ]
  },
  {
   "cell_type": "markdown",
   "id": "6cc250d9-48d0-4ed5-8e10-3a4fff96e0ba",
   "metadata": {},
   "source": []
  },
  {
   "cell_type": "code",
   "execution_count": null,
   "id": "4f55a7ac-b889-4304-a3bd-de4da5ab9e9f",
   "metadata": {},
   "outputs": [],
   "source": [
    "removeDuplicates([1,1,1,2,3,3])"
   ]
  },
  {
   "cell_type": "code",
   "execution_count": null,
   "id": "a72fb99b-5df0-4918-91e4-6e4ca92ef911",
   "metadata": {},
   "outputs": [],
   "source": [
    "#error and exception handling"
   ]
  },
  {
   "cell_type": "code",
   "execution_count": null,
   "id": "9d1ec4ba-ad7d-4f00-915b-1e11c404324e",
   "metadata": {},
   "outputs": [],
   "source": [
    "try:\n",
    "    result = 10+'10'\n",
    "except:\n",
    "    print(\"hey it look like you are adding incorrectly\")\n",
    "else:\n",
    "    print(\"Add went well\")\n",
    "    print(result)"
   ]
  },
  {
   "cell_type": "code",
   "execution_count": null,
   "id": "291695ae-0f5d-4b87-a376-97762bc84eb7",
   "metadata": {},
   "outputs": [],
   "source": [
    "try:\n",
    "    f = open('testfile','w')\n",
    "    f.write(\"Write a tets line\")\n",
    "except TypeError:\n",
    "    print(\"there was a type error\")\n",
    "except OSError:\n",
    "    print(\"there was an OS Error\")\n",
    "finally:\n",
    "    print(\"I always run\")\n",
    "    "
   ]
  },
  {
   "cell_type": "code",
   "execution_count": null,
   "id": "330e65ae-cb65-4add-bfdc-cc22f6ac486b",
   "metadata": {},
   "outputs": [],
   "source": [
    "def askforint():\n",
    "    while True:\n",
    "        try:\n",
    "            user = int(input(\"Enter your input\"))\n",
    "        except:\n",
    "            print(\"Whoops you entered wrong input\")\n",
    "            \n",
    "        else:\n",
    "            print(\"Thank you for your input\")\n",
    "            break\n",
    "        finally:\n",
    "            print(\"End of ask for int\")"
   ]
  },
  {
   "cell_type": "code",
   "execution_count": null,
   "id": "a49ea115-6780-4639-a313-5003825b7c3e",
   "metadata": {},
   "outputs": [],
   "source": [
    "askforint()\n"
   ]
  },
  {
   "cell_type": "code",
   "execution_count": null,
   "id": "54118af9-e230-4427-bc9e-ddbbfacadab1",
   "metadata": {},
   "outputs": [],
   "source": [
    "#Python Decorators\n"
   ]
  },
  {
   "cell_type": "code",
   "execution_count": null,
   "id": "ad542cd6-19fa-4169-8154-33056c857a60",
   "metadata": {},
   "outputs": [],
   "source": [
    "def func():\n",
    "    return 1\n"
   ]
  },
  {
   "cell_type": "code",
   "execution_count": null,
   "id": "a02f0064-3b7e-4ca3-be11-1e7665acc01a",
   "metadata": {},
   "outputs": [],
   "source": [
    "func()"
   ]
  },
  {
   "cell_type": "code",
   "execution_count": null,
   "id": "a32c164d-38be-42cb-8e10-0de3f7fa84ef",
   "metadata": {},
   "outputs": [],
   "source": [
    "func\n"
   ]
  },
  {
   "cell_type": "code",
   "execution_count": null,
   "id": "b5823780-c295-49f2-9762-69fa16f70d53",
   "metadata": {},
   "outputs": [],
   "source": [
    "def hello():\n",
    "    return 'Hello'"
   ]
  },
  {
   "cell_type": "code",
   "execution_count": null,
   "id": "7ebfe4cd-04bd-45f4-a01a-91262bce3507",
   "metadata": {},
   "outputs": [],
   "source": [
    "hello()\n"
   ]
  },
  {
   "cell_type": "code",
   "execution_count": null,
   "id": "6f52765e-e743-4836-afaf-9e5ae1df945c",
   "metadata": {},
   "outputs": [],
   "source": [
    "hello"
   ]
  },
  {
   "cell_type": "code",
   "execution_count": null,
   "id": "897cc47c-d576-4684-a30c-81047f6eaa29",
   "metadata": {},
   "outputs": [],
   "source": [
    "greet  = hello"
   ]
  },
  {
   "cell_type": "code",
   "execution_count": null,
   "id": "02d6c2e9-1ef0-4dda-b847-bbfe7198acb1",
   "metadata": {},
   "outputs": [],
   "source": [
    "greet()"
   ]
  },
  {
   "cell_type": "code",
   "execution_count": null,
   "id": "b8940f90-1ec7-4244-964d-58bd2cac36a7",
   "metadata": {},
   "outputs": [],
   "source": [
    "del hello"
   ]
  },
  {
   "cell_type": "code",
   "execution_count": null,
   "id": "0eb315b0-05dc-41be-9704-cb72c6a39d54",
   "metadata": {},
   "outputs": [],
   "source": [
    "hello"
   ]
  },
  {
   "cell_type": "code",
   "execution_count": null,
   "id": "93cde428-c99f-4b48-8e9c-a5b7e1351550",
   "metadata": {},
   "outputs": [],
   "source": [
    "greet()"
   ]
  },
  {
   "cell_type": "code",
   "execution_count": null,
   "id": "08874c89-d4e2-4670-ba4c-8439c19b55b3",
   "metadata": {},
   "outputs": [],
   "source": [
    "#So technically the greet function created a copy of the hello function and can be executed even after the hello function has been deleted"
   ]
  },
  {
   "cell_type": "code",
   "execution_count": null,
   "id": "541ac2e2-92bc-452a-8083-be48cf15f892",
   "metadata": {},
   "outputs": [],
   "source": [
    "def hello(name='Animesh'):\n",
    "    print('The hello() function has been executed')\n",
    "    "
   ]
  },
  {
   "cell_type": "code",
   "execution_count": null,
   "id": "73361b7b-e78d-4f0d-85ea-9562b23b0f6a",
   "metadata": {},
   "outputs": [],
   "source": [
    "hello()"
   ]
  },
  {
   "cell_type": "code",
   "execution_count": null,
   "id": "749f6f0c-8c06-40dc-a1c3-32e1e00b1ac4",
   "metadata": {},
   "outputs": [],
   "source": [
    "def hello(name='Animesh'):\n",
    "    print('The hello() function has been executed')\n",
    "\n",
    "    def greet():\n",
    "        return '\\tThis is the greet function inside the hello function'\n",
    "\n",
    "    def welcome():\n",
    "        return '\\tThis is the welcome function inside the hello function'\n",
    "    print(greet())\n",
    "    print(welcome())\n",
    "    print('This is the end of the hello function')"
   ]
  },
  {
   "cell_type": "code",
   "execution_count": null,
   "id": "7b4dfa87-6705-445e-92e2-4496be08b7c3",
   "metadata": {},
   "outputs": [],
   "source": [
    "hello()"
   ]
  },
  {
   "cell_type": "code",
   "execution_count": null,
   "id": "b8771f75-41a4-4176-acae-2471162b6b57",
   "metadata": {},
   "outputs": [],
   "source": [
    "def hello(name='Animesh'):\n",
    "    print('The hello() function has been executed')\n",
    "\n",
    "    def greet():\n",
    "        return '\\t This is the greet function and the name is Animesh'\n",
    "\n",
    "    def welcome():\n",
    "        return '\\t This is the welcome function and the name is not Animesh'\n",
    "      \n",
    "    print('I am going to return the hello and greet functions!!')\n",
    "\n",
    "    if name == 'Animesh':\n",
    "        return greet()\n",
    "    else:\n",
    "        return welcome()"
   ]
  },
  {
   "cell_type": "code",
   "execution_count": null,
   "id": "095a71b4-9ea3-4ee3-b304-fb8b86dd4f24",
   "metadata": {},
   "outputs": [],
   "source": [
    "newfunc1 = hello('Animesh')"
   ]
  },
  {
   "cell_type": "code",
   "execution_count": null,
   "id": "d3edb46e-7df1-483c-b544-c3b2c75d29c9",
   "metadata": {},
   "outputs": [],
   "source": [
    "newfunc2 = hello('Prashant')"
   ]
  },
  {
   "cell_type": "code",
   "execution_count": null,
   "id": "6271622c-f5ff-4720-a61a-cbed40d08132",
   "metadata": {},
   "outputs": [],
   "source": [
    "newfunc1"
   ]
  },
  {
   "cell_type": "code",
   "execution_count": null,
   "id": "be02c1ca-760a-44b8-9100-91f10adbdf58",
   "metadata": {},
   "outputs": [],
   "source": [
    "print(newfunc1)"
   ]
  },
  {
   "cell_type": "code",
   "execution_count": null,
   "id": "404ebf6f-8612-40d8-ba75-56e9c41f1142",
   "metadata": {},
   "outputs": [],
   "source": [
    "newfunc2"
   ]
  },
  {
   "cell_type": "code",
   "execution_count": null,
   "id": "c0676960-3344-40f5-8dec-066d48177f72",
   "metadata": {},
   "outputs": [],
   "source": [
    "print(newfunc2)"
   ]
  },
  {
   "cell_type": "code",
   "execution_count": null,
   "id": "20d5559a-066d-4a2e-bb6c-46da8996f738",
   "metadata": {},
   "outputs": [],
   "source": [
    "def hello():\n",
    "    return 'Hi Animesh!'"
   ]
  },
  {
   "cell_type": "code",
   "execution_count": null,
   "id": "95f07592-fbe4-4fe8-b76d-15ba1ec2f88a",
   "metadata": {},
   "outputs": [],
   "source": [
    "def other(some_func):\n",
    "    print('Other code runs here')\n",
    "    print(some_func())"
   ]
  },
  {
   "cell_type": "code",
   "execution_count": null,
   "id": "aa7c07fd-2931-4863-a0fb-ea36420c4f0b",
   "metadata": {},
   "outputs": [],
   "source": [
    "other(hello)"
   ]
  },
  {
   "cell_type": "code",
   "execution_count": null,
   "id": "2380f9ab-0be5-4b2c-bdeb-61ff50c8430a",
   "metadata": {},
   "outputs": [],
   "source": [
    "def new_decorator(orignal_func):\n",
    "\n",
    "    def wrap_func():\n",
    "        print('Some extra code before the orignal function')\n",
    "\n",
    "        orignal_func()\n",
    "\n",
    "        print('Some more code after the orignal function')\n",
    "\n",
    "    return wrap_func"
   ]
  },
  {
   "cell_type": "code",
   "execution_count": null,
   "id": "c67819ee-5630-495a-a23b-c1000b50cefb",
   "metadata": {},
   "outputs": [],
   "source": [
    "def func_need_dec():\n",
    "    print('I want a decorator please')\n"
   ]
  },
  {
   "cell_type": "code",
   "execution_count": null,
   "id": "1fe1e44d-1435-4cb5-b59e-bf99949f774b",
   "metadata": {},
   "outputs": [],
   "source": [
    "func_need_dec()"
   ]
  },
  {
   "cell_type": "code",
   "execution_count": null,
   "id": "5a51de6b-52ca-4000-9511-f93882f0f7ec",
   "metadata": {},
   "outputs": [],
   "source": [
    "decorated_func = new_decorator(func_need_dec())"
   ]
  },
  {
   "cell_type": "markdown",
   "id": "195a6e77-0a2c-4f38-b346-6cad754042f9",
   "metadata": {},
   "source": [
    "GENERATORS WITH PYTHON"
   ]
  },
  {
   "cell_type": "code",
   "execution_count": null,
   "id": "ed0e35ab-e789-4a9e-8003-7c8d194829e3",
   "metadata": {},
   "outputs": [],
   "source": [
    "\n",
    "def create_cubes(n):\n",
    "    result = []\n",
    "    for x in range(n):\n",
    "        result.append(x**3)\n",
    "    return result\n",
    "    "
   ]
  },
  {
   "cell_type": "code",
   "execution_count": null,
   "id": "2f7025cd-ebce-44c7-bfb7-557a524639b4",
   "metadata": {},
   "outputs": [],
   "source": [
    "create_cubes(10)"
   ]
  },
  {
   "cell_type": "code",
   "execution_count": null,
   "id": "26b363cf-4886-4623-86b3-254f5a902142",
   "metadata": {},
   "outputs": [],
   "source": [
    "for x in create_cubes(10):\n",
    "    print(x)"
   ]
  },
  {
   "cell_type": "code",
   "execution_count": null,
   "id": "dab218ed-ffa7-4980-9858-49e5cfafcf68",
   "metadata": {},
   "outputs": [],
   "source": [
    "def create_cubes(n):\n",
    "    \n",
    "    for x in range(n):\n",
    "        yield(x**3)"
   ]
  },
  {
   "cell_type": "code",
   "execution_count": null,
   "id": "1f6acd94-6731-4433-a936-3769e026c6a2",
   "metadata": {},
   "outputs": [],
   "source": [
    "create_cubes(10)"
   ]
  },
  {
   "cell_type": "code",
   "execution_count": null,
   "id": "27da25e7-fc00-4808-932f-2a32d9231425",
   "metadata": {},
   "outputs": [],
   "source": [
    "list(create_cubes(10))"
   ]
  },
  {
   "cell_type": "code",
   "execution_count": null,
   "id": "5ec4c94c-f6f8-4283-8896-f7dc297e45e5",
   "metadata": {},
   "outputs": [],
   "source": [
    "for x in create_cubes(10):\n",
    "    print(x)"
   ]
  },
  {
   "cell_type": "code",
   "execution_count": null,
   "id": "664184a1-f3ae-440e-8111-66d621268825",
   "metadata": {},
   "outputs": [],
   "source": [
    "def gen_fib(n):\n",
    "    a = 1\n",
    "    b = 1\n",
    "    for x in range(n):\n",
    "        yield a\n",
    "        a,b = b,a+b"
   ]
  },
  {
   "cell_type": "code",
   "execution_count": null,
   "id": "399a764b-391c-4a5f-a562-965e7ef7b969",
   "metadata": {},
   "outputs": [],
   "source": [
    "gen_fib(10)"
   ]
  },
  {
   "cell_type": "code",
   "execution_count": null,
   "id": "12e7b5db-9244-4c79-884e-a215642cbb22",
   "metadata": {},
   "outputs": [],
   "source": [
    "for x in gen_fib(10):\n",
    "    print(x)"
   ]
  },
  {
   "cell_type": "code",
   "execution_count": null,
   "id": "4fd294ac-0cfb-48cf-aae6-afa1c361c8e4",
   "metadata": {},
   "outputs": [],
   "source": [
    "def gen_fib(n):\n",
    "    a = 1\n",
    "    b = 1\n",
    "    output = []\n",
    "    for x in range(n):\n",
    "        output.append(a)\n",
    "        a,b = b,a+b\n",
    "    return output"
   ]
  },
  {
   "cell_type": "code",
   "execution_count": null,
   "id": "61230521-e406-49b9-8cee-d99ba84d949b",
   "metadata": {},
   "outputs": [],
   "source": [
    "gen_fib(10)"
   ]
  },
  {
   "cell_type": "code",
   "execution_count": null,
   "id": "09510c30-0d3e-45c8-b972-57cd7778ec8e",
   "metadata": {},
   "outputs": [],
   "source": [
    "for x in gen_fib(10):\n",
    "    print(x)"
   ]
  },
  {
   "cell_type": "code",
   "execution_count": null,
   "id": "b376a773-48a1-489e-9afb-af67048a3637",
   "metadata": {},
   "outputs": [],
   "source": [
    "def simple_gen():\n",
    "    for x in range(3):\n",
    "        yield x"
   ]
  },
  {
   "cell_type": "code",
   "execution_count": null,
   "id": "6cdbc257-bba0-49fa-b50f-c2b58e34c774",
   "metadata": {},
   "outputs": [],
   "source": [
    "for num in simple_gen():\n",
    "    print(num)"
   ]
  },
  {
   "cell_type": "code",
   "execution_count": null,
   "id": "f0738791-46b2-4cb9-81e8-e37a0dbb8220",
   "metadata": {},
   "outputs": [],
   "source": [
    "g = simple_gen()"
   ]
  },
  {
   "cell_type": "code",
   "execution_count": null,
   "id": "b1acb4ec-d299-4298-8419-a547dfd26a39",
   "metadata": {},
   "outputs": [],
   "source": [
    "g"
   ]
  },
  {
   "cell_type": "code",
   "execution_count": null,
   "id": "ecf72f81-a816-494d-8c27-e08cd7ade4ee",
   "metadata": {},
   "outputs": [],
   "source": [
    "print(g)"
   ]
  },
  {
   "cell_type": "code",
   "execution_count": null,
   "id": "447f9e77-47ea-42ba-8bcb-369ca1e173fa",
   "metadata": {},
   "outputs": [],
   "source": [
    "print(next(g))"
   ]
  },
  {
   "cell_type": "code",
   "execution_count": null,
   "id": "a5453300-659b-408e-b760-fe0ff44d4670",
   "metadata": {},
   "outputs": [],
   "source": [
    "print(next(g))"
   ]
  },
  {
   "cell_type": "code",
   "execution_count": null,
   "id": "f44460c8-68d0-4fda-9302-c03a1d069c5f",
   "metadata": {},
   "outputs": [],
   "source": [
    "print(next(g))"
   ]
  },
  {
   "cell_type": "code",
   "execution_count": null,
   "id": "f0982ee7-b122-447f-bf0e-e875b1ed8f46",
   "metadata": {},
   "outputs": [],
   "source": [
    "print(next(g))"
   ]
  },
  {
   "cell_type": "code",
   "execution_count": null,
   "id": "245fc0b4-52d6-4f8f-97ee-108156501a37",
   "metadata": {},
   "outputs": [],
   "source": [
    "s = 'Hello World'"
   ]
  },
  {
   "cell_type": "code",
   "execution_count": null,
   "id": "3f1add72-9f62-4899-9e48-5d16a8b0f34e",
   "metadata": {},
   "outputs": [],
   "source": [
    "next(s)"
   ]
  },
  {
   "cell_type": "code",
   "execution_count": null,
   "id": "fbab685b-f3ee-4248-9231-c3e7b84c9c3c",
   "metadata": {},
   "outputs": [],
   "source": [
    "s_iterate = iter(s)"
   ]
  },
  {
   "cell_type": "code",
   "execution_count": null,
   "id": "62a226c4-99bd-4bcd-978b-c5222b2c8d9f",
   "metadata": {},
   "outputs": [],
   "source": [
    "next(s_iterate)"
   ]
  },
  {
   "cell_type": "code",
   "execution_count": null,
   "id": "b56004d1-cf02-49ea-aa94-aa3879b354a5",
   "metadata": {},
   "outputs": [],
   "source": [
    "next(s_iterate)"
   ]
  },
  {
   "cell_type": "code",
   "execution_count": null,
   "id": "57339868-0b00-498d-bc2d-e3cee2b76ea7",
   "metadata": {},
   "outputs": [],
   "source": [
    "next(s_iterate)"
   ]
  },
  {
   "cell_type": "code",
   "execution_count": null,
   "id": "0f741d3c-215c-414f-8e35-5524f6763ab0",
   "metadata": {},
   "outputs": [],
   "source": [
    "next(s_iterate)"
   ]
  },
  {
   "cell_type": "code",
   "execution_count": null,
   "id": "d6bddcfb-8754-459a-a5bc-de618e883225",
   "metadata": {},
   "outputs": [],
   "source": [
    "next(s_iterate)"
   ]
  },
  {
   "cell_type": "code",
   "execution_count": null,
   "id": "96378006-24b1-4169-a315-4d6e34cf79aa",
   "metadata": {},
   "outputs": [],
   "source": [
    "next(s_iterate)"
   ]
  },
  {
   "cell_type": "code",
   "execution_count": null,
   "id": "d1f21fde-a004-472c-9c56-1f362db9a11d",
   "metadata": {},
   "outputs": [],
   "source": [
    "next(s_iterate)"
   ]
  },
  {
   "cell_type": "code",
   "execution_count": null,
   "id": "c5638159-ef24-4c5b-9216-d3db9f45602e",
   "metadata": {},
   "outputs": [],
   "source": [
    "\n",
    "class Line:\n",
    "    def __init__(self,cor1,cor2):\n",
    "        self.cor1 = cor1\n",
    "        self.cor2 = cor2\n",
    "    def distance(self):\n",
    "        x1,y1 = self.cor1\n",
    "        x2,y2 = self.cor2\n",
    "        return ((x2-x1)**2 + (y2-y1)**2)**0.5\n",
    "    def slope(self):\n",
    "        x1,y1 = self.cor1\n",
    "        x2,y2 = self.cor2\n",
    "        return (y2-y1)/(x2-x1)\n",
    "\n"
   ]
  },
  {
   "cell_type": "code",
   "execution_count": null,
   "id": "7c5bf28a-882e-4cd7-ac6e-c8730796a192",
   "metadata": {},
   "outputs": [],
   "source": [
    "c1 = (3,20)\n",
    "c2 = (34,58)"
   ]
  },
  {
   "cell_type": "code",
   "execution_count": null,
   "id": "a2863eca-081f-40f0-97a8-3e386ecc48d7",
   "metadata": {},
   "outputs": [],
   "source": [
    "myline = Line(c1,c2)\n"
   ]
  },
  {
   "cell_type": "code",
   "execution_count": null,
   "id": "48d4b29b-5d89-450f-8eef-3d72c4c33190",
   "metadata": {},
   "outputs": [],
   "source": [
    "myline.distance()"
   ]
  },
  {
   "cell_type": "code",
   "execution_count": null,
   "id": "033cbd8f-0ff9-474e-a59b-0fb662d14a17",
   "metadata": {},
   "outputs": [],
   "source": [
    "myline.slope()"
   ]
  },
  {
   "cell_type": "code",
   "execution_count": null,
   "id": "f74fe611-f392-4cce-a7ca-127a301733d9",
   "metadata": {},
   "outputs": [],
   "source": []
  },
  {
   "cell_type": "markdown",
   "id": "5783aae2-5288-4a93-babc-3baa3d32034e",
   "metadata": {},
   "source": [
    "ADVANCED PYTHON MODULES"
   ]
  },
  {
   "cell_type": "code",
   "execution_count": null,
   "id": "c3bfaee4-53e0-47e4-8eb1-802ec7448686",
   "metadata": {},
   "outputs": [],
   "source": [
    "s = \"Hello World\""
   ]
  },
  {
   "cell_type": "code",
   "execution_count": null,
   "id": "38adcddd-3ec2-4665-a111-b3c9773a9021",
   "metadata": {},
   "outputs": [],
   "source": [
    "from collections import Counter\n"
   ]
  },
  {
   "cell_type": "code",
   "execution_count": null,
   "id": "aa908947-af69-4b97-8472-78d518d4325e",
   "metadata": {},
   "outputs": [],
   "source": [
    "Counter(s.split())"
   ]
  },
  {
   "cell_type": "code",
   "execution_count": null,
   "id": "767d2379-4f2e-4174-a9a8-5cae8c298d89",
   "metadata": {},
   "outputs": [],
   "source": [
    "new = s.split()"
   ]
  },
  {
   "cell_type": "code",
   "execution_count": null,
   "id": "b2df5b53-3d1c-49b9-bdbc-02226404646c",
   "metadata": {},
   "outputs": [],
   "source": [
    "new"
   ]
  },
  {
   "cell_type": "code",
   "execution_count": null,
   "id": "ecf8dae6-1283-4448-b492-63b80b67a600",
   "metadata": {},
   "outputs": [],
   "source": [
    "len(new[-1])"
   ]
  },
  {
   "cell_type": "code",
   "execution_count": null,
   "id": "582ecb69-6c83-4279-8319-9a6b6c809c31",
   "metadata": {},
   "outputs": [],
   "source": [
    "letters  = 'aabaaabbbaahhhhhcccccdddddd'\n"
   ]
  },
  {
   "cell_type": "code",
   "execution_count": null,
   "id": "31b3fa5d-743e-4d63-8232-4cadab3994e0",
   "metadata": {},
   "outputs": [],
   "source": [
    "c = Counter(letters)"
   ]
  },
  {
   "cell_type": "code",
   "execution_count": null,
   "id": "e64e6108-c1da-42c8-89ec-85052ad45f55",
   "metadata": {},
   "outputs": [],
   "source": [
    "c"
   ]
  },
  {
   "cell_type": "code",
   "execution_count": null,
   "id": "e62607f1-6328-416f-af59-50e496e5033b",
   "metadata": {},
   "outputs": [],
   "source": [
    "#returns a list of tuples\n",
    "c.most_common()"
   ]
  },
  {
   "cell_type": "code",
   "execution_count": null,
   "id": "7e74e0c2-e9a4-4c14-a0f3-79e2b617a77c",
   "metadata": {},
   "outputs": [],
   "source": [
    "# to get a list of all the unique values\n",
    "list(c)"
   ]
  },
  {
   "cell_type": "code",
   "execution_count": null,
   "id": "31f45659-753f-4352-bdae-935be9eb0bca",
   "metadata": {},
   "outputs": [],
   "source": [
    "from collections import defaultdict"
   ]
  },
  {
   "cell_type": "code",
   "execution_count": null,
   "id": "47ff0f28-d76c-46ca-95e1-993940c93215",
   "metadata": {},
   "outputs": [],
   "source": [
    "d = {'a':10}"
   ]
  },
  {
   "cell_type": "code",
   "execution_count": null,
   "id": "fd4ce563-0808-4ed3-a587-67a7747b26b7",
   "metadata": {},
   "outputs": [],
   "source": [
    "d"
   ]
  },
  {
   "cell_type": "code",
   "execution_count": null,
   "id": "db41f31d-44ce-4794-9228-1a428a6950db",
   "metadata": {},
   "outputs": [],
   "source": [
    "d['a']"
   ]
  },
  {
   "cell_type": "code",
   "execution_count": null,
   "id": "e446639d-f58b-428c-a126-79e2f0c29495",
   "metadata": {},
   "outputs": [],
   "source": [
    "#This is just a simple dictionary so returns Key Error\n",
    "d['WRONG']"
   ]
  },
  {
   "cell_type": "code",
   "execution_count": null,
   "id": "d80809c5-9b3b-4f6c-95a3-f9932f4e9564",
   "metadata": {},
   "outputs": [],
   "source": [
    "d = defaultdict(lambda:0)"
   ]
  },
  {
   "cell_type": "code",
   "execution_count": null,
   "id": "7d8c03c6-ac9d-4d4b-96b3-2f8d60f7e768",
   "metadata": {},
   "outputs": [],
   "source": [
    "d['correct'] = 100"
   ]
  },
  {
   "cell_type": "code",
   "execution_count": null,
   "id": "62abf424-de2d-4816-8e3e-d8217a9c125f",
   "metadata": {},
   "outputs": [],
   "source": [
    "#This is a default dictionary so returns the default value that we set for a key that does not yet exist\n",
    "\n",
    "d['Wrong']"
   ]
  },
  {
   "cell_type": "code",
   "execution_count": null,
   "id": "3b5b4564-fcee-4e0b-9d3e-bd94b54e234b",
   "metadata": {},
   "outputs": [],
   "source": [
    "d"
   ]
  },
  {
   "cell_type": "code",
   "execution_count": null,
   "id": "e41baf2a-aa15-4f91-b2ff-3314bb7c8aee",
   "metadata": {},
   "outputs": [],
   "source": [
    "mytuple = (10,20,30)"
   ]
  },
  {
   "cell_type": "code",
   "execution_count": null,
   "id": "4e6b3ef3-ccd8-4b24-9158-15924e248658",
   "metadata": {},
   "outputs": [],
   "source": [
    "mytuple[0]"
   ]
  },
  {
   "cell_type": "code",
   "execution_count": null,
   "id": "6f03edae-77a3-4955-bc7b-ad788f37027e",
   "metadata": {},
   "outputs": [],
   "source": [
    "from collections import namedtuple"
   ]
  },
  {
   "cell_type": "code",
   "execution_count": null,
   "id": "65d012b2-2d49-4f9f-9673-4478fb4bc6fc",
   "metadata": {},
   "outputs": [],
   "source": [
    "Dog = namedtuple('Dog',['age','name','breed'])"
   ]
  },
  {
   "cell_type": "code",
   "execution_count": null,
   "id": "ae31e4b0-9676-4b8c-88ae-1e0e53aa51b3",
   "metadata": {},
   "outputs": [],
   "source": [
    "sammy = Dog(age = 5, name = 'sammy', breed = 'labrador')"
   ]
  },
  {
   "cell_type": "code",
   "execution_count": null,
   "id": "586d3f4f-a437-47dc-836d-8669b2812115",
   "metadata": {},
   "outputs": [],
   "source": [
    "type(sammy)"
   ]
  },
  {
   "cell_type": "code",
   "execution_count": null,
   "id": "6626428d-ce84-424e-ad9d-ff466f6fa4b6",
   "metadata": {},
   "outputs": [],
   "source": [
    "sammy"
   ]
  },
  {
   "cell_type": "code",
   "execution_count": null,
   "id": "049fc823-68e1-480b-958f-c0a1b1a05bdb",
   "metadata": {},
   "outputs": [],
   "source": [
    "sammy.age"
   ]
  },
  {
   "cell_type": "code",
   "execution_count": null,
   "id": "900f8caa-011c-475e-bdac-0c3478e98aa7",
   "metadata": {},
   "outputs": [],
   "source": [
    "#Milestone_Project-2"
   ]
  },
  {
   "cell_type": "code",
   "execution_count": null,
   "id": "f1651007-425f-4bb5-86f8-c226c4e12095",
   "metadata": {},
   "outputs": [],
   "source": [
    "#Card class\n",
    "class Class:\n",
    "    def __init__(self,suit,rank):\n",
    "        "
   ]
  },
  {
   "cell_type": "markdown",
   "id": "cce18f06-d2e6-4d42-a2d0-8d10e1ae91d0",
   "metadata": {},
   "source": [
    "OOP WITH PYTHON REVISION\n"
   ]
  },
  {
   "cell_type": "code",
   "execution_count": null,
   "id": "dd207ccc-4392-4a54-8ed3-f8c23737cf1b",
   "metadata": {},
   "outputs": [],
   "source": [
    "myList = [1,22,22,3,3,4,5]\n"
   ]
  },
  {
   "cell_type": "code",
   "execution_count": null,
   "id": "24f0320d-fa02-4b17-88b9-3c422c2cbf9f",
   "metadata": {},
   "outputs": [],
   "source": [
    "newList = set(myList)"
   ]
  },
  {
   "cell_type": "code",
   "execution_count": null,
   "id": "83d6dcc2-12e3-459e-b62a-5c6aa99ec31b",
   "metadata": {},
   "outputs": [],
   "source": [
    "type(myList)\n"
   ]
  },
  {
   "cell_type": "code",
   "execution_count": null,
   "id": "dd0e7bf2-66cf-42eb-878f-8731e7ae0e61",
   "metadata": {},
   "outputs": [],
   "source": [
    "type(newList)"
   ]
  },
  {
   "cell_type": "code",
   "execution_count": null,
   "id": "8cc35efd-2ef3-4f4a-b77c-5488406ce542",
   "metadata": {},
   "outputs": [],
   "source": [
    "class Dog:\n",
    "    #Class Object Attribute\n",
    "    #Same for any instance of a class\n",
    "    species = 'mammal'\n",
    "    def __init__(self,mybreed,myage,myspots):\n",
    "        #Attributes that we take in the argument\n",
    "        #Assign it using self.attribute_name\n",
    "        self.breed = mybreed\n",
    "        self.age = myage\n",
    "\n",
    "        self.spots = myspots\n",
    "\n",
    "    def bark(self,number):\n",
    "        print(\"!!WOOF!! My breed is {} and number is {}\".format(self.breed,number))\n",
    "    "
   ]
  },
  {
   "cell_type": "code",
   "execution_count": null,
   "id": "746e0518-3ac2-4549-a3cb-670e2e01f347",
   "metadata": {},
   "outputs": [],
   "source": [
    "mydog = Dog(mybreed = \"Labrador\", myage = 20,myspots = True)"
   ]
  },
  {
   "cell_type": "code",
   "execution_count": null,
   "id": "419312e0-5232-428d-8812-3d383dec28a3",
   "metadata": {},
   "outputs": [],
   "source": [
    "mydog.breed"
   ]
  },
  {
   "cell_type": "code",
   "execution_count": null,
   "id": "e0d344cd-d071-4457-976e-aad767cbf1f9",
   "metadata": {},
   "outputs": [],
   "source": [
    "mydog.age"
   ]
  },
  {
   "cell_type": "code",
   "execution_count": null,
   "id": "36be5205-13c4-47d4-8e73-cc373bd7e304",
   "metadata": {},
   "outputs": [],
   "source": [
    "mydog.species"
   ]
  },
  {
   "cell_type": "code",
   "execution_count": null,
   "id": "b9ca6b53-e69a-45ff-870f-cc981e947815",
   "metadata": {},
   "outputs": [],
   "source": [
    "mydog.spots"
   ]
  },
  {
   "cell_type": "code",
   "execution_count": null,
   "id": "381f4b6b-082c-400b-a45d-44469c371ef1",
   "metadata": {},
   "outputs": [],
   "source": [
    "mydog.bark(3)\n",
    "mydog.bark(4)\n",
    "mydog.bark(22)"
   ]
  },
  {
   "cell_type": "code",
   "execution_count": null,
   "id": "f36217be-5b5d-4adf-a2bb-b57ee05443be",
   "metadata": {},
   "outputs": [],
   "source": []
  },
  {
   "cell_type": "code",
   "execution_count": null,
   "id": "75d3f120-c149-4b24-bdd7-46803a971d02",
   "metadata": {},
   "outputs": [],
   "source": []
  },
  {
   "cell_type": "code",
   "execution_count": null,
   "id": "ce1de9f4-660b-47e9-abcf-eb18d5410fac",
   "metadata": {},
   "outputs": [],
   "source": [
    "class Circle():\n",
    "    #Class Object Attribute\n",
    "    pi = 3.141\n",
    "\n",
    "    def __init__(self,radius=1):\n",
    "        self.radius = radius\n",
    "\n",
    "    def get_circumference(self):\n",
    "        return self.radius * self.pi * 2\n",
    "        "
   ]
  },
  {
   "cell_type": "code",
   "execution_count": null,
   "id": "89eb0628-56fa-4f11-b482-75c537815324",
   "metadata": {},
   "outputs": [],
   "source": [
    "mycircle = Circle(4)"
   ]
  },
  {
   "cell_type": "code",
   "execution_count": null,
   "id": "2f6cd850-8d0f-460d-a4ab-15489b90aa10",
   "metadata": {},
   "outputs": [],
   "source": [
    "mycircle.radius"
   ]
  },
  {
   "cell_type": "code",
   "execution_count": null,
   "id": "eba5652c-bf67-4ebb-90bf-5b4e917d85ef",
   "metadata": {},
   "outputs": [],
   "source": [
    "mycircle.get_circumference()"
   ]
  },
  {
   "cell_type": "code",
   "execution_count": null,
   "id": "b43cf6f1-ad8e-47d1-bc92-57b6e3cd927c",
   "metadata": {},
   "outputs": [],
   "source": [
    "mycircle.pi"
   ]
  },
  {
   "cell_type": "code",
   "execution_count": null,
   "id": "b85c6afe-ea88-4f92-8373-cca4164103c3",
   "metadata": {},
   "outputs": [],
   "source": []
  },
  {
   "cell_type": "markdown",
   "id": "709b46de-c75b-47fb-9a3b-0fe8afb4375d",
   "metadata": {},
   "source": [
    "PROJECT-2 BASICS"
   ]
  },
  {
   "cell_type": "code",
   "execution_count": null,
   "id": "32a83b68-03b3-4e98-bdb3-e586316d194a",
   "metadata": {},
   "outputs": [],
   "source": [
    "#CARD class \n",
    "#which can identify the SUIT,RANK,VALUE of that particular card\n",
    "\n",
    "import random\n",
    "suits = ('Hearts','Clubs','Spades','Diamonds')\n",
    "values = {\n",
    "    'Two': 2,\n",
    "    'Three': 3,\n",
    "    'Four': 4,\n",
    "    'Five': 5,\n",
    "    'Six': 6,\n",
    "    'Seven': 7,\n",
    "    'Eight': 8,\n",
    "    'Nine': 9,\n",
    "    'Ten': 10,\n",
    "    'Jack': 11,\n",
    "    'Queen': 12,\n",
    "    'King': 13,\n",
    "    'Ace': 14\n",
    "}\n",
    "ranks = ('Two','Three','Four','Five','Six','Seven','Eight','Nine',\n",
    "        'Ten','Jack','Queen','King','Ace')"
   ]
  },
  {
   "cell_type": "code",
   "execution_count": null,
   "id": "d6277511-6077-4a21-885b-ceaf62dd1267",
   "metadata": {},
   "outputs": [],
   "source": [
    "class Card:\n",
    "    def __init__(self,suit,rank):\n",
    "        self.suit = suit\n",
    "        self.rank = rank\n",
    "        self.value = values[rank]\n",
    "    def __str__(self):\n",
    "        return self.rank + \" of \" + self.suit"
   ]
  },
  {
   "cell_type": "code",
   "execution_count": null,
   "id": "ddea2fb5-a339-4ec8-937b-ded3a9f28bb1",
   "metadata": {},
   "outputs": [],
   "source": [
    "two_hearts = Card(\"Hearts\",\"Two\")"
   ]
  },
  {
   "cell_type": "code",
   "execution_count": null,
   "id": "64be87f4-0ea5-4d86-933f-e9745c30af1d",
   "metadata": {},
   "outputs": [],
   "source": [
    "print(two_hearts)"
   ]
  },
  {
   "cell_type": "code",
   "execution_count": null,
   "id": "d81c478a-5ec9-4666-a7b2-3388b60db730",
   "metadata": {},
   "outputs": [],
   "source": [
    "two_hearts.suit"
   ]
  },
  {
   "cell_type": "code",
   "execution_count": null,
   "id": "022e2f68-2278-4801-9286-971fdd771233",
   "metadata": {},
   "outputs": [],
   "source": [
    "two_hearts.rank\n",
    "two_hearts.value"
   ]
  },
  {
   "cell_type": "code",
   "execution_count": null,
   "id": "c6e492de-10b6-4dbf-8fd0-554eaa05e68a",
   "metadata": {},
   "outputs": [],
   "source": []
  },
  {
   "cell_type": "code",
   "execution_count": null,
   "id": "1da39719-5604-47d4-aeff-3e73cbc7d589",
   "metadata": {},
   "outputs": [],
   "source": [
    "Three_of_clubs = Card(\"Clubs\",\"Three\")"
   ]
  },
  {
   "cell_type": "code",
   "execution_count": null,
   "id": "0cb9b405-edaf-438c-8f94-7bc536bd9c51",
   "metadata": {},
   "outputs": [],
   "source": [
    "print(Three_of_clubs)"
   ]
  },
  {
   "cell_type": "code",
   "execution_count": null,
   "id": "1310558d-58ab-498d-926a-cad49b57e236",
   "metadata": {},
   "outputs": [],
   "source": [
    "Three_of_clubs.rank\n",
    "Three_of_clubs.value"
   ]
  },
  {
   "cell_type": "code",
   "execution_count": null,
   "id": "b12f4c61-d34b-4494-a7de-08d2735e719b",
   "metadata": {},
   "outputs": [],
   "source": [
    "two_hearts.value > Three_of_clubs.value"
   ]
  },
  {
   "cell_type": "code",
   "execution_count": null,
   "id": "fe38a81f-fdb1-4cf8-8510-60d0c56c8d2b",
   "metadata": {},
   "outputs": [],
   "source": [
    "two_hearts.value < Three_of_clubs.value"
   ]
  },
  {
   "cell_type": "markdown",
   "id": "0ce088ab-4735-48d3-b71a-bb5cebd181d2",
   "metadata": {},
   "source": [
    "PART-2"
   ]
  },
  {
   "cell_type": "code",
   "execution_count": null,
   "id": "d48cf28f-9f54-4bd3-a555-6603b3162eda",
   "metadata": {},
   "outputs": [],
   "source": [
    "class Deck:\n",
    "    def __init__(self):\n",
    "        \n",
    "        self.all_cards = []\n",
    "        \n",
    "        for suit in suits:\n",
    "            for rank in ranks:\n",
    "                self.all_cards.append(Card(suit,rank))\n",
    "    def shuffle_deck(self):\n",
    "        random.shuffle(self.all_cards)\n",
    "\n",
    "    def deal_one_card(self):\n",
    "        return self.all_cards.pop()"
   ]
  },
  {
   "cell_type": "code",
   "execution_count": null,
   "id": "b9a072b6-8641-4bff-86de-da0a679a7a40",
   "metadata": {},
   "outputs": [],
   "source": [
    "mydeck = Deck()"
   ]
  },
  {
   "cell_type": "code",
   "execution_count": null,
   "id": "ae37c22c-ff9a-4b0c-96b5-89cda28b03db",
   "metadata": {},
   "outputs": [],
   "source": [
    "first_card = mydeck.all_cards[0]"
   ]
  },
  {
   "cell_type": "code",
   "execution_count": null,
   "id": "39a18945-4830-4d95-9683-e66a2f1b85e7",
   "metadata": {},
   "outputs": [],
   "source": [
    "print(first_card)"
   ]
  },
  {
   "cell_type": "code",
   "execution_count": null,
   "id": "dfca5934-d35d-407e-b9e1-7b0dc4e8f754",
   "metadata": {},
   "outputs": [],
   "source": [
    "last_card = mydeck.all_cards[-1]"
   ]
  },
  {
   "cell_type": "code",
   "execution_count": null,
   "id": "86d603d0-688f-4ea6-98d1-d2cc7163831f",
   "metadata": {},
   "outputs": [],
   "source": [
    "print(last_card)"
   ]
  },
  {
   "cell_type": "code",
   "execution_count": null,
   "id": "a47300db-f414-49ce-9ecf-8156651ee027",
   "metadata": {},
   "outputs": [],
   "source": [
    "mydeck.shuffle_deck()\n"
   ]
  },
  {
   "cell_type": "code",
   "execution_count": null,
   "id": "bdb88c65-4448-4380-8bec-e401eaf21cf6",
   "metadata": {},
   "outputs": [],
   "source": [
    "mycard = mydeck.deal_one_card()"
   ]
  },
  {
   "cell_type": "code",
   "execution_count": null,
   "id": "8c3e5527-cfc8-44d6-b30c-11bdca645907",
   "metadata": {},
   "outputs": [],
   "source": [
    "print(mydeck.all_cards[-1])"
   ]
  },
  {
   "cell_type": "code",
   "execution_count": null,
   "id": "5f5074c5-eb97-48c8-94df-bd1c5ef26e74",
   "metadata": {},
   "outputs": [],
   "source": [
    "len(mydeck.all_cards)"
   ]
  },
  {
   "cell_type": "code",
   "execution_count": null,
   "id": "c0ece572-9b27-4b8b-9740-4a0360d50d5b",
   "metadata": {},
   "outputs": [],
   "source": [
    "print(mydeck.deal_one_card())"
   ]
  },
  {
   "cell_type": "code",
   "execution_count": null,
   "id": "fd79b783-53f0-4fbd-8357-62c6235f9739",
   "metadata": {},
   "outputs": [],
   "source": [
    "len(mydeck.all_cards)"
   ]
  },
  {
   "cell_type": "code",
   "execution_count": null,
   "id": "39210023-1684-4dda-ae49-cffaf58f0361",
   "metadata": {},
   "outputs": [],
   "source": [
    "class Player:\n",
    "    def __init__(self,name):\n",
    "        self.name = name\n",
    "        self.all_cards = []\n",
    "\n",
    "    def remove_one(self):\n",
    "        return self.all_cards.pop(0)\n",
    "\n",
    "    def add_cards(self,new_cards):\n",
    "        if type(new_cards) == type([]):\n",
    "            self.all_cards.extend(new_cards)\n",
    "        else:\n",
    "            #When adding just one card\n",
    "            self.all_cards.append(new_cards)\n",
    "            \n",
    "    def __str__(self):\n",
    "        return f'Player {self.name} has {len(self.all_cards)} cards'"
   ]
  },
  {
   "cell_type": "code",
   "execution_count": null,
   "id": "b8407396-7468-4b3e-a2ae-3ae45f715c26",
   "metadata": {},
   "outputs": [],
   "source": [
    "player = Player('Animesh')"
   ]
  },
  {
   "cell_type": "code",
   "execution_count": null,
   "id": "74efaaed-8da4-4349-8e88-05751f40f3ff",
   "metadata": {},
   "outputs": [],
   "source": [
    "print(player)"
   ]
  },
  {
   "cell_type": "code",
   "execution_count": null,
   "id": "1da7b7f1-7022-40bd-9482-6e5defeab41e",
   "metadata": {},
   "outputs": [],
   "source": [
    "player.add_cards(mycard)"
   ]
  },
  {
   "cell_type": "code",
   "execution_count": null,
   "id": "3f698118-1a6f-42c6-b1bf-d02229dd913d",
   "metadata": {},
   "outputs": [],
   "source": [
    "print(player)"
   ]
  },
  {
   "cell_type": "code",
   "execution_count": null,
   "id": "75110c66-85e5-4487-89b6-82cb820963be",
   "metadata": {},
   "outputs": [],
   "source": [
    "print(mycard)"
   ]
  },
  {
   "cell_type": "code",
   "execution_count": null,
   "id": "6011724d-fdd7-4a7b-96ac-0f01759c1b5d",
   "metadata": {},
   "outputs": [],
   "source": [
    "print(player.all_cards[0])"
   ]
  },
  {
   "cell_type": "code",
   "execution_count": null,
   "id": "74ec1069-aa12-41e4-93b6-2384a5408e74",
   "metadata": {},
   "outputs": [],
   "source": [
    "player"
   ]
  },
  {
   "cell_type": "code",
   "execution_count": null,
   "id": "8f140dda-e0d3-459e-bc0e-f78b1282dfca",
   "metadata": {},
   "outputs": [],
   "source": [
    "player.add_cards([mycard,mycard,mycard])"
   ]
  },
  {
   "cell_type": "code",
   "execution_count": null,
   "id": "59a5b5c7-2d94-402e-9f4a-21ecf18f80c6",
   "metadata": {},
   "outputs": [],
   "source": [
    "print(player)"
   ]
  },
  {
   "cell_type": "code",
   "execution_count": null,
   "id": "3857e93e-22a9-433b-9d30-4c2d11c597cf",
   "metadata": {},
   "outputs": [],
   "source": [
    "player.remove_one()"
   ]
  },
  {
   "cell_type": "code",
   "execution_count": null,
   "id": "dd81b4ef-2f37-4bd6-a76a-39bfd0b6f9a0",
   "metadata": {},
   "outputs": [],
   "source": [
    "print(player)"
   ]
  },
  {
   "cell_type": "code",
   "execution_count": null,
   "id": "863c690f-0516-4a2f-8396-0f5f4541d3cf",
   "metadata": {},
   "outputs": [],
   "source": [
    "#Game Setup"
   ]
  },
  {
   "cell_type": "code",
   "execution_count": null,
   "id": "5af962b4-b633-4a28-8d29-1fed86a28b25",
   "metadata": {},
   "outputs": [],
   "source": [
    "import random\n",
    "suits = ('Hearts','Clubs','Spades','Diamonds')\n",
    "values = {\n",
    "    'Two': 2,\n",
    "    'Three': 3,\n",
    "    'Four': 4,\n",
    "    'Five': 5,\n",
    "    'Six': 6,\n",
    "    'Seven': 7,\n",
    "    'Eight': 8,\n",
    "    'Nine': 9,\n",
    "    'Ten': 10,\n",
    "    'Jack': 11,\n",
    "    'Queen': 12,\n",
    "    'King': 13,\n",
    "    'Ace': 14\n",
    "}\n",
    "ranks = ('Two','Three','Four','Five','Six','Seven','Eight','Nine',\n",
    "        'Ten','Jack','Queen','King','Ace')"
   ]
  },
  {
   "cell_type": "code",
   "execution_count": null,
   "id": "1a9fb7ea-4338-4094-93cf-bec5386dc11c",
   "metadata": {},
   "outputs": [],
   "source": [
    "from random import shuffle\n",
    "class Card:\n",
    "    def __init__(self,suit,rank):\n",
    "        self.suit = suit\n",
    "        self.rank = rank\n",
    "        self.value = values[rank]\n",
    "    def __str__(self):\n",
    "        return self.rank + \" of \" + self.suit\n",
    "\n",
    "class Deck:\n",
    "    def __init__(self):\n",
    "        \n",
    "        self.all_cards = []\n",
    "        \n",
    "        for suit in suits:\n",
    "            for rank in ranks:\n",
    "                self.all_cards.append(Card(suit,rank))\n",
    "    def shuffle_deck(self):\n",
    "        random.shuffle(self.all_cards)\n",
    "\n",
    "    def deal_one_card(self):\n",
    "        return self.all_cards.pop()\n",
    "\n",
    "class Player:\n",
    "    def __init__(self,name):\n",
    "        self.name = name\n",
    "        self.all_cards = []\n",
    "\n",
    "    def remove_one(self):\n",
    "        return self.all_cards.pop(0)\n",
    "\n",
    "    def add_cards(self,new_cards):\n",
    "        if type(new_cards) == type([]):\n",
    "            self.all_cards.extend(new_cards)\n",
    "        else:\n",
    "            #When adding just one card\n",
    "            self.all_cards.append(new_cards)\n",
    "            \n",
    "    def __str__(self):\n",
    "        return f'Player {self.name} has {len(self.all_cards)} cards'"
   ]
  },
  {
   "cell_type": "code",
   "execution_count": null,
   "id": "6ff214a6-7263-40c4-875f-d007deb8e4f2",
   "metadata": {},
   "outputs": [],
   "source": [
    "\n",
    "playerone = Player(\"One\")\n",
    "playertwo = Player(\"Two\")\n",
    "\n",
    "newdeck = Deck()\n",
    "newdeck.shuffle_deck()"
   ]
  },
  {
   "cell_type": "code",
   "execution_count": null,
   "id": "b1576af5-06ae-4a40-b60c-cf65ea90b627",
   "metadata": {},
   "outputs": [],
   "source": [
    "for x in range(26):\n",
    "    playerone.add_cards(newdeck.deal_one_card())\n",
    "    playertwo.add_cards(newdeck.deal_one_card())"
   ]
  },
  {
   "cell_type": "code",
   "execution_count": null,
   "id": "626bf7d3-0c3e-436f-8baa-b9cb1b7859f9",
   "metadata": {},
   "outputs": [],
   "source": []
  },
  {
   "cell_type": "code",
   "execution_count": null,
   "id": "f39f01da-1aee-4326-a497-ea3dbdb270e7",
   "metadata": {},
   "outputs": [],
   "source": [
    "game_on = True\n",
    "round_num = 0\n",
    "\n",
    "while game_on:\n",
    "    round_num +=1\n",
    "    print(f\"Rounds {round_num}\")\n",
    "\n",
    "    if len(playerone.all_cards) == 0:\n",
    "        print('Player One, out of cards! Player Two wins!')\n",
    "        game_on = False\n",
    "        break\n",
    "    if len(playertwo.all_cards) == 0:\n",
    "        print('Player Two, out of cards! Player One wins!')\n",
    "        game_on = False\n",
    "        break\n",
    "\n",
    "    player_one_cards = []\n",
    "    player_one_cards.append(playerone.remove_one())\n",
    "    \n",
    "    player_two_cards = []\n",
    "    player_two_cards.append(playertwo.remove_one())    \n",
    "\n",
    "    at_war = True\n",
    "\n",
    "    while at_war:\n",
    "        if player_one_cards[-1].value > player_two_cards[-1].value:\n",
    "            playerone.add_cards(player_one_cards)\n",
    "            playerone.add_cards(player_two_cards)\n",
    "\n",
    "            at_war = False\n",
    "        elif player_one_cards[-1].value < player_two_cards[-1].value:\n",
    "            playertwo.add_cards(player_two_cards)\n",
    "            playertwo.add_cards(player_two_cards)\n",
    "\n",
    "            at_war = False\n",
    "\n",
    "        else:\n",
    "            print('WAR')\n",
    "            if len(playerone.all_cards)<2:\n",
    "                print(\"Player One doesn't have enough cards\")\n",
    "                print(\"Player Two wins\")\n",
    "                game_on = False\n",
    "                break\n",
    "            elif len(playertwo.all_cards)<2:\n",
    "                print(\"Player Two doesn't have enough cards\")\n",
    "                print(\"Player One wins\")\n",
    "                game_on = False\n",
    "                break\n",
    "            else:\n",
    "                for num in range(2):\n",
    "                    player_one_cards.append(playerone.remove_one())\n",
    "                    player_two_cards.append(playertwo.remove_one())\n",
    "    \n",
    "                "
   ]
  },
  {
   "cell_type": "markdown",
   "id": "cac3be61-9b46-4f94-bdb1-fb75abd543a0",
   "metadata": {},
   "source": [
    "\n",
    "Collection Module\n"
   ]
  },
  {
   "cell_type": "code",
   "execution_count": null,
   "id": "05b09520-a4fa-4bdd-8b96-7d2866311084",
   "metadata": {},
   "outputs": [],
   "source": [
    "from collections import Counter"
   ]
  },
  {
   "cell_type": "code",
   "execution_count": null,
   "id": "31e38c7d-2778-487d-87fa-9c3e3e9c126e",
   "metadata": {},
   "outputs": [],
   "source": [
    "mylist = [1,1,1,1,2,2,2,2,3,3,3,3,3,3]"
   ]
  },
  {
   "cell_type": "code",
   "execution_count": null,
   "id": "95a87d72-1532-4fe5-b56a-6498b5da0c1b",
   "metadata": {},
   "outputs": [],
   "source": [
    "# Counter is a specialized Dictionary\n",
    "Counter(mylist)"
   ]
  },
  {
   "cell_type": "code",
   "execution_count": null,
   "id": "8a01e140-d272-4efd-8ab7-fa13b7376fa2",
   "metadata": {},
   "outputs": [],
   "source": [
    "sentence = \"How many times does each word show up in this sentence with a word\""
   ]
  },
  {
   "cell_type": "code",
   "execution_count": null,
   "id": "446a6935-9cc4-4b7b-99aa-66d0d8b1446c",
   "metadata": {},
   "outputs": [],
   "source": [
    "Counter(sentence.split())"
   ]
  },
  {
   "cell_type": "code",
   "execution_count": null,
   "id": "81dfe5f5-282a-41fe-b9a1-26e3366be7be",
   "metadata": {},
   "outputs": [],
   "source": [
    "letters = \"aswddddddasaaaddadvvcccvbbbb\""
   ]
  },
  {
   "cell_type": "code",
   "execution_count": null,
   "id": "bc68ae11-791c-44bd-8f93-8b49fa2b5a8a",
   "metadata": {},
   "outputs": [],
   "source": [
    "c = Counter(letters)"
   ]
  },
  {
   "cell_type": "code",
   "execution_count": null,
   "id": "d2556bfb-aeeb-4c0a-99ae-20c6b807c08f",
   "metadata": {},
   "outputs": [],
   "source": [
    "c"
   ]
  },
  {
   "cell_type": "code",
   "execution_count": null,
   "id": "8a0ebb5f-e641-4539-a9ec-aaf8a5e37714",
   "metadata": {},
   "outputs": [],
   "source": [
    "# This gives the top three most common letters from the string\n",
    "c.most_common(3)"
   ]
  },
  {
   "cell_type": "code",
   "execution_count": null,
   "id": "79ebc01a-45b2-47c2-b6b0-47c6403c4ab5",
   "metadata": {},
   "outputs": [],
   "source": [
    "list(c)"
   ]
  },
  {
   "cell_type": "code",
   "execution_count": null,
   "id": "a3823de4-3cc6-47d0-9bdc-d903093c5810",
   "metadata": {},
   "outputs": [],
   "source": [
    "from collections import defaultdict"
   ]
  },
  {
   "cell_type": "code",
   "execution_count": null,
   "id": "5aed45b0-a49f-472f-bfaf-f315626a9ebb",
   "metadata": {},
   "outputs": [],
   "source": [
    "d = {'a':10}"
   ]
  },
  {
   "cell_type": "code",
   "execution_count": null,
   "id": "ca6a092f-8ed8-4371-8ce2-0e560009e36f",
   "metadata": {},
   "outputs": [],
   "source": [
    "d['a']"
   ]
  },
  {
   "cell_type": "code",
   "execution_count": null,
   "id": "de7d6840-84b0-412b-ae59-7de7b22a09dd",
   "metadata": {},
   "outputs": [],
   "source": [
    "d['WRONG']"
   ]
  },
  {
   "cell_type": "code",
   "execution_count": null,
   "id": "c7862e7d-811d-4258-9509-3433814854e2",
   "metadata": {},
   "outputs": [],
   "source": [
    "d = defaultdict(lambda:0)"
   ]
  },
  {
   "cell_type": "code",
   "execution_count": null,
   "id": "537829e1-1f70-41a7-a0f2-30661918055f",
   "metadata": {},
   "outputs": [],
   "source": [
    "d['WRONG']"
   ]
  },
  {
   "cell_type": "code",
   "execution_count": null,
   "id": "9f64b7d5-2213-48c2-a9f8-d4e11009c4ad",
   "metadata": {},
   "outputs": [],
   "source": [
    "d"
   ]
  },
  {
   "cell_type": "code",
   "execution_count": null,
   "id": "80c3e6c1-f5f8-42e6-943e-96ea816990b8",
   "metadata": {},
   "outputs": [],
   "source": [
    "mytuple = (10,20,30)"
   ]
  },
  {
   "cell_type": "code",
   "execution_count": null,
   "id": "34d429d3-4310-4f1a-9f43-597cf66825b6",
   "metadata": {},
   "outputs": [],
   "source": [
    "mytuple[0]"
   ]
  },
  {
   "cell_type": "code",
   "execution_count": null,
   "id": "8d1e785f-1c9f-45fd-be63-7b3471252777",
   "metadata": {},
   "outputs": [],
   "source": [
    "from collections import namedtuple"
   ]
  },
  {
   "cell_type": "code",
   "execution_count": null,
   "id": "444b183f-c5d8-4b79-bdff-8219b3734f0e",
   "metadata": {},
   "outputs": [],
   "source": [
    "Dog = namedtuple('Dog',['age','breed','name'])"
   ]
  },
  {
   "cell_type": "code",
   "execution_count": null,
   "id": "af5c8f73-e295-4fb4-8c35-26046635f589",
   "metadata": {},
   "outputs": [],
   "source": [
    "sammy = Dog(age = 5,breed = 'Husky',name = 'Sam')"
   ]
  },
  {
   "cell_type": "code",
   "execution_count": null,
   "id": "bc640f98-d77c-4343-8841-b739df1a9eb4",
   "metadata": {},
   "outputs": [],
   "source": [
    "sammy\n"
   ]
  },
  {
   "cell_type": "code",
   "execution_count": null,
   "id": "be1d0049-8381-4e5b-ae57-ec4c14f6aa9d",
   "metadata": {},
   "outputs": [],
   "source": [
    "sammy.age"
   ]
  },
  {
   "cell_type": "code",
   "execution_count": null,
   "id": "1d07ba44-ffb7-4fbb-bd7d-febc261a0b72",
   "metadata": {},
   "outputs": [],
   "source": [
    "sammy.breed"
   ]
  },
  {
   "cell_type": "code",
   "execution_count": null,
   "id": "dfc04f1f-73ec-47af-bf03-be58168e450f",
   "metadata": {},
   "outputs": [],
   "source": [
    "#Python-OS module"
   ]
  },
  {
   "cell_type": "code",
   "execution_count": null,
   "id": "0d672a1d-294c-4c86-a423-e4dab4c54757",
   "metadata": {},
   "outputs": [],
   "source": [
    "pwd"
   ]
  },
  {
   "cell_type": "code",
   "execution_count": null,
   "id": "8c07330f-60ff-4d2a-9a31-857c1916d07a",
   "metadata": {},
   "outputs": [],
   "source": [
    "f = open('practice.txt','w+')\n",
    "f.write('This is a test string. I am Animesh.')\n",
    "f.close()"
   ]
  },
  {
   "cell_type": "code",
   "execution_count": null,
   "id": "16ec9d4b-4675-4437-97b4-7dcdd8d5df58",
   "metadata": {},
   "outputs": [],
   "source": [
    "import os"
   ]
  },
  {
   "cell_type": "code",
   "execution_count": null,
   "id": "f8276557-e341-47bd-b087-72f541c25179",
   "metadata": {},
   "outputs": [],
   "source": [
    "os.getcwd()"
   ]
  },
  {
   "cell_type": "code",
   "execution_count": null,
   "id": "bef6797a-5595-42d6-9245-fb6d5541f3e8",
   "metadata": {},
   "outputs": [],
   "source": [
    "os.listdir('/Users')"
   ]
  },
  {
   "cell_type": "code",
   "execution_count": null,
   "id": "da246f56-3a20-4e9a-8d0d-66ada0b19de0",
   "metadata": {},
   "outputs": [],
   "source": [
    "# Used to move files to different locations\n",
    "import shutil"
   ]
  },
  {
   "cell_type": "code",
   "execution_count": null,
   "id": "a3203f70-bd05-48ac-b48a-809ef794d8e5",
   "metadata": {},
   "outputs": [],
   "source": [
    "os.listdir()"
   ]
  },
  {
   "cell_type": "code",
   "execution_count": null,
   "id": "f698704b-c3f5-4328-84ce-0d578110b653",
   "metadata": {},
   "outputs": [],
   "source": [
    "os.listdir('/Users/animeshmishra/Desktop')"
   ]
  },
  {
   "cell_type": "markdown",
   "id": "357503e2-d7a9-4339-9bc2-1f5d241b046e",
   "metadata": {},
   "source": [
    "Deleting Files"
   ]
  },
  {
   "cell_type": "code",
   "execution_count": 2,
   "id": "608dcf02-90f1-4199-a23e-585207a6b2f6",
   "metadata": {},
   "outputs": [],
   "source": [
    "# os.unlink(path)\n",
    "# os.rmdir(path)\n",
    "\n",
    "# shutil.remtree(path) This command is very dangerous \n",
    "# this deletion cannot be reversed\n",
    "\n"
   ]
  },
  {
   "cell_type": "code",
   "execution_count": null,
   "id": "a6a34444-2ad3-424b-8b5e-d690101651f7",
   "metadata": {},
   "outputs": [],
   "source": [
    "import send2trash"
   ]
  },
  {
   "cell_type": "code",
   "execution_count": null,
   "id": "a325af13-037f-4746-a883-8f4d64dd2003",
   "metadata": {},
   "outputs": [],
   "source": [
    "import os"
   ]
  },
  {
   "cell_type": "code",
   "execution_count": null,
   "id": "21579472-60fc-4158-9421-110d0679da53",
   "metadata": {},
   "outputs": [],
   "source": [
    "os.listdir()"
   ]
  },
  {
   "cell_type": "code",
   "execution_count": null,
   "id": "f23e9db8-0293-4449-857e-58ac17e54557",
   "metadata": {},
   "outputs": [],
   "source": [
    "send2trash.send2trash('practice.txt')"
   ]
  },
  {
   "cell_type": "code",
   "execution_count": null,
   "id": "c7c3eaa5-3654-4e14-8c80-a9ef05edf73c",
   "metadata": {},
   "outputs": [],
   "source": [
    "os.listdir()"
   ]
  },
  {
   "cell_type": "markdown",
   "id": "e1be68ac-226a-45f4-ac8d-f33bf1a65a52",
   "metadata": {},
   "source": [
    "PYTHON DATE_TIME MODULE"
   ]
  },
  {
   "cell_type": "code",
   "execution_count": null,
   "id": "0144f90b-4a6d-4670-92db-f8c6d0e25c5e",
   "metadata": {},
   "outputs": [],
   "source": [
    "import datetime"
   ]
  },
  {
   "cell_type": "code",
   "execution_count": null,
   "id": "fc0ef8ee-46e7-4aa1-a962-77ccdc570fb8",
   "metadata": {},
   "outputs": [],
   "source": [
    "mytime = datetime.time(2,20) \n",
    "# this is a 24-hour clock"
   ]
  },
  {
   "cell_type": "code",
   "execution_count": null,
   "id": "4285d320-074d-46f9-9397-44955ee4cf8e",
   "metadata": {},
   "outputs": [],
   "source": [
    "mytime.minute"
   ]
  },
  {
   "cell_type": "code",
   "execution_count": null,
   "id": "bbf86a36-e01e-43f3-ae00-77d3652db027",
   "metadata": {},
   "outputs": [],
   "source": [
    "print(mytime)"
   ]
  },
  {
   "cell_type": "code",
   "execution_count": null,
   "id": "61f9ed7f-f804-4a03-bc22-1b73b213232c",
   "metadata": {},
   "outputs": [],
   "source": [
    "mytime.microsecond"
   ]
  },
  {
   "cell_type": "code",
   "execution_count": null,
   "id": "14432ddc-b570-4c42-9712-7ca20ffb8206",
   "metadata": {},
   "outputs": [],
   "source": [
    "mytime.hour"
   ]
  },
  {
   "cell_type": "code",
   "execution_count": null,
   "id": "2bc430ef-2e79-4a7a-a37f-9612249bdd49",
   "metadata": {},
   "outputs": [],
   "source": [
    "today = datetime.date.today()"
   ]
  },
  {
   "cell_type": "code",
   "execution_count": null,
   "id": "11fe8e97-4b3a-41d0-973c-b30e038dd1db",
   "metadata": {},
   "outputs": [],
   "source": [
    "print(today)\n",
    "# This follows the European date keeping format"
   ]
  },
  {
   "cell_type": "code",
   "execution_count": null,
   "id": "9fa2b9a1-03fb-4e4c-8eda-1a57639231f8",
   "metadata": {},
   "outputs": [],
   "source": [
    "today.day"
   ]
  },
  {
   "cell_type": "code",
   "execution_count": null,
   "id": "d2556106-93ac-4311-ab2c-0bbc5f70cff1",
   "metadata": {},
   "outputs": [],
   "source": [
    "today.ctime()"
   ]
  },
  {
   "cell_type": "code",
   "execution_count": null,
   "id": "3f3fa2e6-b734-4d55-bb14-865e7d9a2441",
   "metadata": {},
   "outputs": [],
   "source": [
    "from datetime import datetime"
   ]
  },
  {
   "cell_type": "code",
   "execution_count": null,
   "id": "b88a0d19-babc-4538-b91f-ab22f0a43361",
   "metadata": {},
   "outputs": [],
   "source": [
    "mydatetime = datetime(2024,10,3,14,30)"
   ]
  },
  {
   "cell_type": "code",
   "execution_count": null,
   "id": "03f51c20-fdba-487a-b900-5375e48e02f1",
   "metadata": {},
   "outputs": [],
   "source": [
    "print(mydatetime)"
   ]
  },
  {
   "cell_type": "code",
   "execution_count": null,
   "id": "80c5bd4f-8b42-4dc4-8e2c-95a531fe4b47",
   "metadata": {},
   "outputs": [],
   "source": [
    "mydatetime.replace(year = 2025)"
   ]
  },
  {
   "cell_type": "code",
   "execution_count": null,
   "id": "1c9f43f3-4f70-4ca6-b928-faf93f14e87a",
   "metadata": {},
   "outputs": [],
   "source": [
    "#arithmetic on dates"
   ]
  },
  {
   "cell_type": "code",
   "execution_count": null,
   "id": "c7bd6416-3e40-4e6f-8873-089180b14aa5",
   "metadata": {},
   "outputs": [],
   "source": [
    "from datetime import date"
   ]
  },
  {
   "cell_type": "code",
   "execution_count": null,
   "id": "97e0f60a-9efa-4ae4-a85d-032b748fc886",
   "metadata": {},
   "outputs": [],
   "source": [
    "date1 = date(2024,7,21)\n",
    "date2 = date(2025,9,18)"
   ]
  },
  {
   "cell_type": "code",
   "execution_count": null,
   "id": "c94d19ed-b3c2-427a-9a99-18a55ae1b98d",
   "metadata": {},
   "outputs": [],
   "source": [
    "result = date2-date1 "
   ]
  },
  {
   "cell_type": "code",
   "execution_count": null,
   "id": "49e48278-73ed-426c-871c-ac95a8bbcca3",
   "metadata": {},
   "outputs": [],
   "source": [
    "print(result)"
   ]
  },
  {
   "cell_type": "code",
   "execution_count": null,
   "id": "f677f728-e433-400d-a3b7-14d05c032b60",
   "metadata": {},
   "outputs": [],
   "source": [
    "date1.replace(year = 2025)"
   ]
  },
  {
   "cell_type": "code",
   "execution_count": null,
   "id": "e10bbc08-e40f-4af6-afca-c3388ef43138",
   "metadata": {},
   "outputs": [],
   "source": [
    "datetime1 = datetime(2024,7,21,23,44)\n",
    "datetime2 = datetime(2025,9,18,4,3)"
   ]
  },
  {
   "cell_type": "code",
   "execution_count": null,
   "id": "2e41db62-47cf-4e7c-a417-981c2be265ff",
   "metadata": {},
   "outputs": [],
   "source": [
    "result1 = datetime2-datetime1 "
   ]
  },
  {
   "cell_type": "code",
   "execution_count": null,
   "id": "c761f71c-6089-4075-b82f-f48fc71ba5ad",
   "metadata": {},
   "outputs": [],
   "source": [
    "print(result1)"
   ]
  },
  {
   "cell_type": "markdown",
   "id": "0c047d48-7864-4cdf-87b0-9af62f8a5bc4",
   "metadata": {},
   "source": [
    "MATH AND RANDOM MODULE"
   ]
  },
  {
   "cell_type": "code",
   "execution_count": null,
   "id": "1c0e91af-b3b5-4ed7-af95-b3a70ed8ca92",
   "metadata": {},
   "outputs": [],
   "source": [
    "import math"
   ]
  },
  {
   "cell_type": "code",
   "execution_count": null,
   "id": "42487573-c2aa-4beb-ab8d-d7da213b2a8a",
   "metadata": {},
   "outputs": [],
   "source": [
    "help(math)"
   ]
  },
  {
   "cell_type": "code",
   "execution_count": null,
   "id": "0b0b77d7-64d0-424e-be37-7ce3d0f570f2",
   "metadata": {},
   "outputs": [],
   "source": [
    "value = 4.355"
   ]
  },
  {
   "cell_type": "code",
   "execution_count": null,
   "id": "9a8366d7-0621-456a-84c6-6a27eb594f87",
   "metadata": {},
   "outputs": [],
   "source": [
    "math.floor(value)"
   ]
  },
  {
   "cell_type": "code",
   "execution_count": null,
   "id": "3689fd6e-d926-4bd1-a254-601d4292b088",
   "metadata": {},
   "outputs": [],
   "source": [
    "math.ceil(value)"
   ]
  },
  {
   "cell_type": "code",
   "execution_count": null,
   "id": "d675eabf-1a62-442b-a874-ce644446723a",
   "metadata": {},
   "outputs": [],
   "source": [
    "round(value)"
   ]
  },
  {
   "cell_type": "code",
   "execution_count": null,
   "id": "2db31a89-0fad-493d-b2ac-19f3db215d76",
   "metadata": {},
   "outputs": [],
   "source": [
    "round(4.5)"
   ]
  },
  {
   "cell_type": "code",
   "execution_count": null,
   "id": "dec41f9e-a9d9-4c0d-b214-2e2fbedef169",
   "metadata": {},
   "outputs": [],
   "source": [
    "math.nan"
   ]
  },
  {
   "cell_type": "code",
   "execution_count": null,
   "id": "285a7204-da93-42f5-9a69-0189d3e9f20d",
   "metadata": {},
   "outputs": [],
   "source": [
    "math.log(math.e)"
   ]
  },
  {
   "cell_type": "code",
   "execution_count": null,
   "id": "1844c9bf-d738-4170-883e-5722da807142",
   "metadata": {},
   "outputs": [],
   "source": [
    "math.e"
   ]
  },
  {
   "cell_type": "code",
   "execution_count": null,
   "id": "a049d011-ae01-4974-87da-ebab32902e6e",
   "metadata": {},
   "outputs": [],
   "source": [
    "math.log(100,8)"
   ]
  },
  {
   "cell_type": "code",
   "execution_count": null,
   "id": "53877483-92d0-4fb1-826e-46da19627e49",
   "metadata": {},
   "outputs": [],
   "source": [
    "math.sin(10)\n",
    "# This return value in radians"
   ]
  },
  {
   "cell_type": "code",
   "execution_count": null,
   "id": "4a8e9372-0fd9-4382-8af1-0de9d4162a1d",
   "metadata": {},
   "outputs": [],
   "source": [
    "math.degrees(math.sin(10))"
   ]
  },
  {
   "cell_type": "code",
   "execution_count": null,
   "id": "5bbdabcd-4f71-43b6-82b6-a76f962010f8",
   "metadata": {},
   "outputs": [],
   "source": [
    "math.radians(math.degrees(math.sin(10)))"
   ]
  },
  {
   "cell_type": "code",
   "execution_count": null,
   "id": "b3a9b417-e1ef-4ae3-b573-a227382f545e",
   "metadata": {},
   "outputs": [],
   "source": []
  },
  {
   "cell_type": "code",
   "execution_count": null,
   "id": "4cf001d1-1389-4617-bc68-386b3d533708",
   "metadata": {},
   "outputs": [],
   "source": []
  },
  {
   "cell_type": "code",
   "execution_count": null,
   "id": "da34935d-3301-4cae-9d33-8951ab4e2adb",
   "metadata": {},
   "outputs": [],
   "source": []
  },
  {
   "cell_type": "code",
   "execution_count": null,
   "id": "b5354e1b-9ba7-4da8-9dd8-406070a27572",
   "metadata": {},
   "outputs": [],
   "source": [
    "import random"
   ]
  },
  {
   "cell_type": "code",
   "execution_count": null,
   "id": "f8e056b5-7574-4589-8b69-65e48b30dcda",
   "metadata": {},
   "outputs": [],
   "source": [
    "random.randint(0,122)"
   ]
  },
  {
   "cell_type": "code",
   "execution_count": null,
   "id": "88893d71-db41-4f4a-afb0-a0e26ca9a920",
   "metadata": {},
   "outputs": [],
   "source": [
    "random.seed(10)\n",
    "random.randint(1,100)"
   ]
  },
  {
   "cell_type": "code",
   "execution_count": null,
   "id": "293020b3-a24d-4da9-be7a-a99c9abd90b1",
   "metadata": {},
   "outputs": [],
   "source": [
    "random.randint(1,100)"
   ]
  },
  {
   "cell_type": "code",
   "execution_count": null,
   "id": "b963986f-1069-44c9-abdc-ccd42b521c43",
   "metadata": {},
   "outputs": [],
   "source": [
    "random.randint(1,100)"
   ]
  },
  {
   "cell_type": "code",
   "execution_count": null,
   "id": "681070e7-989b-420b-a930-d1edf9ed2548",
   "metadata": {},
   "outputs": [],
   "source": [
    "random.seed(10)\n",
    "\n",
    "print(random.randint(1,100))\n",
    "print(random.randint(1,100))\n",
    "print(random.randint(1,100))\n",
    "print(random.randint(1,100))"
   ]
  },
  {
   "cell_type": "code",
   "execution_count": null,
   "id": "5238eca6-0ef8-443a-a1d3-e8c911e8b601",
   "metadata": {},
   "outputs": [],
   "source": [
    "mylist = list(range(0,20))"
   ]
  },
  {
   "cell_type": "code",
   "execution_count": null,
   "id": "f606f356-eda9-4e74-ad43-ad8d7be4ac44",
   "metadata": {},
   "outputs": [],
   "source": [
    "random.choice(mylist)"
   ]
  },
  {
   "cell_type": "code",
   "execution_count": null,
   "id": "4c528b44-a368-4eb7-aa96-a87126f124ea",
   "metadata": {},
   "outputs": [],
   "source": [
    "#sample with replacement\n",
    "\n",
    "random.choices(mylist,k=10)\n"
   ]
  },
  {
   "cell_type": "code",
   "execution_count": null,
   "id": "e905173c-6254-41a1-8214-ee309f6d37ac",
   "metadata": {},
   "outputs": [],
   "source": [
    "\n",
    "#sample without replacement\n",
    "random.sample(mylist,k=10)"
   ]
  },
  {
   "cell_type": "code",
   "execution_count": null,
   "id": "15f08e62-22f7-439a-a9e2-76cf0ec70b57",
   "metadata": {},
   "outputs": [],
   "source": [
    "# This returns a random floating-point number \n",
    "random.uniform(a=0,b=100)"
   ]
  },
  {
   "cell_type": "code",
   "execution_count": 4,
   "id": "83a5da5a-cf01-4d36-8a11-4a7d937aadb0",
   "metadata": {},
   "outputs": [],
   "source": [
    "#Regular expression module"
   ]
  },
  {
   "cell_type": "code",
   "execution_count": 6,
   "id": "a0e3cae6-26f2-4f0e-9e7e-d1223621a3b1",
   "metadata": {},
   "outputs": [],
   "source": [
    "# The re library allows us to create specialized pattern strings and then search for matches within the text"
   ]
  },
  {
   "cell_type": "code",
   "execution_count": 14,
   "id": "e8d4dcad-579f-4d86-afef-ff0ce28fa91a",
   "metadata": {},
   "outputs": [],
   "source": [
    "text = \"The agent's phone number is 4054-444-8913. Please contact him for queries.\""
   ]
  },
  {
   "cell_type": "code",
   "execution_count": 16,
   "id": "f7a99fe1-6291-466f-8561-396cfa7d4cda",
   "metadata": {},
   "outputs": [
    {
     "data": {
      "text/plain": [
       "True"
      ]
     },
     "execution_count": 16,
     "metadata": {},
     "output_type": "execute_result"
    }
   ],
   "source": [
    "'phone' in text"
   ]
  },
  {
   "cell_type": "code",
   "execution_count": 18,
   "id": "1fe6e4b3-b522-45a0-a87c-cd4ba097a4f6",
   "metadata": {},
   "outputs": [],
   "source": [
    "import re"
   ]
  },
  {
   "cell_type": "code",
   "execution_count": 20,
   "id": "995e64b2-6274-45f5-b2ef-9b2a1d020919",
   "metadata": {},
   "outputs": [],
   "source": [
    "pattern = 'phone'"
   ]
  },
  {
   "cell_type": "code",
   "execution_count": 22,
   "id": "b78de7a2-57b0-4124-93b9-9a5b7da1f523",
   "metadata": {},
   "outputs": [
    {
     "data": {
      "text/plain": [
       "<re.Match object; span=(12, 17), match='phone'>"
      ]
     },
     "execution_count": 22,
     "metadata": {},
     "output_type": "execute_result"
    }
   ],
   "source": [
    "re.search(pattern,text)"
   ]
  },
  {
   "cell_type": "code",
   "execution_count": 24,
   "id": "0df465b1-00b2-473d-8b98-ba608b5ece1f",
   "metadata": {},
   "outputs": [],
   "source": [
    "pattern = 'Not in text'"
   ]
  },
  {
   "cell_type": "code",
   "execution_count": 26,
   "id": "5229224c-ef91-4f10-885e-ef001ce90c94",
   "metadata": {},
   "outputs": [],
   "source": [
    "re.search(pattern,text)"
   ]
  },
  {
   "cell_type": "code",
   "execution_count": 28,
   "id": "1dfbaf1b-a9d2-4ff3-9317-4de7422cfa82",
   "metadata": {},
   "outputs": [],
   "source": [
    "pattern = 'phone'\n"
   ]
  },
  {
   "cell_type": "code",
   "execution_count": 30,
   "id": "bf9bef6a-042d-4ce3-aeda-a5a926926d59",
   "metadata": {},
   "outputs": [],
   "source": [
    "match = re.search(pattern,text)"
   ]
  },
  {
   "cell_type": "code",
   "execution_count": 32,
   "id": "7e8e60f8-84ab-4e78-a919-c948718b23f6",
   "metadata": {},
   "outputs": [
    {
     "data": {
      "text/plain": [
       "<re.Match object; span=(12, 17), match='phone'>"
      ]
     },
     "execution_count": 32,
     "metadata": {},
     "output_type": "execute_result"
    }
   ],
   "source": [
    "match"
   ]
  },
  {
   "cell_type": "code",
   "execution_count": 34,
   "id": "829b8a14-1e5a-4e69-ba42-5c3d913f2063",
   "metadata": {},
   "outputs": [
    {
     "data": {
      "text/plain": [
       "(12, 17)"
      ]
     },
     "execution_count": 34,
     "metadata": {},
     "output_type": "execute_result"
    }
   ],
   "source": [
    "match.span()"
   ]
  },
  {
   "cell_type": "code",
   "execution_count": 36,
   "id": "d43ba965-4a75-469b-abfd-16a3759ccde5",
   "metadata": {},
   "outputs": [],
   "source": [
    "text = \"my phone is in my phone pocket\"\n"
   ]
  },
  {
   "cell_type": "code",
   "execution_count": 38,
   "id": "2624d8b3-c2da-438f-9828-770e2602d582",
   "metadata": {},
   "outputs": [
    {
     "data": {
      "text/plain": [
       "<re.Match object; span=(3, 8), match='phone'>"
      ]
     },
     "execution_count": 38,
     "metadata": {},
     "output_type": "execute_result"
    }
   ],
   "source": [
    "re.search('phone',text)"
   ]
  },
  {
   "cell_type": "code",
   "execution_count": 42,
   "id": "66176a93-e2ef-4e28-a14d-624c873935cd",
   "metadata": {},
   "outputs": [],
   "source": [
    "matches = re.findall('phone',text)"
   ]
  },
  {
   "cell_type": "code",
   "execution_count": 44,
   "id": "fba2a683-8aa3-4edb-9e4a-577688f6737f",
   "metadata": {},
   "outputs": [
    {
     "data": {
      "text/plain": [
       "['phone', 'phone']"
      ]
     },
     "execution_count": 44,
     "metadata": {},
     "output_type": "execute_result"
    }
   ],
   "source": [
    "matches"
   ]
  },
  {
   "cell_type": "code",
   "execution_count": 48,
   "id": "69d7daae-e645-43d5-a652-b87cd56acf88",
   "metadata": {},
   "outputs": [
    {
     "data": {
      "text/plain": [
       "2"
      ]
     },
     "execution_count": 48,
     "metadata": {},
     "output_type": "execute_result"
    }
   ],
   "source": [
    "len(matches)"
   ]
  },
  {
   "cell_type": "code",
   "execution_count": 50,
   "id": "584fdab7-92bc-45e2-a6e5-de915847acd5",
   "metadata": {},
   "outputs": [
    {
     "name": "stdout",
     "output_type": "stream",
     "text": [
      "<re.Match object; span=(3, 8), match='phone'>\n",
      "<re.Match object; span=(18, 23), match='phone'>\n"
     ]
    }
   ],
   "source": [
    "for match in re.finditer('phone',text):\n",
    "    print(match)"
   ]
  },
  {
   "cell_type": "code",
   "execution_count": 52,
   "id": "0d297c28-81ba-479d-9a46-3ac12d1918d0",
   "metadata": {},
   "outputs": [
    {
     "name": "stdout",
     "output_type": "stream",
     "text": [
      "(3, 8)\n",
      "(18, 23)\n"
     ]
    }
   ],
   "source": [
    "for match in re.finditer('phone',text):\n",
    "    print(match.span())"
   ]
  },
  {
   "cell_type": "code",
   "execution_count": 76,
   "id": "29393dd8-6690-4f4a-8803-9f8b801798d2",
   "metadata": {},
   "outputs": [],
   "source": [
    "text = \"My phone number is 9830228189\""
   ]
  },
  {
   "cell_type": "code",
   "execution_count": 78,
   "id": "9a33a63b-2c2c-4f74-9821-64f44a6d4028",
   "metadata": {},
   "outputs": [],
   "source": [
    "phone = re.search('983-022-8189',text)"
   ]
  },
  {
   "cell_type": "code",
   "execution_count": 80,
   "id": "8f4e4d6b-4ce1-46a0-9cde-64a82bf1a4b8",
   "metadata": {},
   "outputs": [],
   "source": [
    "phone"
   ]
  },
  {
   "cell_type": "code",
   "execution_count": 82,
   "id": "e2a4f56c-b79c-4f75-a03b-21a0cd4029b6",
   "metadata": {},
   "outputs": [],
   "source": [
    "phone = re.search(r'd\\d\\d\\d\\d\\d\\d\\d\\d\\d',text)"
   ]
  },
  {
   "cell_type": "code",
   "execution_count": 86,
   "id": "d545d7ac-21bf-4c00-b1de-a271e9b65e1e",
   "metadata": {},
   "outputs": [
    {
     "name": "stdout",
     "output_type": "stream",
     "text": [
      "No match found\n"
     ]
    }
   ],
   "source": [
    "print(phone.group() if phone else \"No match found\")"
   ]
  },
  {
   "cell_type": "code",
   "execution_count": 98,
   "id": "c3c39d3b-a780-4d18-b902-150a9dae34d5",
   "metadata": {},
   "outputs": [
    {
     "name": "stdout",
     "output_type": "stream",
     "text": [
      "No match found\n"
     ]
    }
   ],
   "source": [
    "import re\n",
    "text = \"My phone number is 9830228189\"\n",
    "phone = re.search(r'\\d{3}-\\d{3}-\\d{4}', text)  # Matches 10 digits, without hyphens\n",
    "print(phone.group() if phone else \"No match found\")"
   ]
  },
  {
   "cell_type": "code",
   "execution_count": 96,
   "id": "09f84037-6a69-4ec4-be6d-1f7bf7742b6c",
   "metadata": {},
   "outputs": [
    {
     "name": "stdout",
     "output_type": "stream",
     "text": [
      "983-022-8189\n"
     ]
    }
   ],
   "source": [
    "import re\n",
    "text = \"My phone number is 983-022-8189\"\n",
    "phone = re.search(r'\\d{3}-\\d{3}-\\d{4}', text)  # Matches 10 digits, with hyphens\n",
    "print(phone.group() if phone else \"No match found\")"
   ]
  },
  {
   "cell_type": "code",
   "execution_count": 100,
   "id": "6fccd5ad-1f20-4ce5-b2c3-1a59fddfb00a",
   "metadata": {},
   "outputs": [
    {
     "name": "stdout",
     "output_type": "stream",
     "text": [
      "9830228189\n"
     ]
    }
   ],
   "source": [
    "import re\n",
    "text = \"My phone number is 9830228189\"\n",
    "phone = re.search(r'\\d{3}-?\\d{3}-?\\d{4}', text)  # Matches 10 digits, with or without hyphens\n",
    "print(phone.group() if phone else \"No match found\")"
   ]
  },
  {
   "cell_type": "markdown",
   "id": "3c9ae740-8a87-45bc-88af-b07785dd8fe2",
   "metadata": {},
   "source": [
    "TIMING YOUR PYTHON CODE"
   ]
  },
  {
   "cell_type": "code",
   "execution_count": 104,
   "id": "6e5b7b7f-76fc-4b84-9b6d-cec70e48ffc2",
   "metadata": {},
   "outputs": [],
   "source": [
    "def func1(n):\n",
    "    return [str(num) for num in range(n)]\n"
   ]
  },
  {
   "cell_type": "code",
   "execution_count": 106,
   "id": "9952f69d-27c5-4779-9f77-99ecb9f756a2",
   "metadata": {},
   "outputs": [
    {
     "data": {
      "text/plain": [
       "['0', '1', '2']"
      ]
     },
     "execution_count": 106,
     "metadata": {},
     "output_type": "execute_result"
    }
   ],
   "source": [
    "func1(3)"
   ]
  },
  {
   "cell_type": "code",
   "execution_count": 108,
   "id": "dcbefbbd-73b4-49bd-a91e-c53e776c96e4",
   "metadata": {},
   "outputs": [],
   "source": [
    "def func2(n):\n",
    "    return list(map(str,range(n)))"
   ]
  },
  {
   "cell_type": "code",
   "execution_count": 110,
   "id": "146366f5-13b0-4802-a03a-e039c78b39d1",
   "metadata": {},
   "outputs": [
    {
     "data": {
      "text/plain": [
       "['0', '1', '2', '3', '4']"
      ]
     },
     "execution_count": 110,
     "metadata": {},
     "output_type": "execute_result"
    }
   ],
   "source": [
    "func2(5)"
   ]
  },
  {
   "cell_type": "code",
   "execution_count": 112,
   "id": "529458ac-6c06-4694-b196-37d9f15d69cc",
   "metadata": {},
   "outputs": [],
   "source": [
    "import time"
   ]
  },
  {
   "cell_type": "code",
   "execution_count": 184,
   "id": "f257b87b-f8b3-415b-be18-50ac37bff273",
   "metadata": {},
   "outputs": [
    {
     "name": "stdout",
     "output_type": "stream",
     "text": [
      "0.1109769344329834\n"
     ]
    }
   ],
   "source": [
    "# current time\n",
    "start_time = time.time()\n",
    "\n",
    "# Running the code\n",
    "result = func1(1200000)\n",
    "# current time after running code\n",
    "end_time = time.time()\n",
    "# elaplsed time\n",
    "elapsed_time = end_time - start_time\n",
    "\n",
    "print(elapsed_time)"
   ]
  },
  {
   "cell_type": "code",
   "execution_count": 186,
   "id": "b97e4eb5-bd43-4143-940e-2e5a2fbb5f31",
   "metadata": {},
   "outputs": [
    {
     "name": "stdout",
     "output_type": "stream",
     "text": [
      "0.10181188583374023\n"
     ]
    }
   ],
   "source": [
    "# current time\n",
    "start_time = time.time()\n",
    "\n",
    "# Running the code\n",
    "result = func2(1200000)\n",
    "# current time after running code\n",
    "end_time = time.time()\n",
    "# elaplsed time\n",
    "elapsed_time = end_time - start_time\n",
    "\n",
    "print(elapsed_time)"
   ]
  },
  {
   "cell_type": "code",
   "execution_count": 206,
   "id": "2b69682b-5d3f-490b-9d71-aca9eeead31d",
   "metadata": {},
   "outputs": [],
   "source": [
    "import timeit\n"
   ]
  },
  {
   "cell_type": "code",
   "execution_count": 208,
   "id": "76e7c752-d985-4f84-8960-c4858cce4b7c",
   "metadata": {},
   "outputs": [],
   "source": [
    "stmt = '''\n",
    "func1(100000)\n",
    "'''"
   ]
  },
  {
   "cell_type": "code",
   "execution_count": 210,
   "id": "188376a4-78e4-4410-98cf-72ece56c0d1e",
   "metadata": {},
   "outputs": [],
   "source": [
    "setup = '''\n",
    "def func1(n):\n",
    "    return [str(num) for num in range(n)]\n",
    "'''"
   ]
  },
  {
   "cell_type": "code",
   "execution_count": 220,
   "id": "273ad7e7-d2ef-4867-9f59-15ba42396017",
   "metadata": {},
   "outputs": [
    {
     "ename": "KeyboardInterrupt",
     "evalue": "",
     "output_type": "error",
     "traceback": [
      "\u001b[0;31m---------------------------------------------------------------------------\u001b[0m",
      "\u001b[0;31mKeyboardInterrupt\u001b[0m                         Traceback (most recent call last)",
      "Cell \u001b[0;32mIn[220], line 1\u001b[0m\n\u001b[0;32m----> 1\u001b[0m timeit\u001b[38;5;241m.\u001b[39mtimeit(\u001b[38;5;124m'\u001b[39m\u001b[38;5;124mfunc1(100000)\u001b[39m\u001b[38;5;124m'\u001b[39m, setup\u001b[38;5;241m=\u001b[39msetup, number\u001b[38;5;241m=\u001b[39m\u001b[38;5;241m100000\u001b[39m)\n",
      "File \u001b[0;32m~/Downloads/anaconda3/lib/python3.11/timeit.py:237\u001b[0m, in \u001b[0;36mtimeit\u001b[0;34m(stmt, setup, timer, number, globals)\u001b[0m\n\u001b[1;32m    234\u001b[0m \u001b[38;5;28;01mdef\u001b[39;00m \u001b[38;5;21mtimeit\u001b[39m(stmt\u001b[38;5;241m=\u001b[39m\u001b[38;5;124m\"\u001b[39m\u001b[38;5;124mpass\u001b[39m\u001b[38;5;124m\"\u001b[39m, setup\u001b[38;5;241m=\u001b[39m\u001b[38;5;124m\"\u001b[39m\u001b[38;5;124mpass\u001b[39m\u001b[38;5;124m\"\u001b[39m, timer\u001b[38;5;241m=\u001b[39mdefault_timer,\n\u001b[1;32m    235\u001b[0m            number\u001b[38;5;241m=\u001b[39mdefault_number, \u001b[38;5;28mglobals\u001b[39m\u001b[38;5;241m=\u001b[39m\u001b[38;5;28;01mNone\u001b[39;00m):\n\u001b[1;32m    236\u001b[0m \u001b[38;5;250m    \u001b[39m\u001b[38;5;124;03m\"\"\"Convenience function to create Timer object and call timeit method.\"\"\"\u001b[39;00m\n\u001b[0;32m--> 237\u001b[0m     \u001b[38;5;28;01mreturn\u001b[39;00m Timer(stmt, setup, timer, \u001b[38;5;28mglobals\u001b[39m)\u001b[38;5;241m.\u001b[39mtimeit(number)\n",
      "File \u001b[0;32m~/Downloads/anaconda3/lib/python3.11/timeit.py:180\u001b[0m, in \u001b[0;36mTimer.timeit\u001b[0;34m(self, number)\u001b[0m\n\u001b[1;32m    178\u001b[0m gc\u001b[38;5;241m.\u001b[39mdisable()\n\u001b[1;32m    179\u001b[0m \u001b[38;5;28;01mtry\u001b[39;00m:\n\u001b[0;32m--> 180\u001b[0m     timing \u001b[38;5;241m=\u001b[39m \u001b[38;5;28mself\u001b[39m\u001b[38;5;241m.\u001b[39minner(it, \u001b[38;5;28mself\u001b[39m\u001b[38;5;241m.\u001b[39mtimer)\n\u001b[1;32m    181\u001b[0m \u001b[38;5;28;01mfinally\u001b[39;00m:\n\u001b[1;32m    182\u001b[0m     \u001b[38;5;28;01mif\u001b[39;00m gcold:\n",
      "File \u001b[0;32m<timeit-src>:9\u001b[0m, in \u001b[0;36minner\u001b[0;34m(_it, _timer)\u001b[0m\n",
      "File \u001b[0;32m<timeit-src>:5\u001b[0m, in \u001b[0;36mfunc1\u001b[0;34m(n)\u001b[0m\n",
      "File \u001b[0;32m<timeit-src>:5\u001b[0m, in \u001b[0;36m<listcomp>\u001b[0;34m(.0)\u001b[0m\n",
      "\u001b[0;31mKeyboardInterrupt\u001b[0m: "
     ]
    }
   ],
   "source": [
    "timeit.timeit('func1(100000)', setup=setup, number=100000)  # Fewer iterations"
   ]
  },
  {
   "cell_type": "code",
   "execution_count": 230,
   "id": "9508b273-933a-421b-9084-dce62262c58f",
   "metadata": {},
   "outputs": [
    {
     "data": {
      "text/plain": [
       "56.53677941701608"
      ]
     },
     "execution_count": 230,
     "metadata": {},
     "output_type": "execute_result"
    }
   ],
   "source": [
    "stmt = '''\n",
    "func2(1000)\n",
    "'''\n",
    "setup = '''\n",
    "def func2(n):\n",
    "    return list(map(str,range(n)))\n",
    "'''\n",
    "timeit.timeit('func2(100000)', setup=setup, number=10000)"
   ]
  },
  {
   "cell_type": "code",
   "execution_count": 234,
   "id": "07491eac-59e0-4083-ac32-ff3cbde0b2a2",
   "metadata": {},
   "outputs": [
    {
     "name": "stdout",
     "output_type": "stream",
     "text": [
      "5.85 µs ± 53 ns per loop (mean ± std. dev. of 7 runs, 100,000 loops each)\n"
     ]
    }
   ],
   "source": [
    "%%timeit\n",
    "func1(100)"
   ]
  },
  {
   "cell_type": "code",
   "execution_count": 236,
   "id": "50d0b732-a221-4cbf-b6db-9dce300d094b",
   "metadata": {},
   "outputs": [
    {
     "name": "stdout",
     "output_type": "stream",
     "text": [
      "5.64 µs ± 71.3 ns per loop (mean ± std. dev. of 7 runs, 100,000 loops each)\n"
     ]
    }
   ],
   "source": [
    "%%timeit\n",
    "func2(100)"
   ]
  },
  {
   "cell_type": "markdown",
   "id": "a2bbb572-bdb1-461f-aecc-10b5981f21ca",
   "metadata": {},
   "source": [
    "Zipping and unzipping files"
   ]
  },
  {
   "cell_type": "code",
   "execution_count": 242,
   "id": "b276fa9a-def9-4068-8ca4-dac95f591f9a",
   "metadata": {},
   "outputs": [],
   "source": [
    "f = open('fileone.txt','w+')\n",
    "f.write('OneFile')\n",
    "f.close()"
   ]
  },
  {
   "cell_type": "code",
   "execution_count": 244,
   "id": "1fca67f1-9956-4e36-99c9-905d8e47a587",
   "metadata": {},
   "outputs": [],
   "source": [
    "f = open('filetwo.txt','w+')\n",
    "f.write('TwoFile')\n",
    "f.close()"
   ]
  },
  {
   "cell_type": "code",
   "execution_count": 246,
   "id": "517955fc-37ce-4069-9449-0dc0098d1854",
   "metadata": {},
   "outputs": [],
   "source": [
    "import zipfile"
   ]
  },
  {
   "cell_type": "code",
   "execution_count": 248,
   "id": "802d5df0-2473-45a7-b42c-f912eb628d1c",
   "metadata": {},
   "outputs": [],
   "source": [
    "comp_file = zipfile.ZipFile('comp_file.zip','w')"
   ]
  },
  {
   "cell_type": "code",
   "execution_count": 250,
   "id": "d618ee66-2406-4bfc-bc33-09c34c892ec9",
   "metadata": {},
   "outputs": [],
   "source": [
    "comp_file.write('fileone.txt',compress_type = zipfile.ZIP_DEFLATED)"
   ]
  },
  {
   "cell_type": "code",
   "execution_count": 252,
   "id": "61ba9ac7-059c-44f9-bc25-e98ca19b447f",
   "metadata": {},
   "outputs": [],
   "source": [
    "comp_file.write('filetwo.txt',compress_type = zipfile.ZIP_DEFLATED)"
   ]
  },
  {
   "cell_type": "code",
   "execution_count": 254,
   "id": "d036480d-abd0-4089-b8cc-d272c7860234",
   "metadata": {},
   "outputs": [],
   "source": [
    "comp_file.close()"
   ]
  },
  {
   "cell_type": "code",
   "execution_count": 256,
   "id": "51f025f2-b391-4f57-b637-3aff53ec54b0",
   "metadata": {},
   "outputs": [],
   "source": [
    "zip_ext = zipfile.ZipFile('comp_file.zip','r')"
   ]
  },
  {
   "cell_type": "code",
   "execution_count": 258,
   "id": "643d0818-0d47-493f-90e8-f5a4f1f8dba4",
   "metadata": {},
   "outputs": [],
   "source": [
    "zip_ext.extractall('extracted content')"
   ]
  },
  {
   "cell_type": "code",
   "execution_count": 260,
   "id": "6ab81167-3dba-4da7-b5e4-8dadc807fffe",
   "metadata": {},
   "outputs": [
    {
     "data": {
      "text/plain": [
       "'/Users/animeshmishra/Desktop/Py_code'"
      ]
     },
     "execution_count": 260,
     "metadata": {},
     "output_type": "execute_result"
    }
   ],
   "source": [
    "pwd"
   ]
  },
  {
   "cell_type": "markdown",
   "id": "48e48165-bdcb-4de2-a523-98f811591cb2",
   "metadata": {},
   "source": [
    "ZIPPING AN ENTIRE FOLDER WITH SHUTIL"
   ]
  },
  {
   "cell_type": "code",
   "execution_count": 272,
   "id": "ebdf39b4-66ef-451c-bb7a-81f6f486cd6e",
   "metadata": {},
   "outputs": [],
   "source": [
    "import shutil"
   ]
  },
  {
   "cell_type": "code",
   "execution_count": 274,
   "id": "382608fb-eeea-4324-b932-db8290ad0842",
   "metadata": {},
   "outputs": [],
   "source": [
    "dir_to_zip = '/Users/animeshmishra/Desktop/Py_code'"
   ]
  },
  {
   "cell_type": "code",
   "execution_count": 276,
   "id": "8fe4c4b1-8ca4-477e-9eba-6cefbfa7a0ff",
   "metadata": {},
   "outputs": [],
   "source": [
    "output_filename = 'example'"
   ]
  },
  {
   "cell_type": "code",
   "execution_count": 278,
   "id": "18b0f72a-1598-4308-b699-c744addab29b",
   "metadata": {},
   "outputs": [
    {
     "data": {
      "text/plain": [
       "'/Users/animeshmishra/Desktop/Py_code/example.zip'"
      ]
     },
     "execution_count": 278,
     "metadata": {},
     "output_type": "execute_result"
    }
   ],
   "source": [
    "shutil.make_archive(output_filename,'zip',dir_to_zip)"
   ]
  },
  {
   "cell_type": "code",
   "execution_count": 281,
   "id": "9d09d295-40fd-4664-9e23-df41c27b0b8b",
   "metadata": {},
   "outputs": [],
   "source": [
    "shutil.unpack_archive('example.zip','final_unzip','zip')"
   ]
  },
  {
   "cell_type": "markdown",
   "id": "a581d8fe-df47-4981-b94e-5b531611b1a5",
   "metadata": {},
   "source": [
    "PYTHON DEBUGGER"
   ]
  },
  {
   "cell_type": "code",
   "execution_count": 11,
   "id": "aa3f1c57-460e-40b5-9b04-e6a6716629ae",
   "metadata": {},
   "outputs": [
    {
     "ename": "TypeError",
     "evalue": "unsupported operand type(s) for +: 'int' and 'list'",
     "output_type": "error",
     "traceback": [
      "\u001b[0;31m---------------------------------------------------------------------------\u001b[0m",
      "\u001b[0;31mTypeError\u001b[0m                                 Traceback (most recent call last)",
      "Cell \u001b[0;32mIn[11], line 6\u001b[0m\n\u001b[1;32m      3\u001b[0m z \u001b[38;5;241m=\u001b[39m \u001b[38;5;241m3\u001b[39m\n\u001b[1;32m      5\u001b[0m result1 \u001b[38;5;241m=\u001b[39m y\u001b[38;5;241m+\u001b[39mz\n\u001b[0;32m----> 6\u001b[0m result2 \u001b[38;5;241m=\u001b[39m y\u001b[38;5;241m+\u001b[39mx\n",
      "\u001b[0;31mTypeError\u001b[0m: unsupported operand type(s) for +: 'int' and 'list'"
     ]
    }
   ],
   "source": [
    "x = [1,2,3]\n",
    "y= 2\n",
    "z = 3\n",
    "\n",
    "result1 = y+z\n",
    "result2 = y+x"
   ]
  },
  {
   "cell_type": "code",
   "execution_count": null,
   "id": "1beeb90c-324c-48e2-a0bc-e8b0bed685d7",
   "metadata": {},
   "outputs": [],
   "source": [
    "import pdb"
   ]
  },
  {
   "cell_type": "code",
   "execution_count": null,
   "id": "0015ec6d-f928-4dcf-970a-11f6997bc041",
   "metadata": {},
   "outputs": [],
   "source": [
    "x = [1,2,3]\n",
    "y= 2\n",
    "z = 3\n",
    "\n",
    "result1 = y+z\n",
    "pdb.set_trace()\n",
    "result2 = y+x"
   ]
  },
  {
   "cell_type": "code",
   "execution_count": null,
   "id": "9200db53-3556-4a64-8c8d-476a78f2841c",
   "metadata": {},
   "outputs": [],
   "source": [
    "class Animal():\n",
    "\n",
    "    def __init__(self):\n",
    "        print(\"Animal Created\")\n",
    "\n",
    "    def who_am_i(self):\n",
    "        print(\"I am an Animal\")\n",
    "        \n",
    "    def eat(self):\n",
    "        print(\"I am eating\")"
   ]
  },
  {
   "cell_type": "code",
   "execution_count": null,
   "id": "caf7cbad-32ec-4a5a-a5a6-4e1b27096aca",
   "metadata": {},
   "outputs": [],
   "source": [
    "class Dog(Animal):\n",
    "    def __init__(self):\n",
    "        Animal.__init__(self)\n",
    "        print(\"Dog created\")\n",
    "    def eat(self):\n",
    "        print(\"The Dog is eating\")\n",
    "    def who_am_i(self):\n",
    "        print(\"I am a Dog\")\n",
    "    def bark(self):\n",
    "        print(\"I am barking\")"
   ]
  },
  {
   "cell_type": "code",
   "execution_count": null,
   "id": "9075764d-9718-4f5d-825f-d91da3611c89",
   "metadata": {},
   "outputs": [],
   "source": [
    "mydog = Dog()"
   ]
  },
  {
   "cell_type": "code",
   "execution_count": null,
   "id": "ef327487-c3c0-41e8-85b6-226e8439d840",
   "metadata": {},
   "outputs": [],
   "source": [
    "mydog.eat()"
   ]
  },
  {
   "cell_type": "code",
   "execution_count": null,
   "id": "154a6085-9139-47aa-9bab-cb480b5ee306",
   "metadata": {},
   "outputs": [],
   "source": [
    "mydog.who_am_i()"
   ]
  },
  {
   "cell_type": "code",
   "execution_count": null,
   "id": "124e42b5-a4cc-4cf1-b5ac-07a0c00fbe6c",
   "metadata": {},
   "outputs": [],
   "source": [
    "pi = 3.14\n",
    "class Cylinder:\n",
    "    \n",
    "    def __init__(self,height = 1,radius = 1):\n",
    "        self.height = height\n",
    "        self.radius = radius\n",
    "\n",
    "    def volume(self):\n",
    "        radius = self.radius\n",
    "        height = self.height\n",
    "        return pi*radius*radius*height\n",
    "    def surface_area(self):\n",
    "        radius = self.radius\n",
    "        height = self.height\n",
    "        return 2*pi*radius*height"
   ]
  },
  {
   "cell_type": "code",
   "execution_count": null,
   "id": "68b1e69f-a29a-46db-8187-e46f10506eb9",
   "metadata": {},
   "outputs": [],
   "source": [
    "mycy = Cylinder(5,7)"
   ]
  },
  {
   "cell_type": "code",
   "execution_count": null,
   "id": "dc28b1f5-695c-4662-b6dc-f19a26d8b372",
   "metadata": {},
   "outputs": [],
   "source": [
    "mycy.volume()"
   ]
  },
  {
   "cell_type": "code",
   "execution_count": null,
   "id": "f8b695c5-360d-4104-be75-38c21136b1a9",
   "metadata": {},
   "outputs": [],
   "source": [
    "mycy.surface_area()"
   ]
  },
  {
   "cell_type": "markdown",
   "id": "53088e00-b4b5-4b28-914e-6e33b5d0fca4",
   "metadata": {},
   "source": [
    "WEB SCRAPING"
   ]
  },
  {
   "cell_type": "code",
   "execution_count": null,
   "id": "729d0dea-73d7-4ac4-97ae-b15ad7892f13",
   "metadata": {},
   "outputs": [],
   "source": []
  },
  {
   "cell_type": "code",
   "execution_count": null,
   "id": "9698e99b-b3b8-48ac-866f-76496624f88d",
   "metadata": {},
   "outputs": [],
   "source": []
  }
 ],
 "metadata": {
  "kernelspec": {
   "display_name": "Python 3 (ipykernel)",
   "language": "python",
   "name": "python3"
  },
  "language_info": {
   "codemirror_mode": {
    "name": "ipython",
    "version": 3
   },
   "file_extension": ".py",
   "mimetype": "text/x-python",
   "name": "python",
   "nbconvert_exporter": "python",
   "pygments_lexer": "ipython3",
   "version": "3.11.8"
  }
 },
 "nbformat": 4,
 "nbformat_minor": 5
}
