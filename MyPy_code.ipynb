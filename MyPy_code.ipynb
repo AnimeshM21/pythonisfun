{
 "cells": [
  {
   "cell_type": "code",
   "execution_count": null,
   "id": "d3d0a590-4077-48d5-8d6b-03560dd28ccd",
   "metadata": {},
   "outputs": [],
   "source": [
    "    def user_choice():\n",
    "    choice = \"WRONG\"\n",
    "    acceptable_values = range(0,10)\n",
    "    within_range = False\n",
    "    \n",
    "    \n",
    "    while choice.isdigit() == False or within_range == False:\n",
    "         \n",
    "        choice = input(\"Please enter a number between 1 and 10\")\n",
    "        \n",
    "        if choice.isdigit() == False:\n",
    "            print(\"Sorry this is not a digit!!\")\n",
    "            \n",
    "        if choice.isdigit() == True:\n",
    "            if int(choice) in acceptable_values:\n",
    "                within_range = True\n",
    "            else:\n",
    "                print(\"Sorry you are out of the acceptable range\")\n",
    "                within_range = False\n",
    "    return int(choice)"
   ]
  },
  {
   "cell_type": "markdown",
   "id": "b690a7b1-ffed-43e3-9f0a-f0258ae2432a",
   "metadata": {},
   "source": [
    "## user_choice()\n"
   ]
  },
  {
   "cell_type": "code",
   "execution_count": null,
   "id": "e8b994aa-203c-405c-bc22-d0b317fa5b74",
   "metadata": {},
   "outputs": [],
   "source": [
    "user_choice()\n"
   ]
  },
  {
   "cell_type": "code",
   "execution_count": null,
   "id": "826d2583-90ec-45f9-9672-af26bced70a6",
   "metadata": {},
   "outputs": [],
   "source": [
    "row1 = [' ',' ',' ']\n",
    "row2 = [' ',' ',' ']\n",
    "row3 = [' ',' ',' ']"
   ]
  },
  {
   "cell_type": "code",
   "execution_count": null,
   "id": "b626aea6-5041-48e2-9fcc-4ed037172690",
   "metadata": {},
   "outputs": [],
   "source": [
    "\n",
    "def display(x,y,z):\n",
    "    print(x)\n",
    "    print(y)\n",
    "    print(z)"
   ]
  },
  {
   "cell_type": "code",
   "execution_count": null,
   "id": "07b6e38c-b4f9-4c94-b8c8-23874c3dde1c",
   "metadata": {},
   "outputs": [],
   "source": [
    "display(row1,row2,row3)\n"
   ]
  },
  {
   "cell_type": "code",
   "execution_count": null,
   "id": "0c27f575-5afe-4b82-b036-4dc106cc82b7",
   "metadata": {},
   "outputs": [],
   "source": [
    "row2[1] = 'X'"
   ]
  },
  {
   "cell_type": "code",
   "execution_count": null,
   "id": "601d733e-ffcd-4386-bb14-4bd121d6a878",
   "metadata": {},
   "outputs": [],
   "source": [
    "input(\"Please enter a value\")\n"
   ]
  },
  {
   "cell_type": "code",
   "execution_count": null,
   "id": "a0d2a0fa-cca9-4acb-9cd0-05ca6c382d5c",
   "metadata": {},
   "outputs": [],
   "source": [
    "row1[0] = int(input(\"Please enter a value at pos-7\"))"
   ]
  },
  {
   "cell_type": "code",
   "execution_count": null,
   "id": "da39fab5-51ce-4062-8195-cc3af8f58c27",
   "metadata": {},
   "outputs": [],
   "source": [
    "row1[1] = int(input(\"Please enter a value at pos-8\"))"
   ]
  },
  {
   "cell_type": "code",
   "execution_count": null,
   "id": "d7d92dd7-63a5-4752-81b1-eec0a455bd92",
   "metadata": {},
   "outputs": [],
   "source": [
    "row1[2] = int(input(\"Please enter a value at pos-9\"))"
   ]
  },
  {
   "cell_type": "code",
   "execution_count": null,
   "id": "1b783992-a14f-4268-8a11-570026599785",
   "metadata": {},
   "outputs": [],
   "source": [
    "display(row1,row2,row3)"
   ]
  },
  {
   "cell_type": "code",
   "execution_count": null,
   "id": "49530967-f619-4ef0-8711-5761dace75e7",
   "metadata": {},
   "outputs": [],
   "source": [
    "row2[0] = int(input(\"Please enter a value at pos-4\"))\n",
    "row2[1] = int(input(\"Please enter a value at pos-5\"))\n",
    "row2[2] = int(input(\"Please enter a value at pos-6\"))"
   ]
  },
  {
   "cell_type": "code",
   "execution_count": null,
   "id": "090908d0-ef4d-4027-8a0d-c873906fdb3a",
   "metadata": {},
   "outputs": [],
   "source": [
    "display(row1,row2,row3)\n"
   ]
  },
  {
   "cell_type": "code",
   "execution_count": null,
   "id": "7e747389-3db6-4958-9e0c-85cab3dc9a12",
   "metadata": {},
   "outputs": [],
   "source": [
    "row3[0] = int(input(\"Please enter a value at pos-1\"))\n",
    "row3[1] = int(input(\"Please enter a value at pos-2\"))\n",
    "row3[2] = int(input(\"Please enter a value at pos-3\"))"
   ]
  },
  {
   "cell_type": "code",
   "execution_count": null,
   "id": "c4000a14-c530-492a-ab89-f962c3510760",
   "metadata": {},
   "outputs": [],
   "source": [
    "display(row1,row2,row3)"
   ]
  },
  {
   "cell_type": "code",
   "execution_count": null,
   "id": "d405fc50-4814-4686-a8a6-f46cca5d6263",
   "metadata": {},
   "outputs": [],
   "source": [
    "my_list = [1,2,3,4,5]\n",
    "\n",
    "def user_choice():\n",
    "    choice = \"WRONG\"\n",
    "    acceptable_values = range(0,10)\n",
    "    within_range = False\n",
    "    \n",
    "     \n",
    "    while choice.isdigit() == False or within_range == False :\n",
    "        pos = input(\"Enter index position at which you want this number\")\n",
    "        choice = input(\"Please enter a number between 1 and 10\")\n",
    "        \n",
    "        if choice.isdigit() == False :\n",
    "            print(\"Sorry this is not a digit!!\")\n",
    "            \n",
    "        if choice.isdigit() == True :\n",
    "            if int(choice) in acceptable_values:\n",
    "                within_range = True\n",
    "            else:\n",
    "                print(\"Sorry you are out of the acceptable range\")\n",
    "                within_range = False\n",
    "    ls_pos = int(pos)\n",
    "    user_choice = int(choice)\n",
    "    my_list[ls_pos] = user_choice\n",
    "    playcont()\n",
    "    return my_list\n",
    "    \n",
    "\n"
   ]
  },
  {
   "cell_type": "code",
   "execution_count": null,
   "id": "f5009d30-0bc6-4dce-87fa-56d3bd625e67",
   "metadata": {},
   "outputs": [],
   "source": [
    "def playcont():\n",
    "    option = 'wrong'\n",
    "  \n",
    "    while option not in ['Y' , 'N']:\n",
    "\n",
    "        option = input(\"Enter Y to continue playing and N to end the game\")\n",
    "\n",
    "        if option not in ['Y' , 'N']:\n",
    "            clear_output()\n",
    "\n",
    "            print(\"Enter either Y or N\")\n",
    "\n",
    "    if option == 'Y':\n",
    "        print(my_list)\n",
    "        user_choice()\n",
    "        \n",
    "    else:\n",
    "        return my_list\n",
    "\n",
    "    "
   ]
  },
  {
   "cell_type": "code",
   "execution_count": null,
   "id": "2030191f-8467-4345-8f0a-481ed0149fab",
   "metadata": {},
   "outputs": [],
   "source": [
    "user_choice()\n"
   ]
  },
  {
   "cell_type": "code",
   "execution_count": null,
   "id": "c5107ee5-2ad0-4295-85b8-71a6ba72bd83",
   "metadata": {},
   "outputs": [],
   "source": [
    "# Object Oriented programming"
   ]
  },
  {
   "cell_type": "code",
   "execution_count": null,
   "id": "784f6492-95db-49c8-8847-37db7ea55b03",
   "metadata": {},
   "outputs": [],
   "source": [
    "class Dog():\n",
    "    #Class Object Attribute which is same for any instance of the class\n",
    "    \n",
    "    species = 'mammal'\n",
    "    def __init__(self,breed,age):\n",
    "        self.breed = breed\n",
    "        self.age = age\n",
    "\n",
    "    def bark(self):\n",
    "        print('Woof. I am {} years old'.format(self.age))"
   ]
  },
  {
   "cell_type": "code",
   "execution_count": null,
   "id": "7c119d28-ebc4-4ffc-81cd-ff1f6fb00ef4",
   "metadata": {},
   "outputs": [],
   "source": [
    "my_dog = Dog(breed = 'lab', age = 20)"
   ]
  },
  {
   "cell_type": "code",
   "execution_count": null,
   "id": "800c8c4a-1a55-47d6-951c-fa3bff401599",
   "metadata": {},
   "outputs": [],
   "source": [
    "my_dog.breed\n",
    "\n"
   ]
  },
  {
   "cell_type": "code",
   "execution_count": null,
   "id": "efd23893-f145-48f2-a434-d5e59b3029ad",
   "metadata": {},
   "outputs": [],
   "source": [
    "my_dog.species"
   ]
  },
  {
   "cell_type": "code",
   "execution_count": null,
   "id": "08fd998c-710b-4801-8c14-5580a212054f",
   "metadata": {},
   "outputs": [],
   "source": [
    "my_dog.bark()\n"
   ]
  },
  {
   "cell_type": "code",
   "execution_count": null,
   "id": "bee6b55a-7737-45e7-b713-3086ee688c7b",
   "metadata": {},
   "outputs": [],
   "source": [
    "\n",
    "class Circle():\n",
    "    pi = 3.141\n",
    "    def __init__(self,radius=1):\n",
    "        self.radius = radius\n",
    "        self.area = radius * radius * self.pi\n",
    "    #Method\n",
    "    def circumference(self):\n",
    "        return self.radius * self.pi * 2\n",
    "        "
   ]
  },
  {
   "cell_type": "code",
   "execution_count": null,
   "id": "361feeb7-3192-48b7-b54e-31707b8a5fff",
   "metadata": {},
   "outputs": [],
   "source": [
    "my_circle = Circle(9)"
   ]
  },
  {
   "cell_type": "code",
   "execution_count": null,
   "id": "91174f8b-123a-4408-83bf-60cfdcf4b713",
   "metadata": {},
   "outputs": [],
   "source": [
    "my_circle.pi"
   ]
  },
  {
   "cell_type": "code",
   "execution_count": null,
   "id": "bb6ed97e-64aa-4de6-b457-bbd73d4007a0",
   "metadata": {},
   "outputs": [],
   "source": [
    "my_circle.radius"
   ]
  },
  {
   "cell_type": "code",
   "execution_count": null,
   "id": "a4cdda1a-f5ae-4e46-bcfe-a84513acd7b1",
   "metadata": {},
   "outputs": [],
   "source": [
    "my_circle.circumference()"
   ]
  },
  {
   "cell_type": "code",
   "execution_count": null,
   "id": "a3491008-fb67-41f5-9496-af9b67664dd5",
   "metadata": {},
   "outputs": [],
   "source": [
    "my_circle.area"
   ]
  },
  {
   "cell_type": "code",
   "execution_count": null,
   "id": "652a6696",
   "metadata": {},
   "outputs": [],
   "source": [
    "class Animal():\n",
    "    def __init__(self):\n",
    "        print(\"Animal Created\")\n",
    "        \n",
    "    def who_am_i(self):\n",
    "        print(\"I am an animal\")\n",
    "        \n",
    "    def eat(self):\n",
    "        print(\"I am eating\")"
   ]
  },
  {
   "cell_type": "code",
   "execution_count": null,
   "id": "785fb77d",
   "metadata": {},
   "outputs": [],
   "source": [
    "myanimal = Animal()"
   ]
  },
  {
   "cell_type": "code",
   "execution_count": null,
   "id": "c11552d6",
   "metadata": {},
   "outputs": [],
   "source": [
    "class Dog(Animal):\n",
    "    def __init__(self):\n",
    "        Animal.__init__(self)\n",
    "        print(\"Dog Created\")\n",
    "        \n",
    "    def who_am_i(self):\n",
    "        print(\"I am a dog\")\n"
   ]
  },
  {
   "cell_type": "code",
   "execution_count": null,
   "id": "90cce1a7",
   "metadata": {},
   "outputs": [],
   "source": [
    "mydog = Dog()"
   ]
  },
  {
   "cell_type": "code",
   "execution_count": null,
   "id": "1010ce16",
   "metadata": {},
   "outputs": [],
   "source": [
    "mydog.eat()"
   ]
  },
  {
   "cell_type": "code",
   "execution_count": null,
   "id": "19b92312",
   "metadata": {},
   "outputs": [],
   "source": [
    "mydog.who_am_i()"
   ]
  },
  {
   "cell_type": "code",
   "execution_count": null,
   "id": "ef19db7b",
   "metadata": {},
   "outputs": [],
   "source": [
    "class Dog():\n",
    "    def __init__(self,name):\n",
    "        self.name = name\n",
    "        \n",
    "    def speak(self):\n",
    "        return self.name + \" says woof\""
   ]
  },
  {
   "cell_type": "code",
   "execution_count": null,
   "id": "69bd187e",
   "metadata": {},
   "outputs": [],
   "source": [
    "class Cat():\n",
    "    def __init__(self,name):\n",
    "        self.name = name\n",
    "        \n",
    "    def speak(self):\n",
    "        return self.name + \" says meow\""
   ]
  },
  {
   "cell_type": "code",
   "execution_count": null,
   "id": "e6db21e0",
   "metadata": {},
   "outputs": [],
   "source": [
    "doggo = Dog(\"Doggo\")\n",
    "kitty = Cat(\"Kitty\")"
   ]
  },
  {
   "cell_type": "code",
   "execution_count": null,
   "id": "9eb3dd60",
   "metadata": {},
   "outputs": [],
   "source": [
    "print(doggo.speak())\n",
    "print(kitty.speak())"
   ]
  },
  {
   "cell_type": "code",
   "execution_count": null,
   "id": "0225ba3e",
   "metadata": {},
   "outputs": [],
   "source": [
    "for pet in [doggo,kitty]:\n",
    "    print(type(pet))\n",
    "    print(pet.speak())"
   ]
  },
  {
   "cell_type": "code",
   "execution_count": null,
   "id": "568eb5a9",
   "metadata": {},
   "outputs": [],
   "source": [
    "def pet_speak(pet):\n",
    "    print(pet.speak())"
   ]
  },
  {
   "cell_type": "code",
   "execution_count": null,
   "id": "499620b3",
   "metadata": {},
   "outputs": [],
   "source": [
    "pet_speak(doggo)\n"
   ]
  },
  {
   "cell_type": "code",
   "execution_count": null,
   "id": "4a354ef9",
   "metadata": {},
   "outputs": [],
   "source": [
    "pet_speak(kitty)\n"
   ]
  },
  {
   "cell_type": "code",
   "execution_count": null,
   "id": "29aaedd7",
   "metadata": {},
   "outputs": [],
   "source": [
    "class Cat():\n",
    "    def __init__(self,name,color):\n",
    "        self.name = name\n",
    "        \n",
    "    def speak(self):\n",
    "        return self.name + \" says meow\"\n",
    "\n",
    "    def shade(self):\n",
    "              return self.color + \"is my fur colour\""
   ]
  },
  {
   "cell_type": "code",
   "execution_count": null,
   "id": "0861d82c-4861-4e49-8e19-ffb9204a7965",
   "metadata": {},
   "outputs": [],
   "source": [
    "mycat = Cat('kitty','red')\n"
   ]
  },
  {
   "cell_type": "code",
   "execution_count": null,
   "id": "d3a33cae-7d40-4677-bbcf-08b3457e22ea",
   "metadata": {},
   "outputs": [],
   "source": [
    "mycat.shade()\n"
   ]
  },
  {
   "cell_type": "code",
   "execution_count": null,
   "id": "7a00a193-c8c3-44aa-a10c-2991e25a046b",
   "metadata": {},
   "outputs": [],
   "source": [
    "#Modules are just .py files which are called and used in other .py files"
   ]
  },
  {
   "cell_type": "code",
   "execution_count": null,
   "id": "cb9d1286-8982-4e96-8a4e-e25d0662133e",
   "metadata": {},
   "outputs": [],
   "source": [
    "pip install openpyxl\n"
   ]
  },
  {
   "cell_type": "code",
   "execution_count": null,
   "id": "76b5aa98-4aae-4471-a565-2d3d0a0bc927",
   "metadata": {},
   "outputs": [],
   "source": [
    "import openpyxl\n",
    "\n"
   ]
  },
  {
   "cell_type": "code",
   "execution_count": null,
   "id": "157a8715-9e64-4ac7-9c58-9c8a30301e97",
   "metadata": {},
   "outputs": [],
   "source": [
    "#Functions and Methods Homework"
   ]
  },
  {
   "cell_type": "code",
   "execution_count": null,
   "id": "97839eea-5b19-4808-afaa-51cb4efa1f49",
   "metadata": {},
   "outputs": [],
   "source": [
    "def strcheck(s):\n",
    "    ucount = 0\n",
    "    lcount = 0\n",
    "    for i in range(len(s)):\n",
    "        if s[i].isupper():\n",
    "            ucount+=1\n",
    "        else:\n",
    "            lcount+=1\n",
    "        \n",
    "    print(\"Lowercase character count:\",lcount)\n",
    "    print(\"Uppercase character count:\",ucount)"
   ]
  },
  {
   "cell_type": "code",
   "execution_count": null,
   "id": "dacb61db-9ab0-4c86-a21c-f9a2bc396414",
   "metadata": {},
   "outputs": [],
   "source": [
    "strcheck('AnimeshM')\n",
    "         "
   ]
  },
  {
   "cell_type": "code",
   "execution_count": null,
   "id": "0a3b30e2-644c-4de5-a4f9-577210cfe751",
   "metadata": {},
   "outputs": [],
   "source": [
    "def unique(mylist):\n",
    "    \n",
    "    uniquelist = set(mylist)\n",
    "    print(uniquelist)\n",
    "    "
   ]
  },
  {
   "cell_type": "code",
   "execution_count": null,
   "id": "67f38c57-2417-456c-84dc-1f3029d86ccb",
   "metadata": {},
   "outputs": [],
   "source": [
    "unique([1,1,1,1,3,4,636,7,786,5,6])\n"
   ]
  },
  {
   "cell_type": "code",
   "execution_count": null,
   "id": "99c72dd3-352a-4560-9282-d4845d61b588",
   "metadata": {},
   "outputs": [],
   "source": [
    "def multiply(mylist):\n",
    "    i=0\n",
    "    product =1\n",
    "    for i in range(len(mylist)):\n",
    "        product = product*mylist[i]\n",
    "        \n",
    "    print(product)"
   ]
  },
  {
   "cell_type": "markdown",
   "id": "fbb90d87-242e-4082-aba6-7dac28a65ca3",
   "metadata": {},
   "source": [
    "multiply([1,2,3,4])\n"
   ]
  },
  {
   "cell_type": "code",
   "execution_count": null,
   "id": "598730d2-a462-4446-80e2-156d8fc63544",
   "metadata": {},
   "outputs": [],
   "source": [
    "multiply([1,2,3,4,5])"
   ]
  },
  {
   "cell_type": "markdown",
   "id": "34f32281-751c-4598-bb0e-1793423dd931",
   "metadata": {},
   "source": []
  },
  {
   "cell_type": "code",
   "execution_count": null,
   "id": "7981f154-00c3-487b-80bd-a957639b253a",
   "metadata": {},
   "outputs": [],
   "source": [
    "def palindrome(s):\n",
    "    if s == s[::-1]:\n",
    "        return True\n",
    "    else:\n",
    "        return False\n",
    "            \n",
    "        "
   ]
  },
  {
   "cell_type": "code",
   "execution_count": null,
   "id": "b02c5b9b-1137-45db-baa9-9f6550c6e524",
   "metadata": {},
   "outputs": [],
   "source": [
    "palindrome('AniinA')\n",
    "\n"
   ]
  },
  {
   "cell_type": "code",
   "execution_count": null,
   "id": "4b07474a-5229-4338-b2e7-d8ae0bfa235c",
   "metadata": {},
   "outputs": [],
   "source": [
    "\n",
    "def isPalindrome(x):\n",
    "    \n",
    "    if x == x[::-1]:\n",
    "        return True\n",
    "    else:\n",
    "        return False\n",
    "        "
   ]
  },
  {
   "cell_type": "code",
   "execution_count": null,
   "id": "2d963ea0-179f-4e12-8bdc-afc70aac1400",
   "metadata": {},
   "outputs": [],
   "source": [
    "isPalindrome(121)\n"
   ]
  },
  {
   "cell_type": "code",
   "execution_count": null,
   "id": "0a622010-d64f-47ec-8cf3-b198f97582e0",
   "metadata": {},
   "outputs": [],
   "source": [
    "def removeDuplicates( nums):\n",
    "\n",
    "        unique_nums = set(nums)\n",
    "        print(len(unique_nums))\n",
    "        return unique_nums\n",
    "        "
   ]
  },
  {
   "cell_type": "markdown",
   "id": "6cc250d9-48d0-4ed5-8e10-3a4fff96e0ba",
   "metadata": {},
   "source": []
  },
  {
   "cell_type": "code",
   "execution_count": null,
   "id": "4f55a7ac-b889-4304-a3bd-de4da5ab9e9f",
   "metadata": {},
   "outputs": [],
   "source": [
    "removeDuplicates([1,1,1,2,3,3])"
   ]
  },
  {
   "cell_type": "code",
   "execution_count": null,
   "id": "12b03806-8693-4849-b6a4-10b2b1fba772",
   "metadata": {},
   "outputs": [],
   "source": [
    "#LeetCode Practice Q1\n",
    "\n",
    "#Given an integer x, return true if x is a palindrome , and false otherwise.\n",
    "\n",
    "\n",
    "class Solution(object):\n",
    "    def isPalindrome(self, x):\n",
    "        str_x = str(x)\n",
    "        if str_x == str_x[::-1]:\n",
    "            return True\n",
    "        else:\n",
    "            return False\n",
    "            "
   ]
  },
  {
   "cell_type": "code",
   "execution_count": null,
   "id": "a72fb99b-5df0-4918-91e4-6e4ca92ef911",
   "metadata": {},
   "outputs": [],
   "source": [
    "#error and exception handling"
   ]
  },
  {
   "cell_type": "code",
   "execution_count": null,
   "id": "9d1ec4ba-ad7d-4f00-915b-1e11c404324e",
   "metadata": {},
   "outputs": [],
   "source": [
    "try:\n",
    "    result = 10+'10'\n",
    "except:\n",
    "    print(\"hey it look like you are adding incorrectly\")\n",
    "else:\n",
    "    print(\"Add went well\")\n",
    "    print(result)"
   ]
  },
  {
   "cell_type": "code",
   "execution_count": null,
   "id": "291695ae-0f5d-4b87-a376-97762bc84eb7",
   "metadata": {},
   "outputs": [],
   "source": [
    "try:\n",
    "    f = open('testfile','w')\n",
    "    f.write(\"Write a tets line\")\n",
    "except TypeError:\n",
    "    print(\"there was a type error\")\n",
    "except OSError:\n",
    "    print(\"there was an OS Error\")\n",
    "finally:\n",
    "    print(\"I always run\")\n",
    "    "
   ]
  },
  {
   "cell_type": "code",
   "execution_count": null,
   "id": "330e65ae-cb65-4add-bfdc-cc22f6ac486b",
   "metadata": {},
   "outputs": [],
   "source": [
    "def askforint():\n",
    "    while True:\n",
    "        try:\n",
    "            user = int(input(\"Enter your input\"))\n",
    "        except:\n",
    "            print(\"Whoops you entered wrong input\")\n",
    "            \n",
    "        else:\n",
    "            print(\"Thank you for your input\")\n",
    "            break\n",
    "        finally:\n",
    "            print(\"End of ask for int\")"
   ]
  },
  {
   "cell_type": "code",
   "execution_count": null,
   "id": "a49ea115-6780-4639-a313-5003825b7c3e",
   "metadata": {},
   "outputs": [],
   "source": [
    "askforint()\n"
   ]
  },
  {
   "cell_type": "code",
   "execution_count": null,
   "id": "54118af9-e230-4427-bc9e-ddbbfacadab1",
   "metadata": {},
   "outputs": [],
   "source": [
    "#Python Decorators\n"
   ]
  },
  {
   "cell_type": "code",
   "execution_count": null,
   "id": "ad542cd6-19fa-4169-8154-33056c857a60",
   "metadata": {},
   "outputs": [],
   "source": [
    "def func():\n",
    "    return 1\n"
   ]
  },
  {
   "cell_type": "code",
   "execution_count": null,
   "id": "a02f0064-3b7e-4ca3-be11-1e7665acc01a",
   "metadata": {},
   "outputs": [],
   "source": [
    "func()"
   ]
  },
  {
   "cell_type": "code",
   "execution_count": null,
   "id": "a32c164d-38be-42cb-8e10-0de3f7fa84ef",
   "metadata": {},
   "outputs": [],
   "source": [
    "func\n"
   ]
  },
  {
   "cell_type": "code",
   "execution_count": null,
   "id": "b5823780-c295-49f2-9762-69fa16f70d53",
   "metadata": {},
   "outputs": [],
   "source": [
    "def hello():\n",
    "    return 'Hello'"
   ]
  },
  {
   "cell_type": "code",
   "execution_count": null,
   "id": "7ebfe4cd-04bd-45f4-a01a-91262bce3507",
   "metadata": {},
   "outputs": [],
   "source": [
    "hello()\n"
   ]
  },
  {
   "cell_type": "code",
   "execution_count": null,
   "id": "6f52765e-e743-4836-afaf-9e5ae1df945c",
   "metadata": {},
   "outputs": [],
   "source": [
    "hello"
   ]
  },
  {
   "cell_type": "code",
   "execution_count": null,
   "id": "897cc47c-d576-4684-a30c-81047f6eaa29",
   "metadata": {},
   "outputs": [],
   "source": [
    "greet  = hello"
   ]
  },
  {
   "cell_type": "code",
   "execution_count": null,
   "id": "02d6c2e9-1ef0-4dda-b847-bbfe7198acb1",
   "metadata": {},
   "outputs": [],
   "source": [
    "greet()"
   ]
  },
  {
   "cell_type": "code",
   "execution_count": null,
   "id": "b8940f90-1ec7-4244-964d-58bd2cac36a7",
   "metadata": {},
   "outputs": [],
   "source": [
    "del hello"
   ]
  },
  {
   "cell_type": "code",
   "execution_count": null,
   "id": "0eb315b0-05dc-41be-9704-cb72c6a39d54",
   "metadata": {},
   "outputs": [],
   "source": [
    "hello"
   ]
  },
  {
   "cell_type": "code",
   "execution_count": null,
   "id": "93cde428-c99f-4b48-8e9c-a5b7e1351550",
   "metadata": {},
   "outputs": [],
   "source": [
    "greet()"
   ]
  },
  {
   "cell_type": "code",
   "execution_count": null,
   "id": "08874c89-d4e2-4670-ba4c-8439c19b55b3",
   "metadata": {},
   "outputs": [],
   "source": [
    "#So technically the greet function created a copy of the hello function and can be executed even after the hello function has been deleted"
   ]
  },
  {
   "cell_type": "code",
   "execution_count": null,
   "id": "541ac2e2-92bc-452a-8083-be48cf15f892",
   "metadata": {},
   "outputs": [],
   "source": [
    "def hello(name='Animesh'):\n",
    "    print('The hello() function has been executed')\n",
    "    "
   ]
  },
  {
   "cell_type": "code",
   "execution_count": null,
   "id": "73361b7b-e78d-4f0d-85ea-9562b23b0f6a",
   "metadata": {},
   "outputs": [],
   "source": [
    "hello()"
   ]
  },
  {
   "cell_type": "code",
   "execution_count": null,
   "id": "749f6f0c-8c06-40dc-a1c3-32e1e00b1ac4",
   "metadata": {},
   "outputs": [],
   "source": [
    "def hello(name='Animesh'):\n",
    "    print('The hello() function has been executed')\n",
    "\n",
    "    def greet():\n",
    "        return '\\tThis is the greet function inside the hello function'\n",
    "\n",
    "    def welcome():\n",
    "        return '\\tThis is the welcome function inside the hello function'\n",
    "    print(greet())\n",
    "    print(welcome())\n",
    "    print('This is the end of the hello function')"
   ]
  },
  {
   "cell_type": "code",
   "execution_count": null,
   "id": "7b4dfa87-6705-445e-92e2-4496be08b7c3",
   "metadata": {},
   "outputs": [],
   "source": [
    "hello()"
   ]
  },
  {
   "cell_type": "code",
   "execution_count": null,
   "id": "b8771f75-41a4-4176-acae-2471162b6b57",
   "metadata": {},
   "outputs": [],
   "source": [
    "def hello(name='Animesh'):\n",
    "    print('The hello() function has been executed')\n",
    "\n",
    "    def greet():\n",
    "        return '\\t This is the greet function and the name is Animesh'\n",
    "\n",
    "    def welcome():\n",
    "        return '\\t This is the welcome function and the name is not Animesh'\n",
    "      \n",
    "    print('I am going to return the hello and greet functions!!')\n",
    "\n",
    "    if name == 'Animesh':\n",
    "        return greet()\n",
    "    else:\n",
    "        return welcome()"
   ]
  },
  {
   "cell_type": "code",
   "execution_count": null,
   "id": "095a71b4-9ea3-4ee3-b304-fb8b86dd4f24",
   "metadata": {},
   "outputs": [],
   "source": [
    "newfunc1 = hello('Animesh')"
   ]
  },
  {
   "cell_type": "code",
   "execution_count": null,
   "id": "d3edb46e-7df1-483c-b544-c3b2c75d29c9",
   "metadata": {},
   "outputs": [],
   "source": [
    "newfunc2 = hello('Prashant')"
   ]
  },
  {
   "cell_type": "code",
   "execution_count": null,
   "id": "6271622c-f5ff-4720-a61a-cbed40d08132",
   "metadata": {},
   "outputs": [],
   "source": [
    "newfunc1"
   ]
  },
  {
   "cell_type": "code",
   "execution_count": null,
   "id": "be02c1ca-760a-44b8-9100-91f10adbdf58",
   "metadata": {},
   "outputs": [],
   "source": [
    "print(newfunc1)"
   ]
  },
  {
   "cell_type": "code",
   "execution_count": null,
   "id": "404ebf6f-8612-40d8-ba75-56e9c41f1142",
   "metadata": {},
   "outputs": [],
   "source": [
    "newfunc2"
   ]
  },
  {
   "cell_type": "code",
   "execution_count": null,
   "id": "c0676960-3344-40f5-8dec-066d48177f72",
   "metadata": {},
   "outputs": [],
   "source": [
    "print(newfunc2)"
   ]
  },
  {
   "cell_type": "code",
   "execution_count": null,
   "id": "ca23be9f-47f2-4c16-9298-152f81087f58",
   "metadata": {},
   "outputs": [],
   "source": []
  },
  {
   "cell_type": "code",
   "execution_count": null,
   "id": "b32e1004-b8b2-4aae-99d9-3cc6b017bdc8",
   "metadata": {},
   "outputs": [],
   "source": []
  },
  {
   "cell_type": "code",
   "execution_count": null,
   "id": "acb051db-8d93-4d72-a83b-024018f9c425",
   "metadata": {},
   "outputs": [],
   "source": []
  },
  {
   "cell_type": "code",
   "execution_count": null,
   "id": "20d5559a-066d-4a2e-bb6c-46da8996f738",
   "metadata": {},
   "outputs": [],
   "source": [
    "def hello():\n",
    "    return 'Hi Animesh!'"
   ]
  },
  {
   "cell_type": "code",
   "execution_count": null,
   "id": "95f07592-fbe4-4fe8-b76d-15ba1ec2f88a",
   "metadata": {},
   "outputs": [],
   "source": [
    "def other(some_func):\n",
    "    print('Other code runs here')\n",
    "    print(some_func())"
   ]
  },
  {
   "cell_type": "raw",
   "id": "7a51bae5-13a6-48d7-819f-74f468e0d75d",
   "metadata": {},
   "source": []
  },
  {
   "cell_type": "code",
   "execution_count": null,
   "id": "aa7c07fd-2931-4863-a0fb-ea36420c4f0b",
   "metadata": {},
   "outputs": [],
   "source": [
    "other(hello)"
   ]
  },
  {
   "cell_type": "code",
   "execution_count": null,
   "id": "2380f9ab-0be5-4b2c-bdeb-61ff50c8430a",
   "metadata": {},
   "outputs": [],
   "source": [
    "def new_decorator(orignal_func):\n",
    "\n",
    "    def wrap_func():\n",
    "        print('Some extra code before the orignal function')\n",
    "\n",
    "        orignal_func()\n",
    "\n",
    "        print('Some more code after the orignal function')\n",
    "\n",
    "    return wrap_func"
   ]
  },
  {
   "cell_type": "code",
   "execution_count": null,
   "id": "c67819ee-5630-495a-a23b-c1000b50cefb",
   "metadata": {},
   "outputs": [],
   "source": [
    "def func_need_dec():\n",
    "    print('I want a decorator please')\n"
   ]
  },
  {
   "cell_type": "code",
   "execution_count": null,
   "id": "1fe1e44d-1435-4cb5-b59e-bf99949f774b",
   "metadata": {},
   "outputs": [],
   "source": [
    "func_need_dec()"
   ]
  },
  {
   "cell_type": "code",
   "execution_count": null,
   "id": "5a51de6b-52ca-4000-9511-f93882f0f7ec",
   "metadata": {},
   "outputs": [],
   "source": [
    "decorated_func = new_decorator(func_need_dec())"
   ]
  },
  {
   "cell_type": "code",
   "execution_count": null,
   "id": "8d07179e-23bc-4d2f-8fc1-b4ce758125f4",
   "metadata": {},
   "outputs": [],
   "source": []
  },
  {
   "cell_type": "code",
   "execution_count": null,
   "id": "af0e19eb-ebac-4fb1-8fca-f47aeaa92b50",
   "metadata": {},
   "outputs": [],
   "source": []
  },
  {
   "cell_type": "code",
   "execution_count": null,
   "id": "d8536e40-fe02-4387-915c-bdc5e56b501d",
   "metadata": {},
   "outputs": [],
   "source": []
  },
  {
   "cell_type": "code",
   "execution_count": null,
   "id": "e5c8a439-1323-43d4-9ab8-ad9feafedcae",
   "metadata": {},
   "outputs": [],
   "source": []
  },
  {
   "cell_type": "code",
   "execution_count": null,
   "id": "62506b6c-5f0e-495e-89ca-a1485fb77425",
   "metadata": {},
   "outputs": [],
   "source": []
  },
  {
   "cell_type": "code",
   "execution_count": null,
   "id": "e3753722-a10e-42c7-b35d-b0cc80352f5f",
   "metadata": {},
   "outputs": [],
   "source": [
    "# Generators in Python"
   ]
  },
  {
   "cell_type": "code",
   "execution_count": null,
   "id": "ed0e35ab-e789-4a9e-8003-7c8d194829e3",
   "metadata": {},
   "outputs": [],
   "source": [
    "\n",
    "def create_cubes(n):\n",
    "    result = []\n",
    "    for x in range(n):\n",
    "        result.append(x**3)\n",
    "    return result\n",
    "    "
   ]
  },
  {
   "cell_type": "code",
   "execution_count": null,
   "id": "2f7025cd-ebce-44c7-bfb7-557a524639b4",
   "metadata": {},
   "outputs": [],
   "source": [
    "create_cubes(10)"
   ]
  },
  {
   "cell_type": "code",
   "execution_count": null,
   "id": "26b363cf-4886-4623-86b3-254f5a902142",
   "metadata": {},
   "outputs": [],
   "source": [
    "for x in create_cubes(10):\n",
    "    print(x)"
   ]
  },
  {
   "cell_type": "code",
   "execution_count": null,
   "id": "dab218ed-ffa7-4980-9858-49e5cfafcf68",
   "metadata": {},
   "outputs": [],
   "source": [
    "def create_cubes(n):\n",
    "    \n",
    "    for x in range(n):\n",
    "        yield(x**3)"
   ]
  },
  {
   "cell_type": "code",
   "execution_count": null,
   "id": "1f6acd94-6731-4433-a936-3769e026c6a2",
   "metadata": {},
   "outputs": [],
   "source": [
    "create_cubes(10)"
   ]
  },
  {
   "cell_type": "code",
   "execution_count": null,
   "id": "27da25e7-fc00-4808-932f-2a32d9231425",
   "metadata": {},
   "outputs": [],
   "source": [
    "list(create_cubes(10))"
   ]
  },
  {
   "cell_type": "code",
   "execution_count": null,
   "id": "5ec4c94c-f6f8-4283-8896-f7dc297e45e5",
   "metadata": {},
   "outputs": [],
   "source": [
    "for x in create_cubes(10):\n",
    "    print(x)"
   ]
  },
  {
   "cell_type": "code",
   "execution_count": null,
   "id": "664184a1-f3ae-440e-8111-66d621268825",
   "metadata": {},
   "outputs": [],
   "source": [
    "def gen_fib(n):\n",
    "    a = 1\n",
    "    b = 1\n",
    "    for x in range(n):\n",
    "        yield a\n",
    "        a,b = b,a+b"
   ]
  },
  {
   "cell_type": "code",
   "execution_count": null,
   "id": "399a764b-391c-4a5f-a562-965e7ef7b969",
   "metadata": {},
   "outputs": [],
   "source": [
    "gen_fib(10)"
   ]
  },
  {
   "cell_type": "code",
   "execution_count": null,
   "id": "12e7b5db-9244-4c79-884e-a215642cbb22",
   "metadata": {},
   "outputs": [],
   "source": [
    "for x in gen_fib(10):\n",
    "    print(x)"
   ]
  },
  {
   "cell_type": "code",
   "execution_count": null,
   "id": "4fd294ac-0cfb-48cf-aae6-afa1c361c8e4",
   "metadata": {},
   "outputs": [],
   "source": [
    "def gen_fib(n):\n",
    "    a = 1\n",
    "    b = 1\n",
    "    output = []\n",
    "    for x in range(n):\n",
    "        output.append(a)\n",
    "        a,b = b,a+b\n",
    "    return output"
   ]
  },
  {
   "cell_type": "code",
   "execution_count": null,
   "id": "61230521-e406-49b9-8cee-d99ba84d949b",
   "metadata": {},
   "outputs": [],
   "source": [
    "gen_fib(10)"
   ]
  },
  {
   "cell_type": "code",
   "execution_count": null,
   "id": "09510c30-0d3e-45c8-b972-57cd7778ec8e",
   "metadata": {},
   "outputs": [],
   "source": [
    "for x in gen_fib(10):\n",
    "    print(x)"
   ]
  },
  {
   "cell_type": "code",
   "execution_count": null,
   "id": "ba3c406f-5934-4bbe-be62-91bb0df84e09",
   "metadata": {},
   "outputs": [],
   "source": []
  },
  {
   "cell_type": "code",
   "execution_count": null,
   "id": "c0ee6de6-8c88-44e3-ad11-733b9d37b349",
   "metadata": {},
   "outputs": [],
   "source": []
  },
  {
   "cell_type": "code",
   "execution_count": null,
   "id": "c984e13f-231b-4020-becc-f062855ecee2",
   "metadata": {},
   "outputs": [],
   "source": []
  },
  {
   "cell_type": "code",
   "execution_count": null,
   "id": "0aecc29e-e099-4003-bac3-72f3f11f3ecd",
   "metadata": {},
   "outputs": [],
   "source": []
  },
  {
   "cell_type": "code",
   "execution_count": null,
   "id": "b376a773-48a1-489e-9afb-af67048a3637",
   "metadata": {},
   "outputs": [],
   "source": [
    "def simple_gen():\n",
    "    for x in range(3):\n",
    "        yield x"
   ]
  },
  {
   "cell_type": "code",
   "execution_count": null,
   "id": "6cdbc257-bba0-49fa-b50f-c2b58e34c774",
   "metadata": {},
   "outputs": [],
   "source": [
    "for num in simple_gen():\n",
    "    print(num)"
   ]
  },
  {
   "cell_type": "code",
   "execution_count": null,
   "id": "f0738791-46b2-4cb9-81e8-e37a0dbb8220",
   "metadata": {},
   "outputs": [],
   "source": [
    "g = simple_gen()"
   ]
  },
  {
   "cell_type": "code",
   "execution_count": null,
   "id": "b1acb4ec-d299-4298-8419-a547dfd26a39",
   "metadata": {},
   "outputs": [],
   "source": [
    "g"
   ]
  },
  {
   "cell_type": "code",
   "execution_count": null,
   "id": "ecf72f81-a816-494d-8c27-e08cd7ade4ee",
   "metadata": {},
   "outputs": [],
   "source": [
    "print(g)"
   ]
  },
  {
   "cell_type": "code",
   "execution_count": null,
   "id": "447f9e77-47ea-42ba-8bcb-369ca1e173fa",
   "metadata": {},
   "outputs": [],
   "source": [
    "print(next(g))"
   ]
  },
  {
   "cell_type": "code",
   "execution_count": null,
   "id": "a5453300-659b-408e-b760-fe0ff44d4670",
   "metadata": {},
   "outputs": [],
   "source": [
    "print(next(g))"
   ]
  },
  {
   "cell_type": "code",
   "execution_count": null,
   "id": "f44460c8-68d0-4fda-9302-c03a1d069c5f",
   "metadata": {},
   "outputs": [],
   "source": [
    "print(next(g))"
   ]
  },
  {
   "cell_type": "code",
   "execution_count": null,
   "id": "f0982ee7-b122-447f-bf0e-e875b1ed8f46",
   "metadata": {},
   "outputs": [],
   "source": [
    "print(next(g))"
   ]
  },
  {
   "cell_type": "code",
   "execution_count": null,
   "id": "245fc0b4-52d6-4f8f-97ee-108156501a37",
   "metadata": {},
   "outputs": [],
   "source": [
    "s = 'Hello World'"
   ]
  },
  {
   "cell_type": "code",
   "execution_count": null,
   "id": "3f1add72-9f62-4899-9e48-5d16a8b0f34e",
   "metadata": {},
   "outputs": [],
   "source": [
    "next(s)"
   ]
  },
  {
   "cell_type": "code",
   "execution_count": null,
   "id": "fbab685b-f3ee-4248-9231-c3e7b84c9c3c",
   "metadata": {},
   "outputs": [],
   "source": [
    "s_iterate = iter(s)"
   ]
  },
  {
   "cell_type": "code",
   "execution_count": null,
   "id": "62a226c4-99bd-4bcd-978b-c5222b2c8d9f",
   "metadata": {},
   "outputs": [],
   "source": [
    "next(s_iterate)"
   ]
  },
  {
   "cell_type": "code",
   "execution_count": null,
   "id": "b56004d1-cf02-49ea-aa94-aa3879b354a5",
   "metadata": {},
   "outputs": [],
   "source": [
    "next(s_iterate)"
   ]
  },
  {
   "cell_type": "code",
   "execution_count": null,
   "id": "57339868-0b00-498d-bc2d-e3cee2b76ea7",
   "metadata": {},
   "outputs": [],
   "source": [
    "next(s_iterate)"
   ]
  },
  {
   "cell_type": "code",
   "execution_count": null,
   "id": "0f741d3c-215c-414f-8e35-5524f6763ab0",
   "metadata": {},
   "outputs": [],
   "source": [
    "next(s_iterate)"
   ]
  },
  {
   "cell_type": "code",
   "execution_count": null,
   "id": "d6bddcfb-8754-459a-a5bc-de618e883225",
   "metadata": {},
   "outputs": [],
   "source": [
    "next(s_iterate)"
   ]
  },
  {
   "cell_type": "code",
   "execution_count": null,
   "id": "96378006-24b1-4169-a315-4d6e34cf79aa",
   "metadata": {},
   "outputs": [],
   "source": [
    "next(s_iterate)"
   ]
  },
  {
   "cell_type": "code",
   "execution_count": null,
   "id": "d1f21fde-a004-472c-9c56-1f362db9a11d",
   "metadata": {},
   "outputs": [],
   "source": [
    "next(s_iterate)"
   ]
  },
  {
   "cell_type": "code",
   "execution_count": 33,
   "id": "c5638159-ef24-4c5b-9216-d3db9f45602e",
   "metadata": {},
   "outputs": [],
   "source": [
    "\n",
    "class Line:\n",
    "    def __init__(self,cor1,cor2):\n",
    "        self.cor1 = cor1\n",
    "        self.cor2 = cor2\n",
    "    def distance(self):\n",
    "        x1,y1 = self.cor1\n",
    "        x2,y2 = self.cor2\n",
    "        return ((x2-x1)**2 + (y2-y1)**2)**0.5\n",
    "    def slope(self):\n",
    "        x1,y1 = self.cor1\n",
    "        x2,y2 = self.cor2\n",
    "        return (y2-y1)/(x2-x1)\n",
    "\n"
   ]
  },
  {
   "cell_type": "code",
   "execution_count": 55,
   "id": "7c5bf28a-882e-4cd7-ac6e-c8730796a192",
   "metadata": {},
   "outputs": [],
   "source": [
    "c1 = (3,20)\n",
    "c2 = (34,58)"
   ]
  },
  {
   "cell_type": "code",
   "execution_count": 57,
   "id": "a2863eca-081f-40f0-97a8-3e386ecc48d7",
   "metadata": {},
   "outputs": [],
   "source": [
    "myline = Line(c1,c2)\n"
   ]
  },
  {
   "cell_type": "code",
   "execution_count": 59,
   "id": "48d4b29b-5d89-450f-8eef-3d72c4c33190",
   "metadata": {},
   "outputs": [
    {
     "data": {
      "text/plain": [
       "49.040799340956916"
      ]
     },
     "execution_count": 59,
     "metadata": {},
     "output_type": "execute_result"
    }
   ],
   "source": [
    "myline.distance()"
   ]
  },
  {
   "cell_type": "code",
   "execution_count": 61,
   "id": "033cbd8f-0ff9-474e-a59b-0fb662d14a17",
   "metadata": {},
   "outputs": [
    {
     "data": {
      "text/plain": [
       "1.2258064516129032"
      ]
     },
     "execution_count": 61,
     "metadata": {},
     "output_type": "execute_result"
    }
   ],
   "source": [
    "myline.slope()"
   ]
  },
  {
   "cell_type": "code",
   "execution_count": null,
   "id": "f74fe611-f392-4cce-a7ca-127a301733d9",
   "metadata": {},
   "outputs": [],
   "source": []
  },
  {
   "cell_type": "code",
   "execution_count": null,
   "id": "0602c527-ca88-4b32-a9b6-d76a7d24cb30",
   "metadata": {},
   "outputs": [],
   "source": [
    "#Advanced Python Modules"
   ]
  },
  {
   "cell_type": "code",
   "execution_count": null,
   "id": "c3bfaee4-53e0-47e4-8eb1-802ec7448686",
   "metadata": {},
   "outputs": [],
   "source": [
    "s = \"Hello World\""
   ]
  },
  {
   "cell_type": "code",
   "execution_count": null,
   "id": "38adcddd-3ec2-4665-a111-b3c9773a9021",
   "metadata": {},
   "outputs": [],
   "source": [
    "from collections import Counter\n"
   ]
  },
  {
   "cell_type": "code",
   "execution_count": null,
   "id": "aa908947-af69-4b97-8472-78d518d4325e",
   "metadata": {},
   "outputs": [],
   "source": [
    "Counter(s.split())"
   ]
  },
  {
   "cell_type": "code",
   "execution_count": null,
   "id": "767d2379-4f2e-4174-a9a8-5cae8c298d89",
   "metadata": {},
   "outputs": [],
   "source": [
    "new = s.split()"
   ]
  },
  {
   "cell_type": "code",
   "execution_count": null,
   "id": "b2df5b53-3d1c-49b9-bdbc-02226404646c",
   "metadata": {},
   "outputs": [],
   "source": [
    "new"
   ]
  },
  {
   "cell_type": "code",
   "execution_count": null,
   "id": "ecf8dae6-1283-4448-b492-63b80b67a600",
   "metadata": {},
   "outputs": [],
   "source": [
    "len(new[-1])"
   ]
  },
  {
   "cell_type": "code",
   "execution_count": null,
   "id": "582ecb69-6c83-4279-8319-9a6b6c809c31",
   "metadata": {},
   "outputs": [],
   "source": [
    "letters  = 'aabaaabbbaahhhhhcccccdddddd'\n"
   ]
  },
  {
   "cell_type": "code",
   "execution_count": null,
   "id": "31b3fa5d-743e-4d63-8232-4cadab3994e0",
   "metadata": {},
   "outputs": [],
   "source": [
    "c = Counter(letters)"
   ]
  },
  {
   "cell_type": "code",
   "execution_count": null,
   "id": "e64e6108-c1da-42c8-89ec-85052ad45f55",
   "metadata": {},
   "outputs": [],
   "source": [
    "c"
   ]
  },
  {
   "cell_type": "code",
   "execution_count": null,
   "id": "e62607f1-6328-416f-af59-50e496e5033b",
   "metadata": {},
   "outputs": [],
   "source": [
    "#returns a list of tuples\n",
    "c.most_common()"
   ]
  },
  {
   "cell_type": "code",
   "execution_count": null,
   "id": "7e74e0c2-e9a4-4c14-a0f3-79e2b617a77c",
   "metadata": {},
   "outputs": [],
   "source": [
    "# to get a list of all the unique values\n",
    "list(c)"
   ]
  },
  {
   "cell_type": "code",
   "execution_count": null,
   "id": "31f45659-753f-4352-bdae-935be9eb0bca",
   "metadata": {},
   "outputs": [],
   "source": [
    "from collections import defaultdict"
   ]
  },
  {
   "cell_type": "code",
   "execution_count": null,
   "id": "47ff0f28-d76c-46ca-95e1-993940c93215",
   "metadata": {},
   "outputs": [],
   "source": [
    "d = {'a':10}"
   ]
  },
  {
   "cell_type": "code",
   "execution_count": null,
   "id": "fd4ce563-0808-4ed3-a587-67a7747b26b7",
   "metadata": {},
   "outputs": [],
   "source": [
    "d"
   ]
  },
  {
   "cell_type": "code",
   "execution_count": null,
   "id": "db41f31d-44ce-4794-9228-1a428a6950db",
   "metadata": {},
   "outputs": [],
   "source": [
    "d['a']"
   ]
  },
  {
   "cell_type": "code",
   "execution_count": null,
   "id": "e446639d-f58b-428c-a126-79e2f0c29495",
   "metadata": {},
   "outputs": [],
   "source": [
    "#This is just a simple dictionary so returns Key Error\n",
    "d['WRONG']"
   ]
  },
  {
   "cell_type": "code",
   "execution_count": null,
   "id": "d80809c5-9b3b-4f6c-95a3-f9932f4e9564",
   "metadata": {},
   "outputs": [],
   "source": [
    "d = defaultdict(lambda:0)"
   ]
  },
  {
   "cell_type": "code",
   "execution_count": null,
   "id": "7d8c03c6-ac9d-4d4b-96b3-2f8d60f7e768",
   "metadata": {},
   "outputs": [],
   "source": [
    "d['correct'] = 100"
   ]
  },
  {
   "cell_type": "code",
   "execution_count": null,
   "id": "62abf424-de2d-4816-8e3e-d8217a9c125f",
   "metadata": {},
   "outputs": [],
   "source": [
    "#This is a default dictionary so returns the default value that we set for a key that does not yet exist\n",
    "\n",
    "d['Wrong']"
   ]
  },
  {
   "cell_type": "code",
   "execution_count": null,
   "id": "3b5b4564-fcee-4e0b-9d3e-bd94b54e234b",
   "metadata": {},
   "outputs": [],
   "source": [
    "d"
   ]
  },
  {
   "cell_type": "code",
   "execution_count": null,
   "id": "e41baf2a-aa15-4f91-b2ff-3314bb7c8aee",
   "metadata": {},
   "outputs": [],
   "source": [
    "mytuple = (10,20,30)"
   ]
  },
  {
   "cell_type": "code",
   "execution_count": null,
   "id": "4e6b3ef3-ccd8-4b24-9158-15924e248658",
   "metadata": {},
   "outputs": [],
   "source": [
    "mytuple[0]"
   ]
  },
  {
   "cell_type": "code",
   "execution_count": null,
   "id": "6f03edae-77a3-4955-bc7b-ad788f37027e",
   "metadata": {},
   "outputs": [],
   "source": [
    "from collections import namedtuple"
   ]
  },
  {
   "cell_type": "code",
   "execution_count": null,
   "id": "65d012b2-2d49-4f9f-9673-4478fb4bc6fc",
   "metadata": {},
   "outputs": [],
   "source": [
    "Dog = namedtuple('Dog',['age','name','breed'])"
   ]
  },
  {
   "cell_type": "code",
   "execution_count": null,
   "id": "ae31e4b0-9676-4b8c-88ae-1e0e53aa51b3",
   "metadata": {},
   "outputs": [],
   "source": [
    "sammy = Dog(age = 5, name = 'sammy', breed = 'labrador')"
   ]
  },
  {
   "cell_type": "code",
   "execution_count": null,
   "id": "586d3f4f-a437-47dc-836d-8669b2812115",
   "metadata": {},
   "outputs": [],
   "source": [
    "type(sammy)"
   ]
  },
  {
   "cell_type": "code",
   "execution_count": null,
   "id": "6626428d-ce84-424e-ad9d-ff466f6fa4b6",
   "metadata": {},
   "outputs": [],
   "source": [
    "sammy"
   ]
  },
  {
   "cell_type": "code",
   "execution_count": null,
   "id": "049fc823-68e1-480b-958f-c0a1b1a05bdb",
   "metadata": {},
   "outputs": [],
   "source": [
    "sammy.age"
   ]
  },
  {
   "cell_type": "code",
   "execution_count": null,
   "id": "900f8caa-011c-475e-bdac-0c3478e98aa7",
   "metadata": {},
   "outputs": [],
   "source": [
    "#Milestone_Project-2"
   ]
  },
  {
   "cell_type": "code",
   "execution_count": null,
   "id": "f1651007-425f-4bb5-86f8-c226c4e12095",
   "metadata": {},
   "outputs": [],
   "source": [
    "#Card class\n",
    "class Class:\n",
    "    def __init__(self,suit,rank):\n",
    "        "
   ]
  },
  {
   "cell_type": "code",
   "execution_count": null,
   "id": "02f9a93a-04a1-492a-b116-0da81184585b",
   "metadata": {},
   "outputs": [],
   "source": []
  },
  {
   "cell_type": "code",
   "execution_count": null,
   "id": "bcc6d1dd-77ca-4bbb-a04c-e3bf932d0258",
   "metadata": {},
   "outputs": [],
   "source": []
  },
  {
   "cell_type": "code",
   "execution_count": null,
   "id": "1b3974b6-d4f7-4a2f-919e-53bc14f9781e",
   "metadata": {},
   "outputs": [],
   "source": []
  },
  {
   "cell_type": "code",
   "execution_count": null,
   "id": "1834e7bb-41b8-4717-ab91-8f852e332edb",
   "metadata": {},
   "outputs": [],
   "source": []
  },
  {
   "cell_type": "code",
   "execution_count": null,
   "id": "3dabba57-9538-4e3f-b8e9-70648a36bd0b",
   "metadata": {},
   "outputs": [],
   "source": []
  },
  {
   "cell_type": "code",
   "execution_count": null,
   "id": "3920901a-4523-421b-8105-6836bea407f5",
   "metadata": {},
   "outputs": [],
   "source": []
  },
  {
   "cell_type": "code",
   "execution_count": null,
   "id": "27dbec8b-d986-447f-ba06-1e41ce7fb9ba",
   "metadata": {},
   "outputs": [],
   "source": []
  },
  {
   "cell_type": "code",
   "execution_count": null,
   "id": "5c4130fe-51c4-4f26-987b-c498eac08209",
   "metadata": {},
   "outputs": [],
   "source": []
  },
  {
   "cell_type": "code",
   "execution_count": null,
   "id": "56dbf94b-da66-4ed0-9c48-2a22c680a6ba",
   "metadata": {},
   "outputs": [],
   "source": []
  },
  {
   "cell_type": "code",
   "execution_count": null,
   "id": "04bcd9e3-6a87-48e0-997c-a1597ca558b5",
   "metadata": {},
   "outputs": [],
   "source": []
  },
  {
   "cell_type": "code",
   "execution_count": null,
   "id": "1b57383f-d2dc-499a-bcf3-1524a6dbdb83",
   "metadata": {},
   "outputs": [],
   "source": [
    "#Object Oriented Programming with Python (Revision)\n"
   ]
  },
  {
   "cell_type": "code",
   "execution_count": null,
   "id": "dd207ccc-4392-4a54-8ed3-f8c23737cf1b",
   "metadata": {},
   "outputs": [],
   "source": [
    "myList = [1,22,22,3,3,4,5]\n"
   ]
  },
  {
   "cell_type": "code",
   "execution_count": null,
   "id": "24f0320d-fa02-4b17-88b9-3c422c2cbf9f",
   "metadata": {},
   "outputs": [],
   "source": [
    "newList = set(myList)"
   ]
  },
  {
   "cell_type": "code",
   "execution_count": null,
   "id": "83d6dcc2-12e3-459e-b62a-5c6aa99ec31b",
   "metadata": {},
   "outputs": [],
   "source": [
    "type(myList)\n"
   ]
  },
  {
   "cell_type": "code",
   "execution_count": null,
   "id": "dd0e7bf2-66cf-42eb-878f-8731e7ae0e61",
   "metadata": {},
   "outputs": [],
   "source": [
    "type(newList)"
   ]
  },
  {
   "cell_type": "code",
   "execution_count": 167,
   "id": "8cc35efd-2ef3-4f4a-b77c-5488406ce542",
   "metadata": {},
   "outputs": [],
   "source": [
    "class Dog:\n",
    "    #Class Object Attribute\n",
    "    #Same for any instance of a class\n",
    "    species = 'mammal'\n",
    "    def __init__(self,mybreed,myage,myspots):\n",
    "        #Attributes that we take in the argument\n",
    "        #Assign it using self.attribute_name\n",
    "        self.breed = mybreed\n",
    "        self.age = myage\n",
    "\n",
    "        self.spots = myspots\n",
    "\n",
    "    def bark(self,number):\n",
    "        print(\"!!WOOF!! My breed is {} and number is {}\".format(self.breed,number))\n",
    "    "
   ]
  },
  {
   "cell_type": "code",
   "execution_count": 169,
   "id": "746e0518-3ac2-4549-a3cb-670e2e01f347",
   "metadata": {},
   "outputs": [],
   "source": [
    "mydog = Dog(mybreed = \"Labrador\", myage = 20,myspots = True)"
   ]
  },
  {
   "cell_type": "code",
   "execution_count": 171,
   "id": "419312e0-5232-428d-8812-3d383dec28a3",
   "metadata": {},
   "outputs": [
    {
     "data": {
      "text/plain": [
       "'Labrador'"
      ]
     },
     "execution_count": 171,
     "metadata": {},
     "output_type": "execute_result"
    }
   ],
   "source": [
    "mydog.breed"
   ]
  },
  {
   "cell_type": "code",
   "execution_count": 173,
   "id": "e0d344cd-d071-4457-976e-aad767cbf1f9",
   "metadata": {},
   "outputs": [
    {
     "data": {
      "text/plain": [
       "20"
      ]
     },
     "execution_count": 173,
     "metadata": {},
     "output_type": "execute_result"
    }
   ],
   "source": [
    "mydog.age"
   ]
  },
  {
   "cell_type": "code",
   "execution_count": 175,
   "id": "36be5205-13c4-47d4-8e73-cc373bd7e304",
   "metadata": {},
   "outputs": [
    {
     "data": {
      "text/plain": [
       "'mammal'"
      ]
     },
     "execution_count": 175,
     "metadata": {},
     "output_type": "execute_result"
    }
   ],
   "source": [
    "mydog.species"
   ]
  },
  {
   "cell_type": "code",
   "execution_count": 177,
   "id": "b9ca6b53-e69a-45ff-870f-cc981e947815",
   "metadata": {},
   "outputs": [
    {
     "data": {
      "text/plain": [
       "True"
      ]
     },
     "execution_count": 177,
     "metadata": {},
     "output_type": "execute_result"
    }
   ],
   "source": [
    "mydog.spots"
   ]
  },
  {
   "cell_type": "code",
   "execution_count": 179,
   "id": "381f4b6b-082c-400b-a45d-44469c371ef1",
   "metadata": {},
   "outputs": [
    {
     "name": "stdout",
     "output_type": "stream",
     "text": [
      "!!WOOF!! My breed is Labrador and number is 3\n",
      "!!WOOF!! My breed is Labrador and number is 4\n",
      "!!WOOF!! My breed is Labrador and number is 22\n"
     ]
    }
   ],
   "source": [
    "mydog.bark(3)\n",
    "mydog.bark(4)\n",
    "mydog.bark(22)"
   ]
  },
  {
   "cell_type": "code",
   "execution_count": null,
   "id": "f36217be-5b5d-4adf-a2bb-b57ee05443be",
   "metadata": {},
   "outputs": [],
   "source": []
  },
  {
   "cell_type": "code",
   "execution_count": null,
   "id": "75d3f120-c149-4b24-bdd7-46803a971d02",
   "metadata": {},
   "outputs": [],
   "source": []
  },
  {
   "cell_type": "code",
   "execution_count": 198,
   "id": "ce1de9f4-660b-47e9-abcf-eb18d5410fac",
   "metadata": {},
   "outputs": [],
   "source": [
    "class Circle():\n",
    "    #Class Object Attribute\n",
    "    pi = 3.141\n",
    "\n",
    "    def __init__(self,radius=1):\n",
    "        self.radius = radius\n",
    "\n",
    "    def get_circumference(self):\n",
    "        return self.radius * self.pi * 2\n",
    "        "
   ]
  },
  {
   "cell_type": "code",
   "execution_count": 200,
   "id": "89eb0628-56fa-4f11-b482-75c537815324",
   "metadata": {},
   "outputs": [],
   "source": [
    "mycircle = Circle(4)"
   ]
  },
  {
   "cell_type": "code",
   "execution_count": 202,
   "id": "2f6cd850-8d0f-460d-a4ab-15489b90aa10",
   "metadata": {},
   "outputs": [
    {
     "data": {
      "text/plain": [
       "4"
      ]
     },
     "execution_count": 202,
     "metadata": {},
     "output_type": "execute_result"
    }
   ],
   "source": [
    "mycircle.radius"
   ]
  },
  {
   "cell_type": "code",
   "execution_count": 204,
   "id": "eba5652c-bf67-4ebb-90bf-5b4e917d85ef",
   "metadata": {},
   "outputs": [
    {
     "data": {
      "text/plain": [
       "25.128"
      ]
     },
     "execution_count": 204,
     "metadata": {},
     "output_type": "execute_result"
    }
   ],
   "source": [
    "mycircle.get_circumference()"
   ]
  },
  {
   "cell_type": "code",
   "execution_count": 206,
   "id": "b43cf6f1-ad8e-47d1-bc92-57b6e3cd927c",
   "metadata": {},
   "outputs": [
    {
     "data": {
      "text/plain": [
       "3.141"
      ]
     },
     "execution_count": 206,
     "metadata": {},
     "output_type": "execute_result"
    }
   ],
   "source": [
    "mycircle.pi"
   ]
  },
  {
   "cell_type": "code",
   "execution_count": null,
   "id": "b85c6afe-ea88-4f92-8373-cca4164103c3",
   "metadata": {},
   "outputs": [],
   "source": []
  },
  {
   "cell_type": "code",
   "execution_count": null,
   "id": "7b651af5-8754-4cd3-87f1-bb2ff2195f60",
   "metadata": {},
   "outputs": [],
   "source": []
  },
  {
   "cell_type": "code",
   "execution_count": null,
   "id": "c7862e7d-811d-4258-9509-3433814854e2",
   "metadata": {},
   "outputs": [],
   "source": []
  },
  {
   "cell_type": "code",
   "execution_count": null,
   "id": "2259f8a3-802f-4eb0-b80a-a9427bd35cbe",
   "metadata": {},
   "outputs": [],
   "source": []
  },
  {
   "cell_type": "code",
   "execution_count": 214,
   "id": "9200db53-3556-4a64-8c8d-476a78f2841c",
   "metadata": {},
   "outputs": [],
   "source": [
    "class Animal():\n",
    "\n",
    "    def __init__(self):\n",
    "        print(\"Animal Created\")\n",
    "\n",
    "    def who_am_i(self):\n",
    "        print(\"I am an Animal\")\n",
    "        \n",
    "    def eat(self):\n",
    "        print(\"I am eating\")"
   ]
  },
  {
   "cell_type": "code",
   "execution_count": 250,
   "id": "caf7cbad-32ec-4a5a-a5a6-4e1b27096aca",
   "metadata": {},
   "outputs": [],
   "source": [
    "class Dog(Animal):\n",
    "    def __init__(self):\n",
    "        Animal.__init__(self)\n",
    "        print(\"Dog created\")\n",
    "    def eat(self):\n",
    "        print(\"The Dog is eating\")\n",
    "    def who_am_i(self):\n",
    "        print(\"I am a Dog\")\n",
    "    def bark(self):\n",
    "        print(\"I am barking\")"
   ]
  },
  {
   "cell_type": "code",
   "execution_count": 252,
   "id": "9075764d-9718-4f5d-825f-d91da3611c89",
   "metadata": {},
   "outputs": [
    {
     "name": "stdout",
     "output_type": "stream",
     "text": [
      "Animal Created\n",
      "Dog created\n"
     ]
    }
   ],
   "source": [
    "mydog = Dog()"
   ]
  },
  {
   "cell_type": "code",
   "execution_count": 254,
   "id": "ef327487-c3c0-41e8-85b6-226e8439d840",
   "metadata": {},
   "outputs": [
    {
     "name": "stdout",
     "output_type": "stream",
     "text": [
      "The Dog is eating\n"
     ]
    }
   ],
   "source": [
    "mydog.eat()"
   ]
  },
  {
   "cell_type": "code",
   "execution_count": 256,
   "id": "154a6085-9139-47aa-9bab-cb480b5ee306",
   "metadata": {},
   "outputs": [
    {
     "name": "stdout",
     "output_type": "stream",
     "text": [
      "I am a Dog\n"
     ]
    }
   ],
   "source": [
    "mydog.who_am_i()"
   ]
  },
  {
   "cell_type": "code",
   "execution_count": 69,
   "id": "124e42b5-a4cc-4cf1-b5ac-07a0c00fbe6c",
   "metadata": {},
   "outputs": [],
   "source": [
    "pi = 3.14\n",
    "class Cylinder:\n",
    "    \n",
    "    def __init__(self,height = 1,radius = 1):\n",
    "        self.height = height\n",
    "        self.radius = radius\n",
    "\n",
    "    def volume(self):\n",
    "        radius = self.radius\n",
    "        height = self.height\n",
    "        return pi*radius*radius*height\n",
    "    def surface_area(self):\n",
    "        radius = self.radius\n",
    "        height = self.height\n",
    "        return 2*pi*radius*height"
   ]
  },
  {
   "cell_type": "code",
   "execution_count": 71,
   "id": "68b1e69f-a29a-46db-8187-e46f10506eb9",
   "metadata": {},
   "outputs": [],
   "source": [
    "mycy = Cylinder(5,7)"
   ]
  },
  {
   "cell_type": "code",
   "execution_count": 73,
   "id": "dc28b1f5-695c-4662-b6dc-f19a26d8b372",
   "metadata": {},
   "outputs": [
    {
     "data": {
      "text/plain": [
       "769.3000000000001"
      ]
     },
     "execution_count": 73,
     "metadata": {},
     "output_type": "execute_result"
    }
   ],
   "source": [
    "mycy.volume()"
   ]
  },
  {
   "cell_type": "code",
   "execution_count": 75,
   "id": "f8b695c5-360d-4104-be75-38c21136b1a9",
   "metadata": {},
   "outputs": [
    {
     "data": {
      "text/plain": [
       "219.8"
      ]
     },
     "execution_count": 75,
     "metadata": {},
     "output_type": "execute_result"
    }
   ],
   "source": [
    "mycy.surface_area()"
   ]
  },
  {
   "cell_type": "code",
   "execution_count": 77,
   "id": "fbfa74d0-60ca-4338-8e77-97bffe51edb8",
   "metadata": {},
   "outputs": [],
   "source": [
    "#Web Scraping"
   ]
  },
  {
   "cell_type": "code",
   "execution_count": null,
   "id": "be09d250-f63b-41c6-8090-b72ead971f9c",
   "metadata": {},
   "outputs": [],
   "source": []
  },
  {
   "cell_type": "code",
   "execution_count": 80,
   "id": "d9825d96-c597-4838-a645-8495ef5a7fe9",
   "metadata": {},
   "outputs": [],
   "source": [
    "import requests\n"
   ]
  },
  {
   "cell_type": "code",
   "execution_count": 82,
   "id": "2aeadd8a-68b4-4c65-9c49-82eaa22bfce2",
   "metadata": {},
   "outputs": [],
   "source": [
    "import bs4"
   ]
  },
  {
   "cell_type": "code",
   "execution_count": 114,
   "id": "97cc6532-971f-4428-b00a-d67cae963b4b",
   "metadata": {},
   "outputs": [],
   "source": [
    "result = requests.get(\"https://doc.rust-lang.org/book/\")"
   ]
  },
  {
   "cell_type": "code",
   "execution_count": 116,
   "id": "0c8cc2d7-4400-43c0-92ce-d9305855f988",
   "metadata": {},
   "outputs": [
    {
     "data": {
      "text/plain": [
       "requests.models.Response"
      ]
     },
     "execution_count": 116,
     "metadata": {},
     "output_type": "execute_result"
    }
   ],
   "source": [
    "type(result)"
   ]
  },
  {
   "cell_type": "code",
   "execution_count": 118,
   "id": "e304942a-f929-4bf0-97c0-6cb0475bfbc6",
   "metadata": {},
   "outputs": [
    {
     "data": {
      "text/plain": [
       "'<!DOCTYPE HTML>\\n<html lang=\"en\" class=\"light\" dir=\"ltr\">\\n    <head>\\n        <!-- Book generated using mdBook -->\\n        <meta charset=\"UTF-8\">\\n        <title>The Rust Programming Language - The Rust Programming Language</title>\\n\\n\\n        <!-- Custom HTML head -->\\n        \\n        <meta name=\"description\" content=\"\">\\n        <meta name=\"viewport\" content=\"width=device-width, initial-scale=1\">\\n        <meta name=\"theme-color\" content=\"#ffffff\">\\n\\n        <link rel=\"icon\" href=\"favicon.svg\">\\n        <link rel=\"shortcut icon\" href=\"favicon.png\">\\n        <link rel=\"stylesheet\" href=\"css/variables.css\">\\n        <link rel=\"stylesheet\" href=\"css/general.css\">\\n        <link rel=\"stylesheet\" href=\"css/chrome.css\">\\n        <link rel=\"stylesheet\" href=\"css/print.css\" media=\"print\">\\n\\n        <!-- Fonts -->\\n        <link rel=\"stylesheet\" href=\"FontAwesome/css/font-awesome.css\">\\n        <link rel=\"stylesheet\" href=\"fonts/fonts.css\">\\n\\n        <!-- Highlight.js Stylesheets -->\\n        <link rel=\"stylesheet\" href=\"highlight.css\">\\n        <link rel=\"stylesheet\" href=\"tomorrow-night.css\">\\n        <link rel=\"stylesheet\" href=\"ayu-highlight.css\">\\n\\n        <!-- Custom theme stylesheets -->\\n        <link rel=\"stylesheet\" href=\"ferris.css\">\\n        <link rel=\"stylesheet\" href=\"theme/2018-edition.css\">\\n        <link rel=\"stylesheet\" href=\"theme/semantic-notes.css\">\\n        <link rel=\"stylesheet\" href=\"theme/listing.css\">\\n\\n    </head>\\n    <body class=\"sidebar-visible no-js\">\\n    <div id=\"body-container\">\\n        <!-- Provide site root to javascript -->\\n        <script>\\n            var path_to_root = \"\";\\n            var default_theme = window.matchMedia(\"(prefers-color-scheme: dark)\").matches ? \"navy\" : \"light\";\\n        </script>\\n\\n        <!-- Work around some values being stored in localStorage wrapped in quotes -->\\n        <script>\\n            try {\\n                var theme = localStorage.getItem(\\'mdbook-theme\\');\\n                var sidebar = localStorage.getItem(\\'mdbook-sidebar\\');\\n\\n                if (theme.startsWith(\\'\"\\') && theme.endsWith(\\'\"\\')) {\\n                    localStorage.setItem(\\'mdbook-theme\\', theme.slice(1, theme.length - 1));\\n                }\\n\\n                if (sidebar.startsWith(\\'\"\\') && sidebar.endsWith(\\'\"\\')) {\\n                    localStorage.setItem(\\'mdbook-sidebar\\', sidebar.slice(1, sidebar.length - 1));\\n                }\\n            } catch (e) { }\\n        </script>\\n\\n        <!-- Set the theme before any content is loaded, prevents flash -->\\n        <script>\\n            var theme;\\n            try { theme = localStorage.getItem(\\'mdbook-theme\\'); } catch(e) { }\\n            if (theme === null || theme === undefined) { theme = default_theme; }\\n            var html = document.querySelector(\\'html\\');\\n            html.classList.remove(\\'light\\')\\n            html.classList.add(theme);\\n            var body = document.querySelector(\\'body\\');\\n            body.classList.remove(\\'no-js\\')\\n            body.classList.add(\\'js\\');\\n        </script>\\n\\n        <input type=\"checkbox\" id=\"sidebar-toggle-anchor\" class=\"hidden\">\\n\\n        <!-- Hide / unhide sidebar before it is displayed -->\\n        <script>\\n            var body = document.querySelector(\\'body\\');\\n            var sidebar = null;\\n            var sidebar_toggle = document.getElementById(\"sidebar-toggle-anchor\");\\n            if (document.body.clientWidth >= 1080) {\\n                try { sidebar = localStorage.getItem(\\'mdbook-sidebar\\'); } catch(e) { }\\n                sidebar = sidebar || \\'visible\\';\\n            } else {\\n                sidebar = \\'hidden\\';\\n            }\\n            sidebar_toggle.checked = sidebar === \\'visible\\';\\n            body.classList.remove(\\'sidebar-visible\\');\\n            body.classList.add(\"sidebar-\" + sidebar);\\n        </script>\\n\\n        <nav id=\"sidebar\" class=\"sidebar\" aria-label=\"Table of contents\">\\n            <div class=\"sidebar-scrollbox\">\\n                <ol class=\"chapter\"><li class=\"chapter-item expanded affix \"><a href=\"title-page.html\" class=\"active\">The Rust Programming Language</a></li><li class=\"chapter-item expanded affix \"><a href=\"foreword.html\">Foreword</a></li><li class=\"chapter-item expanded affix \"><a href=\"ch00-00-introduction.html\">Introduction</a></li><li class=\"chapter-item expanded \"><a href=\"ch01-00-getting-started.html\"><strong aria-hidden=\"true\">1.</strong> Getting Started</a></li><li><ol class=\"section\"><li class=\"chapter-item expanded \"><a href=\"ch01-01-installation.html\"><strong aria-hidden=\"true\">1.1.</strong> Installation</a></li><li class=\"chapter-item expanded \"><a href=\"ch01-02-hello-world.html\"><strong aria-hidden=\"true\">1.2.</strong> Hello, World!</a></li><li class=\"chapter-item expanded \"><a href=\"ch01-03-hello-cargo.html\"><strong aria-hidden=\"true\">1.3.</strong> Hello, Cargo!</a></li></ol></li><li class=\"chapter-item expanded \"><a href=\"ch02-00-guessing-game-tutorial.html\"><strong aria-hidden=\"true\">2.</strong> Programming a Guessing Game</a></li><li class=\"chapter-item expanded \"><a href=\"ch03-00-common-programming-concepts.html\"><strong aria-hidden=\"true\">3.</strong> Common Programming Concepts</a></li><li><ol class=\"section\"><li class=\"chapter-item expanded \"><a href=\"ch03-01-variables-and-mutability.html\"><strong aria-hidden=\"true\">3.1.</strong> Variables and Mutability</a></li><li class=\"chapter-item expanded \"><a href=\"ch03-02-data-types.html\"><strong aria-hidden=\"true\">3.2.</strong> Data Types</a></li><li class=\"chapter-item expanded \"><a href=\"ch03-03-how-functions-work.html\"><strong aria-hidden=\"true\">3.3.</strong> Functions</a></li><li class=\"chapter-item expanded \"><a href=\"ch03-04-comments.html\"><strong aria-hidden=\"true\">3.4.</strong> Comments</a></li><li class=\"chapter-item expanded \"><a href=\"ch03-05-control-flow.html\"><strong aria-hidden=\"true\">3.5.</strong> Control Flow</a></li></ol></li><li class=\"chapter-item expanded \"><a href=\"ch04-00-understanding-ownership.html\"><strong aria-hidden=\"true\">4.</strong> Understanding Ownership</a></li><li><ol class=\"section\"><li class=\"chapter-item expanded \"><a href=\"ch04-01-what-is-ownership.html\"><strong aria-hidden=\"true\">4.1.</strong> What is Ownership?</a></li><li class=\"chapter-item expanded \"><a href=\"ch04-02-references-and-borrowing.html\"><strong aria-hidden=\"true\">4.2.</strong> References and Borrowing</a></li><li class=\"chapter-item expanded \"><a href=\"ch04-03-slices.html\"><strong aria-hidden=\"true\">4.3.</strong> The Slice Type</a></li></ol></li><li class=\"chapter-item expanded \"><a href=\"ch05-00-structs.html\"><strong aria-hidden=\"true\">5.</strong> Using Structs to Structure Related Data</a></li><li><ol class=\"section\"><li class=\"chapter-item expanded \"><a href=\"ch05-01-defining-structs.html\"><strong aria-hidden=\"true\">5.1.</strong> Defining and Instantiating Structs</a></li><li class=\"chapter-item expanded \"><a href=\"ch05-02-example-structs.html\"><strong aria-hidden=\"true\">5.2.</strong> An Example Program Using Structs</a></li><li class=\"chapter-item expanded \"><a href=\"ch05-03-method-syntax.html\"><strong aria-hidden=\"true\">5.3.</strong> Method Syntax</a></li></ol></li><li class=\"chapter-item expanded \"><a href=\"ch06-00-enums.html\"><strong aria-hidden=\"true\">6.</strong> Enums and Pattern Matching</a></li><li><ol class=\"section\"><li class=\"chapter-item expanded \"><a href=\"ch06-01-defining-an-enum.html\"><strong aria-hidden=\"true\">6.1.</strong> Defining an Enum</a></li><li class=\"chapter-item expanded \"><a href=\"ch06-02-match.html\"><strong aria-hidden=\"true\">6.2.</strong> The match Control Flow Construct</a></li><li class=\"chapter-item expanded \"><a href=\"ch06-03-if-let.html\"><strong aria-hidden=\"true\">6.3.</strong> Concise Control Flow with if let</a></li></ol></li><li class=\"chapter-item expanded \"><a href=\"ch07-00-managing-growing-projects-with-packages-crates-and-modules.html\"><strong aria-hidden=\"true\">7.</strong> Managing Growing Projects with Packages, Crates, and Modules</a></li><li><ol class=\"section\"><li class=\"chapter-item expanded \"><a href=\"ch07-01-packages-and-crates.html\"><strong aria-hidden=\"true\">7.1.</strong> Packages and Crates</a></li><li class=\"chapter-item expanded \"><a href=\"ch07-02-defining-modules-to-control-scope-and-privacy.html\"><strong aria-hidden=\"true\">7.2.</strong> Defining Modules to Control Scope and Privacy</a></li><li class=\"chapter-item expanded \"><a href=\"ch07-03-paths-for-referring-to-an-item-in-the-module-tree.html\"><strong aria-hidden=\"true\">7.3.</strong> Paths for Referring to an Item in the Module Tree</a></li><li class=\"chapter-item expanded \"><a href=\"ch07-04-bringing-paths-into-scope-with-the-use-keyword.html\"><strong aria-hidden=\"true\">7.4.</strong> Bringing Paths Into Scope with the use Keyword</a></li><li class=\"chapter-item expanded \"><a href=\"ch07-05-separating-modules-into-different-files.html\"><strong aria-hidden=\"true\">7.5.</strong> Separating Modules into Different Files</a></li></ol></li><li class=\"chapter-item expanded \"><a href=\"ch08-00-common-collections.html\"><strong aria-hidden=\"true\">8.</strong> Common Collections</a></li><li><ol class=\"section\"><li class=\"chapter-item expanded \"><a href=\"ch08-01-vectors.html\"><strong aria-hidden=\"true\">8.1.</strong> Storing Lists of Values with Vectors</a></li><li class=\"chapter-item expanded \"><a href=\"ch08-02-strings.html\"><strong aria-hidden=\"true\">8.2.</strong> Storing UTF-8 Encoded Text with Strings</a></li><li class=\"chapter-item expanded \"><a href=\"ch08-03-hash-maps.html\"><strong aria-hidden=\"true\">8.3.</strong> Storing Keys with Associated Values in Hash Maps</a></li></ol></li><li class=\"chapter-item expanded \"><a href=\"ch09-00-error-handling.html\"><strong aria-hidden=\"true\">9.</strong> Error Handling</a></li><li><ol class=\"section\"><li class=\"chapter-item expanded \"><a href=\"ch09-01-unrecoverable-errors-with-panic.html\"><strong aria-hidden=\"true\">9.1.</strong> Unrecoverable Errors with panic!</a></li><li class=\"chapter-item expanded \"><a href=\"ch09-02-recoverable-errors-with-result.html\"><strong aria-hidden=\"true\">9.2.</strong> Recoverable Errors with Result</a></li><li class=\"chapter-item expanded \"><a href=\"ch09-03-to-panic-or-not-to-panic.html\"><strong aria-hidden=\"true\">9.3.</strong> To panic! or Not to panic!</a></li></ol></li><li class=\"chapter-item expanded \"><a href=\"ch10-00-generics.html\"><strong aria-hidden=\"true\">10.</strong> Generic Types, Traits, and Lifetimes</a></li><li><ol class=\"section\"><li class=\"chapter-item expanded \"><a href=\"ch10-01-syntax.html\"><strong aria-hidden=\"true\">10.1.</strong> Generic Data Types</a></li><li class=\"chapter-item expanded \"><a href=\"ch10-02-traits.html\"><strong aria-hidden=\"true\">10.2.</strong> Traits: Defining Shared Behavior</a></li><li class=\"chapter-item expanded \"><a href=\"ch10-03-lifetime-syntax.html\"><strong aria-hidden=\"true\">10.3.</strong> Validating References with Lifetimes</a></li></ol></li><li class=\"chapter-item expanded \"><a href=\"ch11-00-testing.html\"><strong aria-hidden=\"true\">11.</strong> Writing Automated Tests</a></li><li><ol class=\"section\"><li class=\"chapter-item expanded \"><a href=\"ch11-01-writing-tests.html\"><strong aria-hidden=\"true\">11.1.</strong> How to Write Tests</a></li><li class=\"chapter-item expanded \"><a href=\"ch11-02-running-tests.html\"><strong aria-hidden=\"true\">11.2.</strong> Controlling How Tests Are Run</a></li><li class=\"chapter-item expanded \"><a href=\"ch11-03-test-organization.html\"><strong aria-hidden=\"true\">11.3.</strong> Test Organization</a></li></ol></li><li class=\"chapter-item expanded \"><a href=\"ch12-00-an-io-project.html\"><strong aria-hidden=\"true\">12.</strong> An I/O Project: Building a Command Line Program</a></li><li><ol class=\"section\"><li class=\"chapter-item expanded \"><a href=\"ch12-01-accepting-command-line-arguments.html\"><strong aria-hidden=\"true\">12.1.</strong> Accepting Command Line Arguments</a></li><li class=\"chapter-item expanded \"><a href=\"ch12-02-reading-a-file.html\"><strong aria-hidden=\"true\">12.2.</strong> Reading a File</a></li><li class=\"chapter-item expanded \"><a href=\"ch12-03-improving-error-handling-and-modularity.html\"><strong aria-hidden=\"true\">12.3.</strong> Refactoring to Improve Modularity and Error Handling</a></li><li class=\"chapter-item expanded \"><a href=\"ch12-04-testing-the-librarys-functionality.html\"><strong aria-hidden=\"true\">12.4.</strong> Developing the Libraryâ\\x80\\x99s Functionality with Test Driven Development</a></li><li class=\"chapter-item expanded \"><a href=\"ch12-05-working-with-environment-variables.html\"><strong aria-hidden=\"true\">12.5.</strong> Working with Environment Variables</a></li><li class=\"chapter-item expanded \"><a href=\"ch12-06-writing-to-stderr-instead-of-stdout.html\"><strong aria-hidden=\"true\">12.6.</strong> Writing Error Messages to Standard Error Instead of Standard Output</a></li></ol></li><li class=\"chapter-item expanded \"><a href=\"ch13-00-functional-features.html\"><strong aria-hidden=\"true\">13.</strong> Functional Language Features: Iterators and Closures</a></li><li><ol class=\"section\"><li class=\"chapter-item expanded \"><a href=\"ch13-01-closures.html\"><strong aria-hidden=\"true\">13.1.</strong> Closures: Anonymous Functions that Capture Their Environment</a></li><li class=\"chapter-item expanded \"><a href=\"ch13-02-iterators.html\"><strong aria-hidden=\"true\">13.2.</strong> Processing a Series of Items with Iterators</a></li><li class=\"chapter-item expanded \"><a href=\"ch13-03-improving-our-io-project.html\"><strong aria-hidden=\"true\">13.3.</strong> Improving Our I/O Project</a></li><li class=\"chapter-item expanded \"><a href=\"ch13-04-performance.html\"><strong aria-hidden=\"true\">13.4.</strong> Comparing Performance: Loops vs. Iterators</a></li></ol></li><li class=\"chapter-item expanded \"><a href=\"ch14-00-more-about-cargo.html\"><strong aria-hidden=\"true\">14.</strong> More about Cargo and Crates.io</a></li><li><ol class=\"section\"><li class=\"chapter-item expanded \"><a href=\"ch14-01-release-profiles.html\"><strong aria-hidden=\"true\">14.1.</strong> Customizing Builds with Release Profiles</a></li><li class=\"chapter-item expanded \"><a href=\"ch14-02-publishing-to-crates-io.html\"><strong aria-hidden=\"true\">14.2.</strong> Publishing a Crate to Crates.io</a></li><li class=\"chapter-item expanded \"><a href=\"ch14-03-cargo-workspaces.html\"><strong aria-hidden=\"true\">14.3.</strong> Cargo Workspaces</a></li><li class=\"chapter-item expanded \"><a href=\"ch14-04-installing-binaries.html\"><strong aria-hidden=\"true\">14.4.</strong> Installing Binaries from Crates.io with cargo install</a></li><li class=\"chapter-item expanded \"><a href=\"ch14-05-extending-cargo.html\"><strong aria-hidden=\"true\">14.5.</strong> Extending Cargo with Custom Commands</a></li></ol></li><li class=\"chapter-item expanded \"><a href=\"ch15-00-smart-pointers.html\"><strong aria-hidden=\"true\">15.</strong> Smart Pointers</a></li><li><ol class=\"section\"><li class=\"chapter-item expanded \"><a href=\"ch15-01-box.html\"><strong aria-hidden=\"true\">15.1.</strong> Using Box&lt;T&gt; to Point to Data on the Heap</a></li><li class=\"chapter-item expanded \"><a href=\"ch15-02-deref.html\"><strong aria-hidden=\"true\">15.2.</strong> Treating Smart Pointers Like Regular References with the Deref Trait</a></li><li class=\"chapter-item expanded \"><a href=\"ch15-03-drop.html\"><strong aria-hidden=\"true\">15.3.</strong> Running Code on Cleanup with the Drop Trait</a></li><li class=\"chapter-item expanded \"><a href=\"ch15-04-rc.html\"><strong aria-hidden=\"true\">15.4.</strong> Rc&lt;T&gt;, the Reference Counted Smart Pointer</a></li><li class=\"chapter-item expanded \"><a href=\"ch15-05-interior-mutability.html\"><strong aria-hidden=\"true\">15.5.</strong> RefCell&lt;T&gt; and the Interior Mutability Pattern</a></li><li class=\"chapter-item expanded \"><a href=\"ch15-06-reference-cycles.html\"><strong aria-hidden=\"true\">15.6.</strong> Reference Cycles Can Leak Memory</a></li></ol></li><li class=\"chapter-item expanded \"><a href=\"ch16-00-concurrency.html\"><strong aria-hidden=\"true\">16.</strong> Fearless Concurrency</a></li><li><ol class=\"section\"><li class=\"chapter-item expanded \"><a href=\"ch16-01-threads.html\"><strong aria-hidden=\"true\">16.1.</strong> Using Threads to Run Code Simultaneously</a></li><li class=\"chapter-item expanded \"><a href=\"ch16-02-message-passing.html\"><strong aria-hidden=\"true\">16.2.</strong> Using Message Passing to Transfer Data Between Threads</a></li><li class=\"chapter-item expanded \"><a href=\"ch16-03-shared-state.html\"><strong aria-hidden=\"true\">16.3.</strong> Shared-State Concurrency</a></li><li class=\"chapter-item expanded \"><a href=\"ch16-04-extensible-concurrency-sync-and-send.html\"><strong aria-hidden=\"true\">16.4.</strong> Extensible Concurrency with the Sync and Send Traits</a></li></ol></li><li class=\"chapter-item expanded \"><a href=\"ch17-00-oop.html\"><strong aria-hidden=\"true\">17.</strong> Object Oriented Programming Features of Rust</a></li><li><ol class=\"section\"><li class=\"chapter-item expanded \"><a href=\"ch17-01-what-is-oo.html\"><strong aria-hidden=\"true\">17.1.</strong> Characteristics of Object-Oriented Languages</a></li><li class=\"chapter-item expanded \"><a href=\"ch17-02-trait-objects.html\"><strong aria-hidden=\"true\">17.2.</strong> Using Trait Objects That Allow for Values of Different Types</a></li><li class=\"chapter-item expanded \"><a href=\"ch17-03-oo-design-patterns.html\"><strong aria-hidden=\"true\">17.3.</strong> Implementing an Object-Oriented Design Pattern</a></li></ol></li><li class=\"chapter-item expanded \"><a href=\"ch18-00-patterns.html\"><strong aria-hidden=\"true\">18.</strong> Patterns and Matching</a></li><li><ol class=\"section\"><li class=\"chapter-item expanded \"><a href=\"ch18-01-all-the-places-for-patterns.html\"><strong aria-hidden=\"true\">18.1.</strong> All the Places Patterns Can Be Used</a></li><li class=\"chapter-item expanded \"><a href=\"ch18-02-refutability.html\"><strong aria-hidden=\"true\">18.2.</strong> Refutability: Whether a Pattern Might Fail to Match</a></li><li class=\"chapter-item expanded \"><a href=\"ch18-03-pattern-syntax.html\"><strong aria-hidden=\"true\">18.3.</strong> Pattern Syntax</a></li></ol></li><li class=\"chapter-item expanded \"><a href=\"ch19-00-advanced-features.html\"><strong aria-hidden=\"true\">19.</strong> Advanced Features</a></li><li><ol class=\"section\"><li class=\"chapter-item expanded \"><a href=\"ch19-01-unsafe-rust.html\"><strong aria-hidden=\"true\">19.1.</strong> Unsafe Rust</a></li><li class=\"chapter-item expanded \"><a href=\"ch19-03-advanced-traits.html\"><strong aria-hidden=\"true\">19.2.</strong> Advanced Traits</a></li><li class=\"chapter-item expanded \"><a href=\"ch19-04-advanced-types.html\"><strong aria-hidden=\"true\">19.3.</strong> Advanced Types</a></li><li class=\"chapter-item expanded \"><a href=\"ch19-05-advanced-functions-and-closures.html\"><strong aria-hidden=\"true\">19.4.</strong> Advanced Functions and Closures</a></li><li class=\"chapter-item expanded \"><a href=\"ch19-06-macros.html\"><strong aria-hidden=\"true\">19.5.</strong> Macros</a></li></ol></li><li class=\"chapter-item expanded \"><a href=\"ch20-00-final-project-a-web-server.html\"><strong aria-hidden=\"true\">20.</strong> Final Project: Building a Multithreaded Web Server</a></li><li><ol class=\"section\"><li class=\"chapter-item expanded \"><a href=\"ch20-01-single-threaded.html\"><strong aria-hidden=\"true\">20.1.</strong> Building a Single-Threaded Web Server</a></li><li class=\"chapter-item expanded \"><a href=\"ch20-02-multithreaded.html\"><strong aria-hidden=\"true\">20.2.</strong> Turning Our Single-Threaded Server into a Multithreaded Server</a></li><li class=\"chapter-item expanded \"><a href=\"ch20-03-graceful-shutdown-and-cleanup.html\"><strong aria-hidden=\"true\">20.3.</strong> Graceful Shutdown and Cleanup</a></li></ol></li><li class=\"chapter-item expanded \"><a href=\"appendix-00.html\"><strong aria-hidden=\"true\">21.</strong> Appendix</a></li><li><ol class=\"section\"><li class=\"chapter-item expanded \"><a href=\"appendix-01-keywords.html\"><strong aria-hidden=\"true\">21.1.</strong> A - Keywords</a></li><li class=\"chapter-item expanded \"><a href=\"appendix-02-operators.html\"><strong aria-hidden=\"true\">21.2.</strong> B - Operators and Symbols</a></li><li class=\"chapter-item expanded \"><a href=\"appendix-03-derivable-traits.html\"><strong aria-hidden=\"true\">21.3.</strong> C - Derivable Traits</a></li><li class=\"chapter-item expanded \"><a href=\"appendix-04-useful-development-tools.html\"><strong aria-hidden=\"true\">21.4.</strong> D - Useful Development Tools</a></li><li class=\"chapter-item expanded \"><a href=\"appendix-05-editions.html\"><strong aria-hidden=\"true\">21.5.</strong> E - Editions</a></li><li class=\"chapter-item expanded \"><a href=\"appendix-06-translation.html\"><strong aria-hidden=\"true\">21.6.</strong> F - Translations of the Book</a></li><li class=\"chapter-item expanded \"><a href=\"appendix-07-nightly-rust.html\"><strong aria-hidden=\"true\">21.7.</strong> G - How Rust is Made and â\\x80\\x9cNightly Rustâ\\x80\\x9d</a></li></ol></li></ol>\\n            </div>\\n            <div id=\"sidebar-resize-handle\" class=\"sidebar-resize-handle\">\\n                <div class=\"sidebar-resize-indicator\"></div>\\n            </div>\\n        </nav>\\n\\n        <!-- Track and set sidebar scroll position -->\\n        <script>\\n            var sidebarScrollbox = document.querySelector(\\'#sidebar .sidebar-scrollbox\\');\\n            sidebarScrollbox.addEventListener(\\'click\\', function(e) {\\n                if (e.target.tagName === \\'A\\') {\\n                    sessionStorage.setItem(\\'sidebar-scroll\\', sidebarScrollbox.scrollTop);\\n                }\\n            }, { passive: true });\\n            var sidebarScrollTop = sessionStorage.getItem(\\'sidebar-scroll\\');\\n            sessionStorage.removeItem(\\'sidebar-scroll\\');\\n            if (sidebarScrollTop) {\\n                // preserve sidebar scroll position when navigating via links within sidebar\\n                sidebarScrollbox.scrollTop = sidebarScrollTop;\\n            } else {\\n                // scroll sidebar to current active section when navigating via \"next/previous chapter\" buttons\\n                var activeSection = document.querySelector(\\'#sidebar .active\\');\\n                if (activeSection) {\\n                    activeSection.scrollIntoView({ block: \\'center\\' });\\n                }\\n            }\\n        </script>\\n\\n        <div id=\"page-wrapper\" class=\"page-wrapper\">\\n\\n            <div class=\"page\">\\n                                <div id=\"menu-bar-hover-placeholder\"></div>\\n                <div id=\"menu-bar\" class=\"menu-bar sticky\">\\n                    <div class=\"left-buttons\">\\n                        <label id=\"sidebar-toggle\" class=\"icon-button\" for=\"sidebar-toggle-anchor\" title=\"Toggle Table of Contents\" aria-label=\"Toggle Table of Contents\" aria-controls=\"sidebar\">\\n                            <i class=\"fa fa-bars\"></i>\\n                        </label>\\n                        <button id=\"theme-toggle\" class=\"icon-button\" type=\"button\" title=\"Change theme\" aria-label=\"Change theme\" aria-haspopup=\"true\" aria-expanded=\"false\" aria-controls=\"theme-list\">\\n                            <i class=\"fa fa-paint-brush\"></i>\\n                        </button>\\n                        <ul id=\"theme-list\" class=\"theme-popup\" aria-label=\"Themes\" role=\"menu\">\\n                            <li role=\"none\"><button role=\"menuitem\" class=\"theme\" id=\"light\">Light</button></li>\\n                            <li role=\"none\"><button role=\"menuitem\" class=\"theme\" id=\"rust\">Rust</button></li>\\n                            <li role=\"none\"><button role=\"menuitem\" class=\"theme\" id=\"coal\">Coal</button></li>\\n                            <li role=\"none\"><button role=\"menuitem\" class=\"theme\" id=\"navy\">Navy</button></li>\\n                            <li role=\"none\"><button role=\"menuitem\" class=\"theme\" id=\"ayu\">Ayu</button></li>\\n                        </ul>\\n                        <button id=\"search-toggle\" class=\"icon-button\" type=\"button\" title=\"Search. (Shortkey: s)\" aria-label=\"Toggle Searchbar\" aria-expanded=\"false\" aria-keyshortcuts=\"S\" aria-controls=\"searchbar\">\\n                            <i class=\"fa fa-search\"></i>\\n                        </button>\\n                    </div>\\n\\n                    <h1 class=\"menu-title\">The Rust Programming Language</h1>\\n\\n                    <div class=\"right-buttons\">\\n                        <a href=\"print.html\" title=\"Print this book\" aria-label=\"Print this book\">\\n                            <i id=\"print-button\" class=\"fa fa-print\"></i>\\n                        </a>\\n                        <a href=\"https://github.com/rust-lang/book\" title=\"Git repository\" aria-label=\"Git repository\">\\n                            <i id=\"git-repository-button\" class=\"fa fa-github\"></i>\\n                        </a>\\n\\n                    </div>\\n                </div>\\n\\n                <div id=\"search-wrapper\" class=\"hidden\">\\n                    <form id=\"searchbar-outer\" class=\"searchbar-outer\">\\n                        <input type=\"search\" id=\"searchbar\" name=\"searchbar\" placeholder=\"Search this book ...\" aria-controls=\"searchresults-outer\" aria-describedby=\"searchresults-header\">\\n                    </form>\\n                    <div id=\"searchresults-outer\" class=\"searchresults-outer hidden\">\\n                        <div id=\"searchresults-header\" class=\"searchresults-header\"></div>\\n                        <ul id=\"searchresults\">\\n                        </ul>\\n                    </div>\\n                </div>\\n\\n                <!-- Apply ARIA attributes after the sidebar and the sidebar toggle button are added to the DOM -->\\n                <script>\\n                    document.getElementById(\\'sidebar-toggle\\').setAttribute(\\'aria-expanded\\', sidebar === \\'visible\\');\\n                    document.getElementById(\\'sidebar\\').setAttribute(\\'aria-hidden\\', sidebar !== \\'visible\\');\\n                    Array.from(document.querySelectorAll(\\'#sidebar a\\')).forEach(function(link) {\\n                        link.setAttribute(\\'tabIndex\\', sidebar === \\'visible\\' ? 0 : -1);\\n                    });\\n                </script>\\n\\n                <div id=\"content\" class=\"content\">\\n                    <main>\\n                        <h1 id=\"the-rust-programming-language\"><a class=\"header\" href=\"#the-rust-programming-language\">The Rust Programming Language</a></h1>\\n<p><em>by Steve Klabnik and Carol Nichols, with contributions from the Rust Community</em></p>\\n<p>This version of the text assumes youâ\\x80\\x99re using Rust 1.81.0 (released 2024-09-04)\\nor later. See the <a href=\"ch01-01-installation.html\">â\\x80\\x9cInstallationâ\\x80\\x9d section of Chapter 1</a><!-- ignore -->\\nto install or update Rust.</p>\\n<p>The HTML format is available online at\\n<a href=\"https://doc.rust-lang.org/stable/book/\">https://doc.rust-lang.org/stable/book/</a>\\nand offline with installations of Rust made with <code>rustup</code>; run <code>rustup doc --book</code> to open.</p>\\n<p>Several community <a href=\"appendix-06-translation.html\">translations</a> are also available.</p>\\n<p>This text is available in <a href=\"https://nostarch.com/rust-programming-language-2nd-edition\">paperback and ebook format from No Starch\\nPress</a>.</p>\\n<blockquote>\\n<p><strong>ð\\x9f\\x9a¨ Want a more interactive learning experience? Try out a different version\\nof the Rust Book, featuring: quizzes, highlighting, visualizations, and\\nmore</strong>: <a href=\"https://rust-book.cs.brown.edu\">https://rust-book.cs.brown.edu</a></p>\\n</blockquote>\\n\\n                    </main>\\n\\n                    <nav class=\"nav-wrapper\" aria-label=\"Page navigation\">\\n                        <!-- Mobile navigation buttons -->\\n\\n                            <a rel=\"next prefetch\" href=\"foreword.html\" class=\"mobile-nav-chapters next\" title=\"Next chapter\" aria-label=\"Next chapter\" aria-keyshortcuts=\"Right\">\\n                                <i class=\"fa fa-angle-right\"></i>\\n                            </a>\\n\\n                        <div style=\"clear: both\"></div>\\n                    </nav>\\n                </div>\\n            </div>\\n\\n            <nav class=\"nav-wide-wrapper\" aria-label=\"Page navigation\">\\n\\n                    <a rel=\"next prefetch\" href=\"foreword.html\" class=\"nav-chapters next\" title=\"Next chapter\" aria-label=\"Next chapter\" aria-keyshortcuts=\"Right\">\\n                        <i class=\"fa fa-angle-right\"></i>\\n                    </a>\\n            </nav>\\n\\n        </div>\\n\\n\\n\\n\\n        <script>\\n            window.playground_copyable = true;\\n        </script>\\n\\n\\n        <script src=\"elasticlunr.min.js\"></script>\\n        <script src=\"mark.min.js\"></script>\\n        <script src=\"searcher.js\"></script>\\n\\n        <script src=\"clipboard.min.js\"></script>\\n        <script src=\"highlight.js\"></script>\\n        <script src=\"book.js\"></script>\\n\\n        <!-- Custom JS scripts -->\\n        <script src=\"ferris.js\"></script>\\n\\n\\n    </div>\\n    </body>\\n</html>\\n'"
      ]
     },
     "execution_count": 118,
     "metadata": {},
     "output_type": "execute_result"
    }
   ],
   "source": [
    "result.text"
   ]
  },
  {
   "cell_type": "code",
   "execution_count": 120,
   "id": "b2cf138c-85c5-406d-b324-9947690a7138",
   "metadata": {},
   "outputs": [],
   "source": [
    "soup = bs4.BeautifulSoup(result.text,\"lxml\")"
   ]
  },
  {
   "cell_type": "code",
   "execution_count": 122,
   "id": "abea4737-140a-4e76-94dc-3c9dbfa795a3",
   "metadata": {},
   "outputs": [
    {
     "data": {
      "text/plain": [
       "<!DOCTYPE HTML>\n",
       "<html class=\"light\" dir=\"ltr\" lang=\"en\">\n",
       "<head>\n",
       "<!-- Book generated using mdBook -->\n",
       "<meta charset=\"utf-8\"/>\n",
       "<title>The Rust Programming Language - The Rust Programming Language</title>\n",
       "<!-- Custom HTML head -->\n",
       "<meta content=\"\" name=\"description\"/>\n",
       "<meta content=\"width=device-width, initial-scale=1\" name=\"viewport\"/>\n",
       "<meta content=\"#ffffff\" name=\"theme-color\"/>\n",
       "<link href=\"favicon.svg\" rel=\"icon\"/>\n",
       "<link href=\"favicon.png\" rel=\"shortcut icon\"/>\n",
       "<link href=\"css/variables.css\" rel=\"stylesheet\"/>\n",
       "<link href=\"css/general.css\" rel=\"stylesheet\"/>\n",
       "<link href=\"css/chrome.css\" rel=\"stylesheet\"/>\n",
       "<link href=\"css/print.css\" media=\"print\" rel=\"stylesheet\"/>\n",
       "<!-- Fonts -->\n",
       "<link href=\"FontAwesome/css/font-awesome.css\" rel=\"stylesheet\"/>\n",
       "<link href=\"fonts/fonts.css\" rel=\"stylesheet\"/>\n",
       "<!-- Highlight.js Stylesheets -->\n",
       "<link href=\"highlight.css\" rel=\"stylesheet\"/>\n",
       "<link href=\"tomorrow-night.css\" rel=\"stylesheet\"/>\n",
       "<link href=\"ayu-highlight.css\" rel=\"stylesheet\"/>\n",
       "<!-- Custom theme stylesheets -->\n",
       "<link href=\"ferris.css\" rel=\"stylesheet\"/>\n",
       "<link href=\"theme/2018-edition.css\" rel=\"stylesheet\"/>\n",
       "<link href=\"theme/semantic-notes.css\" rel=\"stylesheet\"/>\n",
       "<link href=\"theme/listing.css\" rel=\"stylesheet\"/>\n",
       "</head>\n",
       "<body class=\"sidebar-visible no-js\">\n",
       "<div id=\"body-container\">\n",
       "<!-- Provide site root to javascript -->\n",
       "<script>\n",
       "            var path_to_root = \"\";\n",
       "            var default_theme = window.matchMedia(\"(prefers-color-scheme: dark)\").matches ? \"navy\" : \"light\";\n",
       "        </script>\n",
       "<!-- Work around some values being stored in localStorage wrapped in quotes -->\n",
       "<script>\n",
       "            try {\n",
       "                var theme = localStorage.getItem('mdbook-theme');\n",
       "                var sidebar = localStorage.getItem('mdbook-sidebar');\n",
       "\n",
       "                if (theme.startsWith('\"') && theme.endsWith('\"')) {\n",
       "                    localStorage.setItem('mdbook-theme', theme.slice(1, theme.length - 1));\n",
       "                }\n",
       "\n",
       "                if (sidebar.startsWith('\"') && sidebar.endsWith('\"')) {\n",
       "                    localStorage.setItem('mdbook-sidebar', sidebar.slice(1, sidebar.length - 1));\n",
       "                }\n",
       "            } catch (e) { }\n",
       "        </script>\n",
       "<!-- Set the theme before any content is loaded, prevents flash -->\n",
       "<script>\n",
       "            var theme;\n",
       "            try { theme = localStorage.getItem('mdbook-theme'); } catch(e) { }\n",
       "            if (theme === null || theme === undefined) { theme = default_theme; }\n",
       "            var html = document.querySelector('html');\n",
       "            html.classList.remove('light')\n",
       "            html.classList.add(theme);\n",
       "            var body = document.querySelector('body');\n",
       "            body.classList.remove('no-js')\n",
       "            body.classList.add('js');\n",
       "        </script>\n",
       "<input class=\"hidden\" id=\"sidebar-toggle-anchor\" type=\"checkbox\"/>\n",
       "<!-- Hide / unhide sidebar before it is displayed -->\n",
       "<script>\n",
       "            var body = document.querySelector('body');\n",
       "            var sidebar = null;\n",
       "            var sidebar_toggle = document.getElementById(\"sidebar-toggle-anchor\");\n",
       "            if (document.body.clientWidth >= 1080) {\n",
       "                try { sidebar = localStorage.getItem('mdbook-sidebar'); } catch(e) { }\n",
       "                sidebar = sidebar || 'visible';\n",
       "            } else {\n",
       "                sidebar = 'hidden';\n",
       "            }\n",
       "            sidebar_toggle.checked = sidebar === 'visible';\n",
       "            body.classList.remove('sidebar-visible');\n",
       "            body.classList.add(\"sidebar-\" + sidebar);\n",
       "        </script>\n",
       "<nav aria-label=\"Table of contents\" class=\"sidebar\" id=\"sidebar\">\n",
       "<div class=\"sidebar-scrollbox\">\n",
       "<ol class=\"chapter\"><li class=\"chapter-item expanded affix\"><a class=\"active\" href=\"title-page.html\">The Rust Programming Language</a></li><li class=\"chapter-item expanded affix\"><a href=\"foreword.html\">Foreword</a></li><li class=\"chapter-item expanded affix\"><a href=\"ch00-00-introduction.html\">Introduction</a></li><li class=\"chapter-item expanded\"><a href=\"ch01-00-getting-started.html\"><strong aria-hidden=\"true\">1.</strong> Getting Started</a></li><li><ol class=\"section\"><li class=\"chapter-item expanded\"><a href=\"ch01-01-installation.html\"><strong aria-hidden=\"true\">1.1.</strong> Installation</a></li><li class=\"chapter-item expanded\"><a href=\"ch01-02-hello-world.html\"><strong aria-hidden=\"true\">1.2.</strong> Hello, World!</a></li><li class=\"chapter-item expanded\"><a href=\"ch01-03-hello-cargo.html\"><strong aria-hidden=\"true\">1.3.</strong> Hello, Cargo!</a></li></ol></li><li class=\"chapter-item expanded\"><a href=\"ch02-00-guessing-game-tutorial.html\"><strong aria-hidden=\"true\">2.</strong> Programming a Guessing Game</a></li><li class=\"chapter-item expanded\"><a href=\"ch03-00-common-programming-concepts.html\"><strong aria-hidden=\"true\">3.</strong> Common Programming Concepts</a></li><li><ol class=\"section\"><li class=\"chapter-item expanded\"><a href=\"ch03-01-variables-and-mutability.html\"><strong aria-hidden=\"true\">3.1.</strong> Variables and Mutability</a></li><li class=\"chapter-item expanded\"><a href=\"ch03-02-data-types.html\"><strong aria-hidden=\"true\">3.2.</strong> Data Types</a></li><li class=\"chapter-item expanded\"><a href=\"ch03-03-how-functions-work.html\"><strong aria-hidden=\"true\">3.3.</strong> Functions</a></li><li class=\"chapter-item expanded\"><a href=\"ch03-04-comments.html\"><strong aria-hidden=\"true\">3.4.</strong> Comments</a></li><li class=\"chapter-item expanded\"><a href=\"ch03-05-control-flow.html\"><strong aria-hidden=\"true\">3.5.</strong> Control Flow</a></li></ol></li><li class=\"chapter-item expanded\"><a href=\"ch04-00-understanding-ownership.html\"><strong aria-hidden=\"true\">4.</strong> Understanding Ownership</a></li><li><ol class=\"section\"><li class=\"chapter-item expanded\"><a href=\"ch04-01-what-is-ownership.html\"><strong aria-hidden=\"true\">4.1.</strong> What is Ownership?</a></li><li class=\"chapter-item expanded\"><a href=\"ch04-02-references-and-borrowing.html\"><strong aria-hidden=\"true\">4.2.</strong> References and Borrowing</a></li><li class=\"chapter-item expanded\"><a href=\"ch04-03-slices.html\"><strong aria-hidden=\"true\">4.3.</strong> The Slice Type</a></li></ol></li><li class=\"chapter-item expanded\"><a href=\"ch05-00-structs.html\"><strong aria-hidden=\"true\">5.</strong> Using Structs to Structure Related Data</a></li><li><ol class=\"section\"><li class=\"chapter-item expanded\"><a href=\"ch05-01-defining-structs.html\"><strong aria-hidden=\"true\">5.1.</strong> Defining and Instantiating Structs</a></li><li class=\"chapter-item expanded\"><a href=\"ch05-02-example-structs.html\"><strong aria-hidden=\"true\">5.2.</strong> An Example Program Using Structs</a></li><li class=\"chapter-item expanded\"><a href=\"ch05-03-method-syntax.html\"><strong aria-hidden=\"true\">5.3.</strong> Method Syntax</a></li></ol></li><li class=\"chapter-item expanded\"><a href=\"ch06-00-enums.html\"><strong aria-hidden=\"true\">6.</strong> Enums and Pattern Matching</a></li><li><ol class=\"section\"><li class=\"chapter-item expanded\"><a href=\"ch06-01-defining-an-enum.html\"><strong aria-hidden=\"true\">6.1.</strong> Defining an Enum</a></li><li class=\"chapter-item expanded\"><a href=\"ch06-02-match.html\"><strong aria-hidden=\"true\">6.2.</strong> The match Control Flow Construct</a></li><li class=\"chapter-item expanded\"><a href=\"ch06-03-if-let.html\"><strong aria-hidden=\"true\">6.3.</strong> Concise Control Flow with if let</a></li></ol></li><li class=\"chapter-item expanded\"><a href=\"ch07-00-managing-growing-projects-with-packages-crates-and-modules.html\"><strong aria-hidden=\"true\">7.</strong> Managing Growing Projects with Packages, Crates, and Modules</a></li><li><ol class=\"section\"><li class=\"chapter-item expanded\"><a href=\"ch07-01-packages-and-crates.html\"><strong aria-hidden=\"true\">7.1.</strong> Packages and Crates</a></li><li class=\"chapter-item expanded\"><a href=\"ch07-02-defining-modules-to-control-scope-and-privacy.html\"><strong aria-hidden=\"true\">7.2.</strong> Defining Modules to Control Scope and Privacy</a></li><li class=\"chapter-item expanded\"><a href=\"ch07-03-paths-for-referring-to-an-item-in-the-module-tree.html\"><strong aria-hidden=\"true\">7.3.</strong> Paths for Referring to an Item in the Module Tree</a></li><li class=\"chapter-item expanded\"><a href=\"ch07-04-bringing-paths-into-scope-with-the-use-keyword.html\"><strong aria-hidden=\"true\">7.4.</strong> Bringing Paths Into Scope with the use Keyword</a></li><li class=\"chapter-item expanded\"><a href=\"ch07-05-separating-modules-into-different-files.html\"><strong aria-hidden=\"true\">7.5.</strong> Separating Modules into Different Files</a></li></ol></li><li class=\"chapter-item expanded\"><a href=\"ch08-00-common-collections.html\"><strong aria-hidden=\"true\">8.</strong> Common Collections</a></li><li><ol class=\"section\"><li class=\"chapter-item expanded\"><a href=\"ch08-01-vectors.html\"><strong aria-hidden=\"true\">8.1.</strong> Storing Lists of Values with Vectors</a></li><li class=\"chapter-item expanded\"><a href=\"ch08-02-strings.html\"><strong aria-hidden=\"true\">8.2.</strong> Storing UTF-8 Encoded Text with Strings</a></li><li class=\"chapter-item expanded\"><a href=\"ch08-03-hash-maps.html\"><strong aria-hidden=\"true\">8.3.</strong> Storing Keys with Associated Values in Hash Maps</a></li></ol></li><li class=\"chapter-item expanded\"><a href=\"ch09-00-error-handling.html\"><strong aria-hidden=\"true\">9.</strong> Error Handling</a></li><li><ol class=\"section\"><li class=\"chapter-item expanded\"><a href=\"ch09-01-unrecoverable-errors-with-panic.html\"><strong aria-hidden=\"true\">9.1.</strong> Unrecoverable Errors with panic!</a></li><li class=\"chapter-item expanded\"><a href=\"ch09-02-recoverable-errors-with-result.html\"><strong aria-hidden=\"true\">9.2.</strong> Recoverable Errors with Result</a></li><li class=\"chapter-item expanded\"><a href=\"ch09-03-to-panic-or-not-to-panic.html\"><strong aria-hidden=\"true\">9.3.</strong> To panic! or Not to panic!</a></li></ol></li><li class=\"chapter-item expanded\"><a href=\"ch10-00-generics.html\"><strong aria-hidden=\"true\">10.</strong> Generic Types, Traits, and Lifetimes</a></li><li><ol class=\"section\"><li class=\"chapter-item expanded\"><a href=\"ch10-01-syntax.html\"><strong aria-hidden=\"true\">10.1.</strong> Generic Data Types</a></li><li class=\"chapter-item expanded\"><a href=\"ch10-02-traits.html\"><strong aria-hidden=\"true\">10.2.</strong> Traits: Defining Shared Behavior</a></li><li class=\"chapter-item expanded\"><a href=\"ch10-03-lifetime-syntax.html\"><strong aria-hidden=\"true\">10.3.</strong> Validating References with Lifetimes</a></li></ol></li><li class=\"chapter-item expanded\"><a href=\"ch11-00-testing.html\"><strong aria-hidden=\"true\">11.</strong> Writing Automated Tests</a></li><li><ol class=\"section\"><li class=\"chapter-item expanded\"><a href=\"ch11-01-writing-tests.html\"><strong aria-hidden=\"true\">11.1.</strong> How to Write Tests</a></li><li class=\"chapter-item expanded\"><a href=\"ch11-02-running-tests.html\"><strong aria-hidden=\"true\">11.2.</strong> Controlling How Tests Are Run</a></li><li class=\"chapter-item expanded\"><a href=\"ch11-03-test-organization.html\"><strong aria-hidden=\"true\">11.3.</strong> Test Organization</a></li></ol></li><li class=\"chapter-item expanded\"><a href=\"ch12-00-an-io-project.html\"><strong aria-hidden=\"true\">12.</strong> An I/O Project: Building a Command Line Program</a></li><li><ol class=\"section\"><li class=\"chapter-item expanded\"><a href=\"ch12-01-accepting-command-line-arguments.html\"><strong aria-hidden=\"true\">12.1.</strong> Accepting Command Line Arguments</a></li><li class=\"chapter-item expanded\"><a href=\"ch12-02-reading-a-file.html\"><strong aria-hidden=\"true\">12.2.</strong> Reading a File</a></li><li class=\"chapter-item expanded\"><a href=\"ch12-03-improving-error-handling-and-modularity.html\"><strong aria-hidden=\"true\">12.3.</strong> Refactoring to Improve Modularity and Error Handling</a></li><li class=\"chapter-item expanded\"><a href=\"ch12-04-testing-the-librarys-functionality.html\"><strong aria-hidden=\"true\">12.4.</strong> Developing the Libraryâs Functionality with Test Driven Development</a></li><li class=\"chapter-item expanded\"><a href=\"ch12-05-working-with-environment-variables.html\"><strong aria-hidden=\"true\">12.5.</strong> Working with Environment Variables</a></li><li class=\"chapter-item expanded\"><a href=\"ch12-06-writing-to-stderr-instead-of-stdout.html\"><strong aria-hidden=\"true\">12.6.</strong> Writing Error Messages to Standard Error Instead of Standard Output</a></li></ol></li><li class=\"chapter-item expanded\"><a href=\"ch13-00-functional-features.html\"><strong aria-hidden=\"true\">13.</strong> Functional Language Features: Iterators and Closures</a></li><li><ol class=\"section\"><li class=\"chapter-item expanded\"><a href=\"ch13-01-closures.html\"><strong aria-hidden=\"true\">13.1.</strong> Closures: Anonymous Functions that Capture Their Environment</a></li><li class=\"chapter-item expanded\"><a href=\"ch13-02-iterators.html\"><strong aria-hidden=\"true\">13.2.</strong> Processing a Series of Items with Iterators</a></li><li class=\"chapter-item expanded\"><a href=\"ch13-03-improving-our-io-project.html\"><strong aria-hidden=\"true\">13.3.</strong> Improving Our I/O Project</a></li><li class=\"chapter-item expanded\"><a href=\"ch13-04-performance.html\"><strong aria-hidden=\"true\">13.4.</strong> Comparing Performance: Loops vs. Iterators</a></li></ol></li><li class=\"chapter-item expanded\"><a href=\"ch14-00-more-about-cargo.html\"><strong aria-hidden=\"true\">14.</strong> More about Cargo and Crates.io</a></li><li><ol class=\"section\"><li class=\"chapter-item expanded\"><a href=\"ch14-01-release-profiles.html\"><strong aria-hidden=\"true\">14.1.</strong> Customizing Builds with Release Profiles</a></li><li class=\"chapter-item expanded\"><a href=\"ch14-02-publishing-to-crates-io.html\"><strong aria-hidden=\"true\">14.2.</strong> Publishing a Crate to Crates.io</a></li><li class=\"chapter-item expanded\"><a href=\"ch14-03-cargo-workspaces.html\"><strong aria-hidden=\"true\">14.3.</strong> Cargo Workspaces</a></li><li class=\"chapter-item expanded\"><a href=\"ch14-04-installing-binaries.html\"><strong aria-hidden=\"true\">14.4.</strong> Installing Binaries from Crates.io with cargo install</a></li><li class=\"chapter-item expanded\"><a href=\"ch14-05-extending-cargo.html\"><strong aria-hidden=\"true\">14.5.</strong> Extending Cargo with Custom Commands</a></li></ol></li><li class=\"chapter-item expanded\"><a href=\"ch15-00-smart-pointers.html\"><strong aria-hidden=\"true\">15.</strong> Smart Pointers</a></li><li><ol class=\"section\"><li class=\"chapter-item expanded\"><a href=\"ch15-01-box.html\"><strong aria-hidden=\"true\">15.1.</strong> Using Box&lt;T&gt; to Point to Data on the Heap</a></li><li class=\"chapter-item expanded\"><a href=\"ch15-02-deref.html\"><strong aria-hidden=\"true\">15.2.</strong> Treating Smart Pointers Like Regular References with the Deref Trait</a></li><li class=\"chapter-item expanded\"><a href=\"ch15-03-drop.html\"><strong aria-hidden=\"true\">15.3.</strong> Running Code on Cleanup with the Drop Trait</a></li><li class=\"chapter-item expanded\"><a href=\"ch15-04-rc.html\"><strong aria-hidden=\"true\">15.4.</strong> Rc&lt;T&gt;, the Reference Counted Smart Pointer</a></li><li class=\"chapter-item expanded\"><a href=\"ch15-05-interior-mutability.html\"><strong aria-hidden=\"true\">15.5.</strong> RefCell&lt;T&gt; and the Interior Mutability Pattern</a></li><li class=\"chapter-item expanded\"><a href=\"ch15-06-reference-cycles.html\"><strong aria-hidden=\"true\">15.6.</strong> Reference Cycles Can Leak Memory</a></li></ol></li><li class=\"chapter-item expanded\"><a href=\"ch16-00-concurrency.html\"><strong aria-hidden=\"true\">16.</strong> Fearless Concurrency</a></li><li><ol class=\"section\"><li class=\"chapter-item expanded\"><a href=\"ch16-01-threads.html\"><strong aria-hidden=\"true\">16.1.</strong> Using Threads to Run Code Simultaneously</a></li><li class=\"chapter-item expanded\"><a href=\"ch16-02-message-passing.html\"><strong aria-hidden=\"true\">16.2.</strong> Using Message Passing to Transfer Data Between Threads</a></li><li class=\"chapter-item expanded\"><a href=\"ch16-03-shared-state.html\"><strong aria-hidden=\"true\">16.3.</strong> Shared-State Concurrency</a></li><li class=\"chapter-item expanded\"><a href=\"ch16-04-extensible-concurrency-sync-and-send.html\"><strong aria-hidden=\"true\">16.4.</strong> Extensible Concurrency with the Sync and Send Traits</a></li></ol></li><li class=\"chapter-item expanded\"><a href=\"ch17-00-oop.html\"><strong aria-hidden=\"true\">17.</strong> Object Oriented Programming Features of Rust</a></li><li><ol class=\"section\"><li class=\"chapter-item expanded\"><a href=\"ch17-01-what-is-oo.html\"><strong aria-hidden=\"true\">17.1.</strong> Characteristics of Object-Oriented Languages</a></li><li class=\"chapter-item expanded\"><a href=\"ch17-02-trait-objects.html\"><strong aria-hidden=\"true\">17.2.</strong> Using Trait Objects That Allow for Values of Different Types</a></li><li class=\"chapter-item expanded\"><a href=\"ch17-03-oo-design-patterns.html\"><strong aria-hidden=\"true\">17.3.</strong> Implementing an Object-Oriented Design Pattern</a></li></ol></li><li class=\"chapter-item expanded\"><a href=\"ch18-00-patterns.html\"><strong aria-hidden=\"true\">18.</strong> Patterns and Matching</a></li><li><ol class=\"section\"><li class=\"chapter-item expanded\"><a href=\"ch18-01-all-the-places-for-patterns.html\"><strong aria-hidden=\"true\">18.1.</strong> All the Places Patterns Can Be Used</a></li><li class=\"chapter-item expanded\"><a href=\"ch18-02-refutability.html\"><strong aria-hidden=\"true\">18.2.</strong> Refutability: Whether a Pattern Might Fail to Match</a></li><li class=\"chapter-item expanded\"><a href=\"ch18-03-pattern-syntax.html\"><strong aria-hidden=\"true\">18.3.</strong> Pattern Syntax</a></li></ol></li><li class=\"chapter-item expanded\"><a href=\"ch19-00-advanced-features.html\"><strong aria-hidden=\"true\">19.</strong> Advanced Features</a></li><li><ol class=\"section\"><li class=\"chapter-item expanded\"><a href=\"ch19-01-unsafe-rust.html\"><strong aria-hidden=\"true\">19.1.</strong> Unsafe Rust</a></li><li class=\"chapter-item expanded\"><a href=\"ch19-03-advanced-traits.html\"><strong aria-hidden=\"true\">19.2.</strong> Advanced Traits</a></li><li class=\"chapter-item expanded\"><a href=\"ch19-04-advanced-types.html\"><strong aria-hidden=\"true\">19.3.</strong> Advanced Types</a></li><li class=\"chapter-item expanded\"><a href=\"ch19-05-advanced-functions-and-closures.html\"><strong aria-hidden=\"true\">19.4.</strong> Advanced Functions and Closures</a></li><li class=\"chapter-item expanded\"><a href=\"ch19-06-macros.html\"><strong aria-hidden=\"true\">19.5.</strong> Macros</a></li></ol></li><li class=\"chapter-item expanded\"><a href=\"ch20-00-final-project-a-web-server.html\"><strong aria-hidden=\"true\">20.</strong> Final Project: Building a Multithreaded Web Server</a></li><li><ol class=\"section\"><li class=\"chapter-item expanded\"><a href=\"ch20-01-single-threaded.html\"><strong aria-hidden=\"true\">20.1.</strong> Building a Single-Threaded Web Server</a></li><li class=\"chapter-item expanded\"><a href=\"ch20-02-multithreaded.html\"><strong aria-hidden=\"true\">20.2.</strong> Turning Our Single-Threaded Server into a Multithreaded Server</a></li><li class=\"chapter-item expanded\"><a href=\"ch20-03-graceful-shutdown-and-cleanup.html\"><strong aria-hidden=\"true\">20.3.</strong> Graceful Shutdown and Cleanup</a></li></ol></li><li class=\"chapter-item expanded\"><a href=\"appendix-00.html\"><strong aria-hidden=\"true\">21.</strong> Appendix</a></li><li><ol class=\"section\"><li class=\"chapter-item expanded\"><a href=\"appendix-01-keywords.html\"><strong aria-hidden=\"true\">21.1.</strong> A - Keywords</a></li><li class=\"chapter-item expanded\"><a href=\"appendix-02-operators.html\"><strong aria-hidden=\"true\">21.2.</strong> B - Operators and Symbols</a></li><li class=\"chapter-item expanded\"><a href=\"appendix-03-derivable-traits.html\"><strong aria-hidden=\"true\">21.3.</strong> C - Derivable Traits</a></li><li class=\"chapter-item expanded\"><a href=\"appendix-04-useful-development-tools.html\"><strong aria-hidden=\"true\">21.4.</strong> D - Useful Development Tools</a></li><li class=\"chapter-item expanded\"><a href=\"appendix-05-editions.html\"><strong aria-hidden=\"true\">21.5.</strong> E - Editions</a></li><li class=\"chapter-item expanded\"><a href=\"appendix-06-translation.html\"><strong aria-hidden=\"true\">21.6.</strong> F - Translations of the Book</a></li><li class=\"chapter-item expanded\"><a href=\"appendix-07-nightly-rust.html\"><strong aria-hidden=\"true\">21.7.</strong> G - How Rust is Made and âNightly Rustâ</a></li></ol></li></ol>\n",
       "</div>\n",
       "<div class=\"sidebar-resize-handle\" id=\"sidebar-resize-handle\">\n",
       "<div class=\"sidebar-resize-indicator\"></div>\n",
       "</div>\n",
       "</nav>\n",
       "<!-- Track and set sidebar scroll position -->\n",
       "<script>\n",
       "            var sidebarScrollbox = document.querySelector('#sidebar .sidebar-scrollbox');\n",
       "            sidebarScrollbox.addEventListener('click', function(e) {\n",
       "                if (e.target.tagName === 'A') {\n",
       "                    sessionStorage.setItem('sidebar-scroll', sidebarScrollbox.scrollTop);\n",
       "                }\n",
       "            }, { passive: true });\n",
       "            var sidebarScrollTop = sessionStorage.getItem('sidebar-scroll');\n",
       "            sessionStorage.removeItem('sidebar-scroll');\n",
       "            if (sidebarScrollTop) {\n",
       "                // preserve sidebar scroll position when navigating via links within sidebar\n",
       "                sidebarScrollbox.scrollTop = sidebarScrollTop;\n",
       "            } else {\n",
       "                // scroll sidebar to current active section when navigating via \"next/previous chapter\" buttons\n",
       "                var activeSection = document.querySelector('#sidebar .active');\n",
       "                if (activeSection) {\n",
       "                    activeSection.scrollIntoView({ block: 'center' });\n",
       "                }\n",
       "            }\n",
       "        </script>\n",
       "<div class=\"page-wrapper\" id=\"page-wrapper\">\n",
       "<div class=\"page\">\n",
       "<div id=\"menu-bar-hover-placeholder\"></div>\n",
       "<div class=\"menu-bar sticky\" id=\"menu-bar\">\n",
       "<div class=\"left-buttons\">\n",
       "<label aria-controls=\"sidebar\" aria-label=\"Toggle Table of Contents\" class=\"icon-button\" for=\"sidebar-toggle-anchor\" id=\"sidebar-toggle\" title=\"Toggle Table of Contents\">\n",
       "<i class=\"fa fa-bars\"></i>\n",
       "</label>\n",
       "<button aria-controls=\"theme-list\" aria-expanded=\"false\" aria-haspopup=\"true\" aria-label=\"Change theme\" class=\"icon-button\" id=\"theme-toggle\" title=\"Change theme\" type=\"button\">\n",
       "<i class=\"fa fa-paint-brush\"></i>\n",
       "</button>\n",
       "<ul aria-label=\"Themes\" class=\"theme-popup\" id=\"theme-list\" role=\"menu\">\n",
       "<li role=\"none\"><button class=\"theme\" id=\"light\" role=\"menuitem\">Light</button></li>\n",
       "<li role=\"none\"><button class=\"theme\" id=\"rust\" role=\"menuitem\">Rust</button></li>\n",
       "<li role=\"none\"><button class=\"theme\" id=\"coal\" role=\"menuitem\">Coal</button></li>\n",
       "<li role=\"none\"><button class=\"theme\" id=\"navy\" role=\"menuitem\">Navy</button></li>\n",
       "<li role=\"none\"><button class=\"theme\" id=\"ayu\" role=\"menuitem\">Ayu</button></li>\n",
       "</ul>\n",
       "<button aria-controls=\"searchbar\" aria-expanded=\"false\" aria-keyshortcuts=\"S\" aria-label=\"Toggle Searchbar\" class=\"icon-button\" id=\"search-toggle\" title=\"Search. (Shortkey: s)\" type=\"button\">\n",
       "<i class=\"fa fa-search\"></i>\n",
       "</button>\n",
       "</div>\n",
       "<h1 class=\"menu-title\">The Rust Programming Language</h1>\n",
       "<div class=\"right-buttons\">\n",
       "<a aria-label=\"Print this book\" href=\"print.html\" title=\"Print this book\">\n",
       "<i class=\"fa fa-print\" id=\"print-button\"></i>\n",
       "</a>\n",
       "<a aria-label=\"Git repository\" href=\"https://github.com/rust-lang/book\" title=\"Git repository\">\n",
       "<i class=\"fa fa-github\" id=\"git-repository-button\"></i>\n",
       "</a>\n",
       "</div>\n",
       "</div>\n",
       "<div class=\"hidden\" id=\"search-wrapper\">\n",
       "<form class=\"searchbar-outer\" id=\"searchbar-outer\">\n",
       "<input aria-controls=\"searchresults-outer\" aria-describedby=\"searchresults-header\" id=\"searchbar\" name=\"searchbar\" placeholder=\"Search this book ...\" type=\"search\"/>\n",
       "</form>\n",
       "<div class=\"searchresults-outer hidden\" id=\"searchresults-outer\">\n",
       "<div class=\"searchresults-header\" id=\"searchresults-header\"></div>\n",
       "<ul id=\"searchresults\">\n",
       "</ul>\n",
       "</div>\n",
       "</div>\n",
       "<!-- Apply ARIA attributes after the sidebar and the sidebar toggle button are added to the DOM -->\n",
       "<script>\n",
       "                    document.getElementById('sidebar-toggle').setAttribute('aria-expanded', sidebar === 'visible');\n",
       "                    document.getElementById('sidebar').setAttribute('aria-hidden', sidebar !== 'visible');\n",
       "                    Array.from(document.querySelectorAll('#sidebar a')).forEach(function(link) {\n",
       "                        link.setAttribute('tabIndex', sidebar === 'visible' ? 0 : -1);\n",
       "                    });\n",
       "                </script>\n",
       "<div class=\"content\" id=\"content\">\n",
       "<main>\n",
       "<h1 id=\"the-rust-programming-language\"><a class=\"header\" href=\"#the-rust-programming-language\">The Rust Programming Language</a></h1>\n",
       "<p><em>by Steve Klabnik and Carol Nichols, with contributions from the Rust Community</em></p>\n",
       "<p>This version of the text assumes youâre using Rust 1.81.0 (released 2024-09-04)\n",
       "or later. See the <a href=\"ch01-01-installation.html\">âInstallationâ section of Chapter 1</a><!-- ignore -->\n",
       "to install or update Rust.</p>\n",
       "<p>The HTML format is available online at\n",
       "<a href=\"https://doc.rust-lang.org/stable/book/\">https://doc.rust-lang.org/stable/book/</a>\n",
       "and offline with installations of Rust made with <code>rustup</code>; run <code>rustup doc --book</code> to open.</p>\n",
       "<p>Several community <a href=\"appendix-06-translation.html\">translations</a> are also available.</p>\n",
       "<p>This text is available in <a href=\"https://nostarch.com/rust-programming-language-2nd-edition\">paperback and ebook format from No Starch\n",
       "Press</a>.</p>\n",
       "<blockquote>\n",
       "<p><strong>ð¨ Want a more interactive learning experience? Try out a different version\n",
       "of the Rust Book, featuring: quizzes, highlighting, visualizations, and\n",
       "more</strong>: <a href=\"https://rust-book.cs.brown.edu\">https://rust-book.cs.brown.edu</a></p>\n",
       "</blockquote>\n",
       "</main>\n",
       "<nav aria-label=\"Page navigation\" class=\"nav-wrapper\">\n",
       "<!-- Mobile navigation buttons -->\n",
       "<a aria-keyshortcuts=\"Right\" aria-label=\"Next chapter\" class=\"mobile-nav-chapters next\" href=\"foreword.html\" rel=\"next prefetch\" title=\"Next chapter\">\n",
       "<i class=\"fa fa-angle-right\"></i>\n",
       "</a>\n",
       "<div style=\"clear: both\"></div>\n",
       "</nav>\n",
       "</div>\n",
       "</div>\n",
       "<nav aria-label=\"Page navigation\" class=\"nav-wide-wrapper\">\n",
       "<a aria-keyshortcuts=\"Right\" aria-label=\"Next chapter\" class=\"nav-chapters next\" href=\"foreword.html\" rel=\"next prefetch\" title=\"Next chapter\">\n",
       "<i class=\"fa fa-angle-right\"></i>\n",
       "</a>\n",
       "</nav>\n",
       "</div>\n",
       "<script>\n",
       "            window.playground_copyable = true;\n",
       "        </script>\n",
       "<script src=\"elasticlunr.min.js\"></script>\n",
       "<script src=\"mark.min.js\"></script>\n",
       "<script src=\"searcher.js\"></script>\n",
       "<script src=\"clipboard.min.js\"></script>\n",
       "<script src=\"highlight.js\"></script>\n",
       "<script src=\"book.js\"></script>\n",
       "<!-- Custom JS scripts -->\n",
       "<script src=\"ferris.js\"></script>\n",
       "</div>\n",
       "</body>\n",
       "</html>"
      ]
     },
     "execution_count": 122,
     "metadata": {},
     "output_type": "execute_result"
    }
   ],
   "source": [
    "soup"
   ]
  },
  {
   "cell_type": "code",
   "execution_count": 128,
   "id": "a8fe6179-06f5-46a2-925b-aeda0286c681",
   "metadata": {},
   "outputs": [
    {
     "data": {
      "text/plain": [
       "[<p><em>by Steve Klabnik and Carol Nichols, with contributions from the Rust Community</em></p>,\n",
       " <p>This version of the text assumes youâre using Rust 1.81.0 (released 2024-09-04)\n",
       " or later. See the <a href=\"ch01-01-installation.html\">âInstallationâ section of Chapter 1</a><!-- ignore -->\n",
       " to install or update Rust.</p>,\n",
       " <p>The HTML format is available online at\n",
       " <a href=\"https://doc.rust-lang.org/stable/book/\">https://doc.rust-lang.org/stable/book/</a>\n",
       " and offline with installations of Rust made with <code>rustup</code>; run <code>rustup doc --book</code> to open.</p>,\n",
       " <p>Several community <a href=\"appendix-06-translation.html\">translations</a> are also available.</p>,\n",
       " <p>This text is available in <a href=\"https://nostarch.com/rust-programming-language-2nd-edition\">paperback and ebook format from No Starch\n",
       " Press</a>.</p>,\n",
       " <p><strong>ð¨ Want a more interactive learning experience? Try out a different version\n",
       " of the Rust Book, featuring: quizzes, highlighting, visualizations, and\n",
       " more</strong>: <a href=\"https://rust-book.cs.brown.edu\">https://rust-book.cs.brown.edu</a></p>]"
      ]
     },
     "execution_count": 128,
     "metadata": {},
     "output_type": "execute_result"
    }
   ],
   "source": [
    "soup.select(\"p\")"
   ]
  },
  {
   "cell_type": "code",
   "execution_count": 124,
   "id": "a4a2460c-7541-439c-ba5a-dba3044e0ef4",
   "metadata": {},
   "outputs": [
    {
     "data": {
      "text/plain": [
       "'by Steve Klabnik and Carol Nichols, with contributions from the Rust Community'"
      ]
     },
     "execution_count": 124,
     "metadata": {},
     "output_type": "execute_result"
    }
   ],
   "source": [
    "soup.select(\"p\")[0].getText()"
   ]
  },
  {
   "cell_type": "code",
   "execution_count": 130,
   "id": "914e5a59-58d3-4a51-b429-92471c9d628b",
   "metadata": {},
   "outputs": [
    {
     "data": {
      "text/plain": [
       "'This version of the text assumes youâ\\x80\\x99re using Rust 1.81.0 (released 2024-09-04)\\nor later. See the â\\x80\\x9cInstallationâ\\x80\\x9d section of Chapter 1\\nto install or update Rust.'"
      ]
     },
     "execution_count": 130,
     "metadata": {},
     "output_type": "execute_result"
    }
   ],
   "source": [
    "soup.select(\"p\")[1].getText()"
   ]
  },
  {
   "cell_type": "code",
   "execution_count": 132,
   "id": "fb9a5392-2594-40d2-a994-6ca746f1f942",
   "metadata": {},
   "outputs": [
    {
     "data": {
      "text/plain": [
       "'The Rust Programming Language - The Rust Programming Language'"
      ]
     },
     "execution_count": 132,
     "metadata": {},
     "output_type": "execute_result"
    }
   ],
   "source": [
    "soup.select(\"title\")[0].getText()"
   ]
  },
  {
   "cell_type": "code",
   "execution_count": null,
   "id": "9698e99b-b3b8-48ac-866f-76496624f88d",
   "metadata": {},
   "outputs": [],
   "source": []
  }
 ],
 "metadata": {
  "kernelspec": {
   "display_name": "Python 3 (ipykernel)",
   "language": "python",
   "name": "python3"
  },
  "language_info": {
   "codemirror_mode": {
    "name": "ipython",
    "version": 3
   },
   "file_extension": ".py",
   "mimetype": "text/x-python",
   "name": "python",
   "nbconvert_exporter": "python",
   "pygments_lexer": "ipython3",
   "version": "3.11.8"
  }
 },
 "nbformat": 4,
 "nbformat_minor": 5
}
