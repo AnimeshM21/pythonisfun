{
 "cells": [
  {
   "cell_type": "code",
   "execution_count": 15,
   "id": "d3d0a590-4077-48d5-8d6b-03560dd28ccd",
   "metadata": {},
   "outputs": [],
   "source": [
    "\n",
    "def user_choice():\n",
    "    acceptable_values = ['0','1','2','3','4','5','6','7','8','9','10']\n",
    "    choice = \"WRONG\"\n",
    "    while choice.isdigit() == False:\n",
    "        print(\"Enter input of correct data-type\") \n",
    "        choice = input(\"Please enter a number between 1 and 10\")\n",
    "    if choice in acceptable_values:\n",
    "        return int(choice)\n",
    "    else:\n",
    "        print(\"Enter value in the correct range\")\n",
    "        choice = input(\"Please enter a number between 1 and 10\")"
   ]
  },
  {
   "cell_type": "code",
   "execution_count": 17,
   "id": "369bdbe4-b233-4f85-96fe-ac11382a6a16",
   "metadata": {},
   "outputs": [
    {
     "name": "stdout",
     "output_type": "stream",
     "text": [
      "Enter input of correct data-type\n"
     ]
    },
    {
     "name": "stdin",
     "output_type": "stream",
     "text": [
      "Please enter a number between 1 and 10 32\n"
     ]
    },
    {
     "name": "stdout",
     "output_type": "stream",
     "text": [
      "Enter value in the correct range\n"
     ]
    },
    {
     "name": "stdin",
     "output_type": "stream",
     "text": [
      "Please enter a number between 1 and 10 1\n"
     ]
    }
   ],
   "source": [
    "user_choice()\n"
   ]
  },
  {
   "cell_type": "code",
   "execution_count": null,
   "id": "e8b994aa-203c-405c-bc22-d0b317fa5b74",
   "metadata": {},
   "outputs": [],
   "source": []
  }
 ],
 "metadata": {
  "kernelspec": {
   "display_name": "Python 3 (ipykernel)",
   "language": "python",
   "name": "python3"
  },
  "language_info": {
   "codemirror_mode": {
    "name": "ipython",
    "version": 3
   },
   "file_extension": ".py",
   "mimetype": "text/x-python",
   "name": "python",
   "nbconvert_exporter": "python",
   "pygments_lexer": "ipython3",
   "version": "3.11.7"
  }
 },
 "nbformat": 4,
 "nbformat_minor": 5
}
