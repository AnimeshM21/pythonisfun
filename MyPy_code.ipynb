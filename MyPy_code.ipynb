{
 "cells": [
  {
   "cell_type": "code",
   "execution_count": 2,
   "id": "d3d0a590-4077-48d5-8d6b-03560dd28ccd",
   "metadata": {},
   "outputs": [],
   "source": [
    "def user_choice():\n",
    "    choice = \"WRONG\"\n",
    "    acceptable_values = range(0,10)\n",
    "    within_range = False\n",
    "    \n",
    "    \n",
    "    while choice.isdigit() == False or within_range == False:\n",
    "         \n",
    "        choice = input(\"Please enter a number between 1 and 10\")\n",
    "        \n",
    "        if choice.isdigit() == False:\n",
    "            print(\"Sorry this is not a digit!!\")\n",
    "            \n",
    "        if choice.isdigit() == True:\n",
    "            if int(choice) in acceptable_values:\n",
    "                within_range = True\n",
    "            else:\n",
    "                print(\"Sorry you are out of the acceptable range\")\n",
    "                within_range = False\n",
    "    return int(choice)"
   ]
  },
  {
   "cell_type": "markdown",
   "id": "b690a7b1-ffed-43e3-9f0a-f0258ae2432a",
   "metadata": {},
   "source": [
    "## user_choice()\n"
   ]
  },
  {
   "cell_type": "code",
   "execution_count": 3,
   "id": "e8b994aa-203c-405c-bc22-d0b317fa5b74",
   "metadata": {},
   "outputs": [
    {
     "name": "stdout",
     "output_type": "stream",
     "text": [
      "Sorry this is not a digit!!\n",
      "Sorry this is not a digit!!\n",
      "Sorry this is not a digit!!\n",
      "Sorry this is not a digit!!\n",
      "Sorry this is not a digit!!\n",
      "Sorry this is not a digit!!\n",
      "Sorry this is not a digit!!\n",
      "Sorry this is not a digit!!\n",
      "Sorry this is not a digit!!\n",
      "Sorry this is not a digit!!\n",
      "Sorry this is not a digit!!\n"
     ]
    },
    {
     "data": {
      "text/plain": [
       "4"
      ]
     },
     "execution_count": 3,
     "metadata": {},
     "output_type": "execute_result"
    }
   ],
   "source": [
    "user_choice()\n"
   ]
  },
  {
   "cell_type": "code",
   "execution_count": 4,
   "id": "826d2583-90ec-45f9-9672-af26bced70a6",
   "metadata": {},
   "outputs": [],
   "source": [
    "row1 = [' ',' ',' ']\n",
    "row2 = [' ',' ',' ']\n",
    "row3 = [' ',' ',' ']"
   ]
  },
  {
   "cell_type": "code",
   "execution_count": 5,
   "id": "b626aea6-5041-48e2-9fcc-4ed037172690",
   "metadata": {},
   "outputs": [],
   "source": [
    "\n",
    "def display(x,y,z):\n",
    "    print(x)\n",
    "    print(y)\n",
    "    print(z)"
   ]
  },
  {
   "cell_type": "code",
   "execution_count": 6,
   "id": "07b6e38c-b4f9-4c94-b8c8-23874c3dde1c",
   "metadata": {},
   "outputs": [
    {
     "name": "stdout",
     "output_type": "stream",
     "text": [
      "[' ', ' ', ' ']\n",
      "[' ', ' ', ' ']\n",
      "[' ', ' ', ' ']\n"
     ]
    }
   ],
   "source": [
    "display(row1,row2,row3)\n"
   ]
  },
  {
   "cell_type": "code",
   "execution_count": 7,
   "id": "0c27f575-5afe-4b82-b036-4dc106cc82b7",
   "metadata": {},
   "outputs": [],
   "source": [
    "row2[1] = 'X'"
   ]
  },
  {
   "cell_type": "code",
   "execution_count": 8,
   "id": "601d733e-ffcd-4386-bb14-4bd121d6a878",
   "metadata": {},
   "outputs": [
    {
     "data": {
      "text/plain": [
       "'4'"
      ]
     },
     "execution_count": 8,
     "metadata": {},
     "output_type": "execute_result"
    }
   ],
   "source": [
    "input(\"Please enter a value\")\n"
   ]
  },
  {
   "cell_type": "code",
   "execution_count": 9,
   "id": "a0d2a0fa-cca9-4acb-9cd0-05ca6c382d5c",
   "metadata": {},
   "outputs": [],
   "source": [
    "row1[0] = int(input(\"Please enter a value at pos-7\"))"
   ]
  },
  {
   "cell_type": "code",
   "execution_count": 10,
   "id": "da39fab5-51ce-4062-8195-cc3af8f58c27",
   "metadata": {},
   "outputs": [],
   "source": [
    "row1[1] = int(input(\"Please enter a value at pos-8\"))"
   ]
  },
  {
   "cell_type": "code",
   "execution_count": 36,
   "id": "d7d92dd7-63a5-4752-81b1-eec0a455bd92",
   "metadata": {},
   "outputs": [
    {
     "name": "stdout",
     "output_type": "stream",
     "text": [
      "Please enter a value at pos-9 9\n"
     ]
    }
   ],
   "source": [
    "row1[2] = int(input(\"Please enter a value at pos-9\"))"
   ]
  },
  {
   "cell_type": "code",
   "execution_count": 38,
   "id": "1b783992-a14f-4268-8a11-570026599785",
   "metadata": {},
   "outputs": [
    {
     "name": "stdout",
     "output_type": "stream",
     "text": [
      "[7, 8, 9]\n",
      "[' ', 'X', ' ']\n",
      "[' ', ' ', ' ']\n"
     ]
    }
   ],
   "source": [
    "display(row1,row2,row3)"
   ]
  },
  {
   "cell_type": "code",
   "execution_count": 40,
   "id": "49530967-f619-4ef0-8711-5761dace75e7",
   "metadata": {},
   "outputs": [
    {
     "name": "stdout",
     "output_type": "stream",
     "text": [
      "Please enter a value at pos-4 4\n",
      "Please enter a value at pos-5 5\n",
      "Please enter a value at pos-6 6\n"
     ]
    }
   ],
   "source": [
    "row2[0] = int(input(\"Please enter a value at pos-4\"))\n",
    "row2[1] = int(input(\"Please enter a value at pos-5\"))\n",
    "row2[2] = int(input(\"Please enter a value at pos-6\"))"
   ]
  },
  {
   "cell_type": "code",
   "execution_count": 42,
   "id": "090908d0-ef4d-4027-8a0d-c873906fdb3a",
   "metadata": {},
   "outputs": [
    {
     "name": "stdout",
     "output_type": "stream",
     "text": [
      "[7, 8, 9]\n",
      "[4, 5, 6]\n",
      "[' ', ' ', ' ']\n"
     ]
    }
   ],
   "source": [
    "display(row1,row2,row3)\n"
   ]
  },
  {
   "cell_type": "code",
   "execution_count": 44,
   "id": "7e747389-3db6-4958-9e0c-85cab3dc9a12",
   "metadata": {},
   "outputs": [
    {
     "name": "stdout",
     "output_type": "stream",
     "text": [
      "Please enter a value at pos-1 1\n",
      "Please enter a value at pos-2 2\n",
      "Please enter a value at pos-3 3\n"
     ]
    }
   ],
   "source": [
    "row3[0] = int(input(\"Please enter a value at pos-1\"))\n",
    "row3[1] = int(input(\"Please enter a value at pos-2\"))\n",
    "row3[2] = int(input(\"Please enter a value at pos-3\"))"
   ]
  },
  {
   "cell_type": "code",
   "execution_count": 46,
   "id": "c4000a14-c530-492a-ab89-f962c3510760",
   "metadata": {},
   "outputs": [
    {
     "name": "stdout",
     "output_type": "stream",
     "text": [
      "[7, 8, 9]\n",
      "[4, 5, 6]\n",
      "[1, 2, 3]\n"
     ]
    }
   ],
   "source": [
    "display(row1,row2,row3)"
   ]
  },
  {
   "cell_type": "code",
   "execution_count": 1,
   "id": "d405fc50-4814-4686-a8a6-f46cca5d6263",
   "metadata": {},
   "outputs": [],
   "source": [
    "my_list = [1,2,3,4,5]\n",
    "\n",
    "def user_choice():\n",
    "    choice = \"WRONG\"\n",
    "    acceptable_values = range(0,10)\n",
    "    within_range = False\n",
    "    \n",
    "     \n",
    "    while choice.isdigit() == False or within_range == False :\n",
    "        pos = input(\"Enter index position at which you want this number\")\n",
    "        choice = input(\"Please enter a number between 1 and 10\")\n",
    "        \n",
    "        if choice.isdigit() == False :\n",
    "            print(\"Sorry this is not a digit!!\")\n",
    "            \n",
    "        if choice.isdigit() == True :\n",
    "            if int(choice) in acceptable_values:\n",
    "                within_range = True\n",
    "            else:\n",
    "                print(\"Sorry you are out of the acceptable range\")\n",
    "                within_range = False\n",
    "    ls_pos = int(pos)\n",
    "    user_choice = int(choice)\n",
    "    my_list[ls_pos] = user_choice\n",
    "    playcont()\n",
    "    return my_list\n",
    "    \n",
    "\n"
   ]
  },
  {
   "cell_type": "code",
   "execution_count": 3,
   "id": "f5009d30-0bc6-4dce-87fa-56d3bd625e67",
   "metadata": {},
   "outputs": [],
   "source": [
    "def playcont():\n",
    "    option = 'wrong'\n",
    "  \n",
    "    while option not in ['Y' , 'N']:\n",
    "\n",
    "        option = input(\"Enter Y to continue playing and N to end the game\")\n",
    "\n",
    "        if option not in ['Y' , 'N']:\n",
    "            clear_output()\n",
    "\n",
    "            print(\"Enter either Y or N\")\n",
    "\n",
    "    if option == 'Y':\n",
    "        print(my_list)\n",
    "        user_choice()\n",
    "        \n",
    "    else:\n",
    "        return my_list\n",
    "\n",
    "    "
   ]
  },
  {
   "cell_type": "code",
   "execution_count": 5,
   "id": "2030191f-8467-4345-8f0a-481ed0149fab",
   "metadata": {},
   "outputs": [
    {
     "name": "stdout",
     "output_type": "stream",
     "text": [
      "Enter index position at which you want this number 2\n",
      "Please enter a number between 1 and 10 2\n",
      "Enter Y to continue playing and N to end the game Y\n"
     ]
    },
    {
     "name": "stdout",
     "output_type": "stream",
     "text": [
      "[1, 2, 2, 4, 5]\n"
     ]
    },
    {
     "name": "stdout",
     "output_type": "stream",
     "text": [
      "Enter index position at which you want this number 3\n",
      "Please enter a number between 1 and 10 3\n",
      "Enter Y to continue playing and N to end the game N\n"
     ]
    },
    {
     "data": {
      "text/plain": [
       "[1, 2, 2, 3, 5]"
      ]
     },
     "execution_count": 5,
     "metadata": {},
     "output_type": "execute_result"
    }
   ],
   "source": [
    "user_choice()\n"
   ]
  },
  {
   "cell_type": "code",
   "execution_count": 9,
   "id": "c5107ee5-2ad0-4295-85b8-71a6ba72bd83",
   "metadata": {},
   "outputs": [],
   "source": [
    "# Object Oriented programming"
   ]
  },
  {
   "cell_type": "code",
   "execution_count": 91,
   "id": "784f6492-95db-49c8-8847-37db7ea55b03",
   "metadata": {},
   "outputs": [],
   "source": [
    "class Dog():\n",
    "    #Class Object Attribute which is same for any instance of the class\n",
    "    \n",
    "    species = 'mammal'\n",
    "    def __init__(self,breed,age):\n",
    "        self.breed = breed\n",
    "        self.age = age\n",
    "\n",
    "    def bark(self):\n",
    "        print('Woof. I am {} years old'.format(self.age))"
   ]
  },
  {
   "cell_type": "code",
   "execution_count": 93,
   "id": "7c119d28-ebc4-4ffc-81cd-ff1f6fb00ef4",
   "metadata": {},
   "outputs": [],
   "source": [
    "my_dog = Dog(breed = 'lab', age = 20)"
   ]
  },
  {
   "cell_type": "code",
   "execution_count": 95,
   "id": "800c8c4a-1a55-47d6-951c-fa3bff401599",
   "metadata": {},
   "outputs": [
    {
     "data": {
      "text/plain": [
       "'lab'"
      ]
     },
     "execution_count": 95,
     "metadata": {},
     "output_type": "execute_result"
    }
   ],
   "source": [
    "my_dog.breed\n",
    "\n"
   ]
  },
  {
   "cell_type": "code",
   "execution_count": 97,
   "id": "efd23893-f145-48f2-a434-d5e59b3029ad",
   "metadata": {},
   "outputs": [
    {
     "data": {
      "text/plain": [
       "'mammal'"
      ]
     },
     "execution_count": 97,
     "metadata": {},
     "output_type": "execute_result"
    }
   ],
   "source": [
    "my_dog.species"
   ]
  },
  {
   "cell_type": "code",
   "execution_count": 99,
   "id": "08fd998c-710b-4801-8c14-5580a212054f",
   "metadata": {},
   "outputs": [
    {
     "name": "stdout",
     "output_type": "stream",
     "text": [
      "Woof. I am 20 years old\n"
     ]
    }
   ],
   "source": [
    "my_dog.bark()\n"
   ]
  },
  {
   "cell_type": "code",
   "execution_count": 24,
   "id": "bee6b55a-7737-45e7-b713-3086ee688c7b",
   "metadata": {},
   "outputs": [],
   "source": [
    "\n",
    "class Circle():\n",
    "    pi = 3.141\n",
    "    def __init__(self,radius=1):\n",
    "        self.radius = radius\n",
    "        self.area = radius * radius * self.pi\n",
    "    #Method\n",
    "    def circumference(self):\n",
    "        return self.radius * self.pi * 2\n",
    "        "
   ]
  },
  {
   "cell_type": "code",
   "execution_count": 25,
   "id": "361feeb7-3192-48b7-b54e-31707b8a5fff",
   "metadata": {},
   "outputs": [],
   "source": [
    "my_circle = Circle(9)"
   ]
  },
  {
   "cell_type": "code",
   "execution_count": 26,
   "id": "91174f8b-123a-4408-83bf-60cfdcf4b713",
   "metadata": {},
   "outputs": [
    {
     "data": {
      "text/plain": [
       "3.141"
      ]
     },
     "execution_count": 26,
     "metadata": {},
     "output_type": "execute_result"
    }
   ],
   "source": [
    "my_circle.pi"
   ]
  },
  {
   "cell_type": "code",
   "execution_count": 30,
   "id": "bb6ed97e-64aa-4de6-b457-bbd73d4007a0",
   "metadata": {},
   "outputs": [
    {
     "data": {
      "text/plain": [
       "9"
      ]
     },
     "execution_count": 30,
     "metadata": {},
     "output_type": "execute_result"
    }
   ],
   "source": [
    "my_circle.radius"
   ]
  },
  {
   "cell_type": "code",
   "execution_count": 31,
   "id": "a4cdda1a-f5ae-4e46-bcfe-a84513acd7b1",
   "metadata": {},
   "outputs": [
    {
     "data": {
      "text/plain": [
       "56.538"
      ]
     },
     "execution_count": 31,
     "metadata": {},
     "output_type": "execute_result"
    }
   ],
   "source": [
    "my_circle.circumference()"
   ]
  },
  {
   "cell_type": "code",
   "execution_count": 32,
   "id": "a3491008-fb67-41f5-9496-af9b67664dd5",
   "metadata": {},
   "outputs": [
    {
     "data": {
      "text/plain": [
       "254.421"
      ]
     },
     "execution_count": 32,
     "metadata": {},
     "output_type": "execute_result"
    }
   ],
   "source": [
    "my_circle.area"
   ]
  },
  {
   "cell_type": "code",
   "execution_count": 34,
   "id": "652a6696",
   "metadata": {},
   "outputs": [],
   "source": [
    "class Animal():\n",
    "    def __init__(self):\n",
    "        print(\"Animal Created\")\n",
    "        \n",
    "    def who_am_i(self):\n",
    "        print(\"I am an animal\")\n",
    "        \n",
    "    def eat(self):\n",
    "        print(\"I am eating\")"
   ]
  },
  {
   "cell_type": "code",
   "execution_count": 35,
   "id": "785fb77d",
   "metadata": {},
   "outputs": [
    {
     "name": "stdout",
     "output_type": "stream",
     "text": [
      "Animal Created\n"
     ]
    }
   ],
   "source": [
    "myanimal = Animal()"
   ]
  },
  {
   "cell_type": "code",
   "execution_count": 40,
   "id": "c11552d6",
   "metadata": {},
   "outputs": [],
   "source": [
    "class Dog(Animal):\n",
    "    def __init__(self):\n",
    "        Animal.__init__(self)\n",
    "        print(\"Dog Created\")\n",
    "        \n",
    "    def who_am_i(self):\n",
    "        print(\"I am a dog\")\n"
   ]
  },
  {
   "cell_type": "code",
   "execution_count": 41,
   "id": "90cce1a7",
   "metadata": {},
   "outputs": [
    {
     "name": "stdout",
     "output_type": "stream",
     "text": [
      "Animal Created\n",
      "Dog Created\n"
     ]
    }
   ],
   "source": [
    "mydog = Dog()"
   ]
  },
  {
   "cell_type": "code",
   "execution_count": 42,
   "id": "1010ce16",
   "metadata": {},
   "outputs": [
    {
     "name": "stdout",
     "output_type": "stream",
     "text": [
      "I am eating\n"
     ]
    }
   ],
   "source": [
    "mydog.eat()"
   ]
  },
  {
   "cell_type": "code",
   "execution_count": 43,
   "id": "19b92312",
   "metadata": {},
   "outputs": [
    {
     "name": "stdout",
     "output_type": "stream",
     "text": [
      "I am a dog\n"
     ]
    }
   ],
   "source": [
    "mydog.who_am_i()"
   ]
  },
  {
   "cell_type": "code",
   "execution_count": 44,
   "id": "ef19db7b",
   "metadata": {},
   "outputs": [],
   "source": [
    "class Dog():\n",
    "    def __init__(self,name):\n",
    "        self.name = name\n",
    "        \n",
    "    def speak(self):\n",
    "        return self.name + \" says woof\""
   ]
  },
  {
   "cell_type": "code",
   "execution_count": 45,
   "id": "69bd187e",
   "metadata": {},
   "outputs": [],
   "source": [
    "class Cat():\n",
    "    def __init__(self,name):\n",
    "        self.name = name\n",
    "        \n",
    "    def speak(self):\n",
    "        return self.name + \" says meow\""
   ]
  },
  {
   "cell_type": "code",
   "execution_count": 46,
   "id": "e6db21e0",
   "metadata": {},
   "outputs": [],
   "source": [
    "doggo = Dog(\"Doggo\")\n",
    "kitty = Cat(\"Kitty\")"
   ]
  },
  {
   "cell_type": "code",
   "execution_count": 47,
   "id": "9eb3dd60",
   "metadata": {},
   "outputs": [
    {
     "name": "stdout",
     "output_type": "stream",
     "text": [
      "Doggo says woof\n",
      "Kitty says meow\n"
     ]
    }
   ],
   "source": [
    "print(doggo.speak())\n",
    "print(kitty.speak())"
   ]
  },
  {
   "cell_type": "code",
   "execution_count": 48,
   "id": "0225ba3e",
   "metadata": {},
   "outputs": [
    {
     "name": "stdout",
     "output_type": "stream",
     "text": [
      "<class '__main__.Dog'>\n",
      "Doggo says woof\n",
      "<class '__main__.Cat'>\n",
      "Kitty says meow\n"
     ]
    }
   ],
   "source": [
    "for pet in [doggo,kitty]:\n",
    "    print(type(pet))\n",
    "    print(pet.speak())"
   ]
  },
  {
   "cell_type": "code",
   "execution_count": 49,
   "id": "568eb5a9",
   "metadata": {},
   "outputs": [],
   "source": [
    "def pet_speak(pet):\n",
    "    print(pet.speak())"
   ]
  },
  {
   "cell_type": "code",
   "execution_count": 50,
   "id": "499620b3",
   "metadata": {},
   "outputs": [
    {
     "name": "stdout",
     "output_type": "stream",
     "text": [
      "Doggo says woof\n"
     ]
    }
   ],
   "source": [
    "pet_speak(doggo)\n"
   ]
  },
  {
   "cell_type": "code",
   "execution_count": 51,
   "id": "4a354ef9",
   "metadata": {},
   "outputs": [
    {
     "name": "stdout",
     "output_type": "stream",
     "text": [
      "Kitty says meow\n"
     ]
    }
   ],
   "source": [
    "pet_speak(kitty)\n"
   ]
  },
  {
   "cell_type": "code",
   "execution_count": 1,
   "id": "29aaedd7",
   "metadata": {},
   "outputs": [],
   "source": [
    "class Cat():\n",
    "    def __init__(self,name,color):\n",
    "        self.name = name\n",
    "        \n",
    "    def speak(self):\n",
    "        return self.name + \" says meow\"\n",
    "\n",
    "    def shade(self):\n",
    "              return self.color + \"is my fur colour\""
   ]
  },
  {
   "cell_type": "code",
   "execution_count": 7,
   "id": "0861d82c-4861-4e49-8e19-ffb9204a7965",
   "metadata": {},
   "outputs": [],
   "source": [
    "mycat = Cat('kitty','red')\n"
   ]
  },
  {
   "cell_type": "code",
   "execution_count": 15,
   "id": "d3a33cae-7d40-4677-bbcf-08b3457e22ea",
   "metadata": {},
   "outputs": [
    {
     "ename": "AttributeError",
     "evalue": "'Cat' object has no attribute 'color'",
     "output_type": "error",
     "traceback": [
      "\u001b[0;31m---------------------------------------------------------------------------\u001b[0m",
      "\u001b[0;31mAttributeError\u001b[0m                            Traceback (most recent call last)",
      "Cell \u001b[0;32mIn[15], line 1\u001b[0m\n\u001b[0;32m----> 1\u001b[0m mycat\u001b[38;5;241m.\u001b[39mshade()\n",
      "Cell \u001b[0;32mIn[1], line 9\u001b[0m, in \u001b[0;36mCat.shade\u001b[0;34m(self)\u001b[0m\n\u001b[1;32m      8\u001b[0m \u001b[38;5;28;01mdef\u001b[39;00m \u001b[38;5;21mshade\u001b[39m(\u001b[38;5;28mself\u001b[39m):\n\u001b[0;32m----> 9\u001b[0m           \u001b[38;5;28;01mreturn\u001b[39;00m \u001b[38;5;28mself\u001b[39m\u001b[38;5;241m.\u001b[39mcolor \u001b[38;5;241m+\u001b[39m \u001b[38;5;124m\"\u001b[39m\u001b[38;5;124mis my fur colour\u001b[39m\u001b[38;5;124m\"\u001b[39m\n",
      "\u001b[0;31mAttributeError\u001b[0m: 'Cat' object has no attribute 'color'"
     ]
    }
   ],
   "source": [
    "mycat.shade()\n"
   ]
  },
  {
   "cell_type": "code",
   "execution_count": null,
   "id": "7a00a193-c8c3-44aa-a10c-2991e25a046b",
   "metadata": {},
   "outputs": [],
   "source": [
    "#Modules are just .py files which are called and used in other .py files"
   ]
  },
  {
   "cell_type": "code",
   "execution_count": 1,
   "id": "cb9d1286-8982-4e96-8a4e-e25d0662133e",
   "metadata": {},
   "outputs": [
    {
     "name": "stdout",
     "output_type": "stream",
     "text": [
      "Requirement already satisfied: openpyxl in /Users/animeshmishra/Downloads/anaconda3/lib/python3.11/site-packages (3.0.10)\n",
      "Requirement already satisfied: et_xmlfile in /Users/animeshmishra/Downloads/anaconda3/lib/python3.11/site-packages (from openpyxl) (1.1.0)\n",
      "Note: you may need to restart the kernel to use updated packages.\n"
     ]
    }
   ],
   "source": [
    "pip install openpyxl\n"
   ]
  },
  {
   "cell_type": "code",
   "execution_count": 7,
   "id": "76b5aa98-4aae-4471-a565-2d3d0a0bc927",
   "metadata": {},
   "outputs": [],
   "source": [
    "import openpyxl\n",
    "\n"
   ]
  },
  {
   "cell_type": "code",
   "execution_count": 24,
   "id": "157a8715-9e64-4ac7-9c58-9c8a30301e97",
   "metadata": {},
   "outputs": [],
   "source": [
    "#Functions and Methods Homework"
   ]
  },
  {
   "cell_type": "code",
   "execution_count": 54,
   "id": "97839eea-5b19-4808-afaa-51cb4efa1f49",
   "metadata": {},
   "outputs": [],
   "source": [
    "def strcheck(s):\n",
    "    ucount = 0\n",
    "    lcount = 0\n",
    "    for i in range(len(s)):\n",
    "        if s[i].isupper():\n",
    "            ucount+=1\n",
    "        else:\n",
    "            lcount+=1\n",
    "        \n",
    "    print(\"Lowercase character count:\",lcount)\n",
    "    print(\"Uppercase character count:\",ucount)"
   ]
  },
  {
   "cell_type": "code",
   "execution_count": 58,
   "id": "dacb61db-9ab0-4c86-a21c-f9a2bc396414",
   "metadata": {},
   "outputs": [
    {
     "name": "stdout",
     "output_type": "stream",
     "text": [
      "Lowercase character count: 6\n",
      "Uppercase character count: 2\n"
     ]
    }
   ],
   "source": [
    "strcheck('AnimeshM')\n",
    "         "
   ]
  },
  {
   "cell_type": "code",
   "execution_count": 82,
   "id": "0a3b30e2-644c-4de5-a4f9-577210cfe751",
   "metadata": {},
   "outputs": [],
   "source": [
    "def unique(mylist):\n",
    "    \n",
    "    uniquelist = set(mylist)\n",
    "    print(uniquelist)\n",
    "    "
   ]
  },
  {
   "cell_type": "code",
   "execution_count": 90,
   "id": "67f38c57-2417-456c-84dc-1f3029d86ccb",
   "metadata": {},
   "outputs": [
    {
     "name": "stdout",
     "output_type": "stream",
     "text": [
      "{1, 3, 4, 5, 6, 7, 786, 636}\n"
     ]
    }
   ],
   "source": [
    "unique([1,1,1,1,3,4,636,7,786,5,6])\n"
   ]
  },
  {
   "cell_type": "code",
   "execution_count": 113,
   "id": "99c72dd3-352a-4560-9282-d4845d61b588",
   "metadata": {},
   "outputs": [],
   "source": [
    "def multiply(mylist):\n",
    "    i=0\n",
    "    product =1\n",
    "    for i in range(len(mylist)):\n",
    "        product = product*mylist[i]\n",
    "        \n",
    "    print(product)"
   ]
  },
  {
   "cell_type": "markdown",
   "id": "fbb90d87-242e-4082-aba6-7dac28a65ca3",
   "metadata": {},
   "source": [
    "multiply([1,2,3,4])\n"
   ]
  },
  {
   "cell_type": "code",
   "execution_count": 118,
   "id": "598730d2-a462-4446-80e2-156d8fc63544",
   "metadata": {},
   "outputs": [
    {
     "name": "stdout",
     "output_type": "stream",
     "text": [
      "120\n"
     ]
    }
   ],
   "source": [
    "multiply([1,2,3,4,5])"
   ]
  },
  {
   "cell_type": "markdown",
   "id": "34f32281-751c-4598-bb0e-1793423dd931",
   "metadata": {},
   "source": []
  },
  {
   "cell_type": "code",
   "execution_count": 130,
   "id": "7981f154-00c3-487b-80bd-a957639b253a",
   "metadata": {},
   "outputs": [],
   "source": [
    "def palindrome(s):\n",
    "    if s == s[::-1]:\n",
    "        return True\n",
    "    else:\n",
    "        return False\n",
    "            \n",
    "        "
   ]
  },
  {
   "cell_type": "code",
   "execution_count": 138,
   "id": "b02c5b9b-1137-45db-baa9-9f6550c6e524",
   "metadata": {},
   "outputs": [
    {
     "data": {
      "text/plain": [
       "True"
      ]
     },
     "execution_count": 138,
     "metadata": {},
     "output_type": "execute_result"
    }
   ],
   "source": [
    "palindrome('AniinA')\n",
    "\n"
   ]
  },
  {
   "cell_type": "code",
   "execution_count": null,
   "id": "4b07474a-5229-4338-b2e7-d8ae0bfa235c",
   "metadata": {},
   "outputs": [],
   "source": [
    "import string\n",
    "\n",
    "def ispangram = "
   ]
  },
  {
   "cell_type": "code",
   "execution_count": null,
   "id": "2d963ea0-179f-4e12-8bdc-afc70aac1400",
   "metadata": {},
   "outputs": [],
   "source": []
  },
  {
   "cell_type": "code",
   "execution_count": null,
   "id": "0a622010-d64f-47ec-8cf3-b198f97582e0",
   "metadata": {},
   "outputs": [],
   "source": []
  },
  {
   "cell_type": "code",
   "execution_count": null,
   "id": "8d5e2b55-4aad-4e44-b1ab-52d58fce291a",
   "metadata": {},
   "outputs": [],
   "source": []
  },
  {
   "cell_type": "code",
   "execution_count": null,
   "id": "4f55a7ac-b889-4304-a3bd-de4da5ab9e9f",
   "metadata": {},
   "outputs": [],
   "source": []
  },
  {
   "cell_type": "code",
   "execution_count": null,
   "id": "12b03806-8693-4849-b6a4-10b2b1fba772",
   "metadata": {},
   "outputs": [],
   "source": []
  }
 ],
 "metadata": {
  "kernelspec": {
   "display_name": "Python 3 (ipykernel)",
   "language": "python",
   "name": "python3"
  },
  "language_info": {
   "codemirror_mode": {
    "name": "ipython",
    "version": 3
   },
   "file_extension": ".py",
   "mimetype": "text/x-python",
   "name": "python",
   "nbconvert_exporter": "python",
   "pygments_lexer": "ipython3",
   "version": "3.11.7"
  }
 },
 "nbformat": 4,
 "nbformat_minor": 5
}
